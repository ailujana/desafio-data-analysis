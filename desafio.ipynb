{
 "cells": [
  {
   "cell_type": "markdown",
   "metadata": {},
   "source": [
    "## Executando este notebook\n",
    "\n",
    "\n",
    "Na primeira vez, será necessário criar um ambiente virtual para o python. Uma das formas é utilizando o `venv`\n",
    "\n",
    "```bash\n",
    "python3 -m venv .venv\n",
    "```\n",
    "\n",
    "Posteriormente, basta ativar o ambiente e instalar dependências\n",
    "\n",
    "```bash\n",
    "source .venv/bin/activate\n",
    "pip3 install jupyter pandas pandasql\n",
    "```\n",
    "\n",
    "Agora basta iniciar o jupyter notebook quando desejado! Lembrando que é necessário que o ambiente virtual tenha sido ativado previamente.\n",
    "```bash\n",
    "jupyter notebook\n",
    "```"
   ]
  },
  {
   "cell_type": "markdown",
   "metadata": {
    "id": "Vn9SdorTzzzR"
   },
   "source": [
    "## Exemplo de importação de dados"
   ]
  },
  {
   "cell_type": "code",
   "execution_count": 9,
   "metadata": {},
   "outputs": [],
   "source": [
    "dataset_path = './Brasileirao_Dataset'"
   ]
  },
  {
   "cell_type": "code",
   "execution_count": 10,
   "metadata": {
    "colab": {
     "base_uri": "https://localhost:8080/",
     "height": 1000
    },
    "id": "wGWLxZ3zvMMH",
    "outputId": "417b7f80-f6ea-433e-e731-d5fad2acfb9d"
   },
   "outputs": [
    {
     "data": {
      "text/html": [
       "<div>\n",
       "<style scoped>\n",
       "    .dataframe tbody tr th:only-of-type {\n",
       "        vertical-align: middle;\n",
       "    }\n",
       "\n",
       "    .dataframe tbody tr th {\n",
       "        vertical-align: top;\n",
       "    }\n",
       "\n",
       "    .dataframe thead th {\n",
       "        text-align: right;\n",
       "    }\n",
       "</style>\n",
       "<table border=\"1\" class=\"dataframe\">\n",
       "  <thead>\n",
       "    <tr style=\"text-align: right;\">\n",
       "      <th></th>\n",
       "      <th>ID</th>\n",
       "      <th>rodata</th>\n",
       "      <th>data</th>\n",
       "      <th>hora</th>\n",
       "      <th>mandante</th>\n",
       "      <th>visitante</th>\n",
       "      <th>formacao_mandante</th>\n",
       "      <th>formacao_visitante</th>\n",
       "      <th>tecnico_mandante</th>\n",
       "      <th>tecnico_visitante</th>\n",
       "      <th>vencedor</th>\n",
       "      <th>arena</th>\n",
       "      <th>mandante_Placar</th>\n",
       "      <th>visitante_Placar</th>\n",
       "      <th>mandante_Estado</th>\n",
       "      <th>visitante_Estado</th>\n",
       "    </tr>\n",
       "  </thead>\n",
       "  <tbody>\n",
       "    <tr>\n",
       "      <th>0</th>\n",
       "      <td>1</td>\n",
       "      <td>1</td>\n",
       "      <td>29/03/2003</td>\n",
       "      <td>16:00</td>\n",
       "      <td>Guarani</td>\n",
       "      <td>Vasco</td>\n",
       "      <td>NaN</td>\n",
       "      <td>NaN</td>\n",
       "      <td>NaN</td>\n",
       "      <td>NaN</td>\n",
       "      <td>Guarani</td>\n",
       "      <td>Brinco de Ouro</td>\n",
       "      <td>4</td>\n",
       "      <td>2</td>\n",
       "      <td>SP</td>\n",
       "      <td>RJ</td>\n",
       "    </tr>\n",
       "    <tr>\n",
       "      <th>1</th>\n",
       "      <td>2</td>\n",
       "      <td>1</td>\n",
       "      <td>29/03/2003</td>\n",
       "      <td>16:00</td>\n",
       "      <td>Athletico-PR</td>\n",
       "      <td>Gremio</td>\n",
       "      <td>NaN</td>\n",
       "      <td>NaN</td>\n",
       "      <td>NaN</td>\n",
       "      <td>NaN</td>\n",
       "      <td>Athletico-PR</td>\n",
       "      <td>Arena da Baixada</td>\n",
       "      <td>2</td>\n",
       "      <td>0</td>\n",
       "      <td>PR</td>\n",
       "      <td>RS</td>\n",
       "    </tr>\n",
       "    <tr>\n",
       "      <th>2</th>\n",
       "      <td>3</td>\n",
       "      <td>1</td>\n",
       "      <td>30/03/2003</td>\n",
       "      <td>16:00</td>\n",
       "      <td>Flamengo</td>\n",
       "      <td>Coritiba</td>\n",
       "      <td>NaN</td>\n",
       "      <td>NaN</td>\n",
       "      <td>NaN</td>\n",
       "      <td>NaN</td>\n",
       "      <td>-</td>\n",
       "      <td>Maracanã</td>\n",
       "      <td>1</td>\n",
       "      <td>1</td>\n",
       "      <td>RJ</td>\n",
       "      <td>PR</td>\n",
       "    </tr>\n",
       "    <tr>\n",
       "      <th>3</th>\n",
       "      <td>4</td>\n",
       "      <td>1</td>\n",
       "      <td>30/03/2003</td>\n",
       "      <td>16:00</td>\n",
       "      <td>Goias</td>\n",
       "      <td>Paysandu</td>\n",
       "      <td>NaN</td>\n",
       "      <td>NaN</td>\n",
       "      <td>NaN</td>\n",
       "      <td>NaN</td>\n",
       "      <td>-</td>\n",
       "      <td>Serra Dourada</td>\n",
       "      <td>2</td>\n",
       "      <td>2</td>\n",
       "      <td>GO</td>\n",
       "      <td>PA</td>\n",
       "    </tr>\n",
       "    <tr>\n",
       "      <th>4</th>\n",
       "      <td>5</td>\n",
       "      <td>1</td>\n",
       "      <td>30/03/2003</td>\n",
       "      <td>16:00</td>\n",
       "      <td>Internacional</td>\n",
       "      <td>Ponte Preta</td>\n",
       "      <td>NaN</td>\n",
       "      <td>NaN</td>\n",
       "      <td>NaN</td>\n",
       "      <td>NaN</td>\n",
       "      <td>-</td>\n",
       "      <td>Beira Rio</td>\n",
       "      <td>1</td>\n",
       "      <td>1</td>\n",
       "      <td>RS</td>\n",
       "      <td>SP</td>\n",
       "    </tr>\n",
       "  </tbody>\n",
       "</table>\n",
       "</div>"
      ],
      "text/plain": [
       "   ID  rodata        data   hora       mandante    visitante  \\\n",
       "0   1       1  29/03/2003  16:00        Guarani        Vasco   \n",
       "1   2       1  29/03/2003  16:00   Athletico-PR       Gremio   \n",
       "2   3       1  30/03/2003  16:00       Flamengo     Coritiba   \n",
       "3   4       1  30/03/2003  16:00          Goias     Paysandu   \n",
       "4   5       1  30/03/2003  16:00  Internacional  Ponte Preta   \n",
       "\n",
       "  formacao_mandante formacao_visitante tecnico_mandante tecnico_visitante  \\\n",
       "0               NaN                NaN              NaN               NaN   \n",
       "1               NaN                NaN              NaN               NaN   \n",
       "2               NaN                NaN              NaN               NaN   \n",
       "3               NaN                NaN              NaN               NaN   \n",
       "4               NaN                NaN              NaN               NaN   \n",
       "\n",
       "       vencedor              arena  mandante_Placar  visitante_Placar  \\\n",
       "0       Guarani     Brinco de Ouro                4                 2   \n",
       "1  Athletico-PR   Arena da Baixada                2                 0   \n",
       "2             -           Maracanã                1                 1   \n",
       "3             -      Serra Dourada                2                 2   \n",
       "4             -          Beira Rio                1                 1   \n",
       "\n",
       "  mandante_Estado visitante_Estado  \n",
       "0              SP               RJ  \n",
       "1              PR               RS  \n",
       "2              RJ               PR  \n",
       "3              GO               PA  \n",
       "4              RS               SP  "
      ]
     },
     "metadata": {},
     "output_type": "display_data"
    },
    {
     "name": "stdout",
     "output_type": "stream",
     "text": [
      "<class 'pandas.core.frame.DataFrame'>\n",
      "RangeIndex: 8785 entries, 0 to 8784\n",
      "Data columns (total 16 columns):\n",
      " #   Column              Non-Null Count  Dtype \n",
      "---  ------              --------------  ----- \n",
      " 0   ID                  8785 non-null   int64 \n",
      " 1   rodata              8785 non-null   int64 \n",
      " 2   data                8785 non-null   object\n",
      " 3   hora                8785 non-null   object\n",
      " 4   mandante            8785 non-null   object\n",
      " 5   visitante           8785 non-null   object\n",
      " 6   formacao_mandante   3810 non-null   object\n",
      " 7   formacao_visitante  3810 non-null   object\n",
      " 8   tecnico_mandante    4175 non-null   object\n",
      " 9   tecnico_visitante   4175 non-null   object\n",
      " 10  vencedor            8785 non-null   object\n",
      " 11  arena               8785 non-null   object\n",
      " 12  mandante_Placar     8785 non-null   int64 \n",
      " 13  visitante_Placar    8785 non-null   int64 \n",
      " 14  mandante_Estado     8785 non-null   object\n",
      " 15  visitante_Estado    8785 non-null   object\n",
      "dtypes: int64(4), object(12)\n",
      "memory usage: 1.1+ MB\n"
     ]
    },
    {
     "data": {
      "text/html": [
       "<div>\n",
       "<style scoped>\n",
       "    .dataframe tbody tr th:only-of-type {\n",
       "        vertical-align: middle;\n",
       "    }\n",
       "\n",
       "    .dataframe tbody tr th {\n",
       "        vertical-align: top;\n",
       "    }\n",
       "\n",
       "    .dataframe thead th {\n",
       "        text-align: right;\n",
       "    }\n",
       "</style>\n",
       "<table border=\"1\" class=\"dataframe\">\n",
       "  <thead>\n",
       "    <tr style=\"text-align: right;\">\n",
       "      <th></th>\n",
       "      <th>partida_id</th>\n",
       "      <th>rodata</th>\n",
       "      <th>clube</th>\n",
       "      <th>chutes</th>\n",
       "      <th>chutes_no_alvo</th>\n",
       "      <th>posse_de_bola</th>\n",
       "      <th>passes</th>\n",
       "      <th>precisao_passes</th>\n",
       "      <th>faltas</th>\n",
       "      <th>cartao_amarelo</th>\n",
       "      <th>cartao_vermelho</th>\n",
       "      <th>impedimentos</th>\n",
       "      <th>escanteios</th>\n",
       "    </tr>\n",
       "  </thead>\n",
       "  <tbody>\n",
       "    <tr>\n",
       "      <th>0</th>\n",
       "      <td>1</td>\n",
       "      <td>1</td>\n",
       "      <td>Vasco</td>\n",
       "      <td>0</td>\n",
       "      <td>0</td>\n",
       "      <td>NaN</td>\n",
       "      <td>0</td>\n",
       "      <td>NaN</td>\n",
       "      <td>0</td>\n",
       "      <td>0</td>\n",
       "      <td>0</td>\n",
       "      <td>0</td>\n",
       "      <td>0</td>\n",
       "    </tr>\n",
       "    <tr>\n",
       "      <th>1</th>\n",
       "      <td>1</td>\n",
       "      <td>1</td>\n",
       "      <td>Guarani</td>\n",
       "      <td>0</td>\n",
       "      <td>0</td>\n",
       "      <td>NaN</td>\n",
       "      <td>0</td>\n",
       "      <td>NaN</td>\n",
       "      <td>0</td>\n",
       "      <td>0</td>\n",
       "      <td>0</td>\n",
       "      <td>0</td>\n",
       "      <td>0</td>\n",
       "    </tr>\n",
       "    <tr>\n",
       "      <th>2</th>\n",
       "      <td>2</td>\n",
       "      <td>1</td>\n",
       "      <td>Athletico-PR</td>\n",
       "      <td>0</td>\n",
       "      <td>0</td>\n",
       "      <td>NaN</td>\n",
       "      <td>0</td>\n",
       "      <td>NaN</td>\n",
       "      <td>0</td>\n",
       "      <td>0</td>\n",
       "      <td>0</td>\n",
       "      <td>0</td>\n",
       "      <td>0</td>\n",
       "    </tr>\n",
       "    <tr>\n",
       "      <th>3</th>\n",
       "      <td>2</td>\n",
       "      <td>1</td>\n",
       "      <td>Gremio</td>\n",
       "      <td>0</td>\n",
       "      <td>0</td>\n",
       "      <td>NaN</td>\n",
       "      <td>0</td>\n",
       "      <td>NaN</td>\n",
       "      <td>0</td>\n",
       "      <td>0</td>\n",
       "      <td>0</td>\n",
       "      <td>0</td>\n",
       "      <td>0</td>\n",
       "    </tr>\n",
       "    <tr>\n",
       "      <th>4</th>\n",
       "      <td>3</td>\n",
       "      <td>1</td>\n",
       "      <td>Flamengo</td>\n",
       "      <td>0</td>\n",
       "      <td>0</td>\n",
       "      <td>NaN</td>\n",
       "      <td>0</td>\n",
       "      <td>NaN</td>\n",
       "      <td>0</td>\n",
       "      <td>0</td>\n",
       "      <td>0</td>\n",
       "      <td>0</td>\n",
       "      <td>0</td>\n",
       "    </tr>\n",
       "  </tbody>\n",
       "</table>\n",
       "</div>"
      ],
      "text/plain": [
       "   partida_id  rodata         clube  chutes  chutes_no_alvo posse_de_bola  \\\n",
       "0           1       1         Vasco       0               0           NaN   \n",
       "1           1       1       Guarani       0               0           NaN   \n",
       "2           2       1  Athletico-PR       0               0           NaN   \n",
       "3           2       1        Gremio       0               0           NaN   \n",
       "4           3       1      Flamengo       0               0           NaN   \n",
       "\n",
       "   passes precisao_passes  faltas  cartao_amarelo  cartao_vermelho  \\\n",
       "0       0             NaN       0               0                0   \n",
       "1       0             NaN       0               0                0   \n",
       "2       0             NaN       0               0                0   \n",
       "3       0             NaN       0               0                0   \n",
       "4       0             NaN       0               0                0   \n",
       "\n",
       "   impedimentos  escanteios  \n",
       "0             0           0  \n",
       "1             0           0  \n",
       "2             0           0  \n",
       "3             0           0  \n",
       "4             0           0  "
      ]
     },
     "metadata": {},
     "output_type": "display_data"
    },
    {
     "name": "stdout",
     "output_type": "stream",
     "text": [
      "<class 'pandas.core.frame.DataFrame'>\n",
      "RangeIndex: 17570 entries, 0 to 17569\n",
      "Data columns (total 13 columns):\n",
      " #   Column           Non-Null Count  Dtype \n",
      "---  ------           --------------  ----- \n",
      " 0   partida_id       17570 non-null  int64 \n",
      " 1   rodata           17570 non-null  int64 \n",
      " 2   clube            17570 non-null  object\n",
      " 3   chutes           17570 non-null  int64 \n",
      " 4   chutes_no_alvo   17570 non-null  int64 \n",
      " 5   posse_de_bola    6820 non-null   object\n",
      " 6   passes           17570 non-null  int64 \n",
      " 7   precisao_passes  4512 non-null   object\n",
      " 8   faltas           17570 non-null  int64 \n",
      " 9   cartao_amarelo   17570 non-null  int64 \n",
      " 10  cartao_vermelho  17570 non-null  int64 \n",
      " 11  impedimentos     17570 non-null  int64 \n",
      " 12  escanteios       17570 non-null  int64 \n",
      "dtypes: int64(10), object(3)\n",
      "memory usage: 1.7+ MB\n"
     ]
    },
    {
     "data": {
      "text/html": [
       "<div>\n",
       "<style scoped>\n",
       "    .dataframe tbody tr th:only-of-type {\n",
       "        vertical-align: middle;\n",
       "    }\n",
       "\n",
       "    .dataframe tbody tr th {\n",
       "        vertical-align: top;\n",
       "    }\n",
       "\n",
       "    .dataframe thead th {\n",
       "        text-align: right;\n",
       "    }\n",
       "</style>\n",
       "<table border=\"1\" class=\"dataframe\">\n",
       "  <thead>\n",
       "    <tr style=\"text-align: right;\">\n",
       "      <th></th>\n",
       "      <th>partida_id</th>\n",
       "      <th>rodata</th>\n",
       "      <th>clube</th>\n",
       "      <th>cartao</th>\n",
       "      <th>atleta</th>\n",
       "      <th>num_camisa</th>\n",
       "      <th>posicao</th>\n",
       "      <th>minuto</th>\n",
       "    </tr>\n",
       "  </thead>\n",
       "  <tbody>\n",
       "    <tr>\n",
       "      <th>0</th>\n",
       "      <td>4607</td>\n",
       "      <td>1</td>\n",
       "      <td>Figueirense</td>\n",
       "      <td>Amarelo</td>\n",
       "      <td>Paulo Roberto da Silva</td>\n",
       "      <td>28.0</td>\n",
       "      <td>NaN</td>\n",
       "      <td>66</td>\n",
       "    </tr>\n",
       "    <tr>\n",
       "      <th>1</th>\n",
       "      <td>4607</td>\n",
       "      <td>1</td>\n",
       "      <td>Figueirense</td>\n",
       "      <td>Amarelo</td>\n",
       "      <td>Thiago Heleno</td>\n",
       "      <td>4.0</td>\n",
       "      <td>Zagueiro</td>\n",
       "      <td>44</td>\n",
       "    </tr>\n",
       "    <tr>\n",
       "      <th>2</th>\n",
       "      <td>4608</td>\n",
       "      <td>1</td>\n",
       "      <td>Internacional</td>\n",
       "      <td>Amarelo</td>\n",
       "      <td>Andrés D'Alessandro</td>\n",
       "      <td>10.0</td>\n",
       "      <td>Meio-campo</td>\n",
       "      <td>72</td>\n",
       "    </tr>\n",
       "    <tr>\n",
       "      <th>3</th>\n",
       "      <td>4608</td>\n",
       "      <td>1</td>\n",
       "      <td>Vitoria</td>\n",
       "      <td>Amarelo</td>\n",
       "      <td>Marcelo Machado dos Santos</td>\n",
       "      <td>29.0</td>\n",
       "      <td>NaN</td>\n",
       "      <td>86</td>\n",
       "    </tr>\n",
       "    <tr>\n",
       "      <th>4</th>\n",
       "      <td>4608</td>\n",
       "      <td>1</td>\n",
       "      <td>Vitoria</td>\n",
       "      <td>Amarelo</td>\n",
       "      <td>Mansur</td>\n",
       "      <td>NaN</td>\n",
       "      <td>Zagueiro</td>\n",
       "      <td>10</td>\n",
       "    </tr>\n",
       "  </tbody>\n",
       "</table>\n",
       "</div>"
      ],
      "text/plain": [
       "   partida_id  rodata          clube   cartao                      atleta  \\\n",
       "0        4607       1    Figueirense  Amarelo      Paulo Roberto da Silva   \n",
       "1        4607       1    Figueirense  Amarelo               Thiago Heleno   \n",
       "2        4608       1  Internacional  Amarelo         Andrés D'Alessandro   \n",
       "3        4608       1        Vitoria  Amarelo  Marcelo Machado dos Santos   \n",
       "4        4608       1        Vitoria  Amarelo                      Mansur   \n",
       "\n",
       "   num_camisa     posicao minuto  \n",
       "0        28.0         NaN     66  \n",
       "1         4.0    Zagueiro     44  \n",
       "2        10.0  Meio-campo     72  \n",
       "3        29.0         NaN     86  \n",
       "4         NaN    Zagueiro     10  "
      ]
     },
     "metadata": {},
     "output_type": "display_data"
    },
    {
     "name": "stdout",
     "output_type": "stream",
     "text": [
      "<class 'pandas.core.frame.DataFrame'>\n",
      "RangeIndex: 20953 entries, 0 to 20952\n",
      "Data columns (total 8 columns):\n",
      " #   Column      Non-Null Count  Dtype  \n",
      "---  ------      --------------  -----  \n",
      " 0   partida_id  20953 non-null  int64  \n",
      " 1   rodata      20953 non-null  int64  \n",
      " 2   clube       20953 non-null  object \n",
      " 3   cartao      20953 non-null  object \n",
      " 4   atleta      20947 non-null  object \n",
      " 5   num_camisa  20567 non-null  float64\n",
      " 6   posicao     19755 non-null  object \n",
      " 7   minuto      20953 non-null  object \n",
      "dtypes: float64(1), int64(2), object(5)\n",
      "memory usage: 1.3+ MB\n"
     ]
    },
    {
     "data": {
      "text/html": [
       "<div>\n",
       "<style scoped>\n",
       "    .dataframe tbody tr th:only-of-type {\n",
       "        vertical-align: middle;\n",
       "    }\n",
       "\n",
       "    .dataframe tbody tr th {\n",
       "        vertical-align: top;\n",
       "    }\n",
       "\n",
       "    .dataframe thead th {\n",
       "        text-align: right;\n",
       "    }\n",
       "</style>\n",
       "<table border=\"1\" class=\"dataframe\">\n",
       "  <thead>\n",
       "    <tr style=\"text-align: right;\">\n",
       "      <th></th>\n",
       "      <th>partida_id</th>\n",
       "      <th>rodata</th>\n",
       "      <th>clube</th>\n",
       "      <th>atleta</th>\n",
       "      <th>minuto</th>\n",
       "      <th>tipo_de_gol</th>\n",
       "    </tr>\n",
       "  </thead>\n",
       "  <tbody>\n",
       "    <tr>\n",
       "      <th>0</th>\n",
       "      <td>4607</td>\n",
       "      <td>1</td>\n",
       "      <td>Fluminense</td>\n",
       "      <td>Rafael Sóbis</td>\n",
       "      <td>31</td>\n",
       "      <td>NaN</td>\n",
       "    </tr>\n",
       "    <tr>\n",
       "      <th>1</th>\n",
       "      <td>4607</td>\n",
       "      <td>1</td>\n",
       "      <td>Fluminense</td>\n",
       "      <td>Nirley da Silva Fonseca</td>\n",
       "      <td>59</td>\n",
       "      <td>Gol Contra</td>\n",
       "    </tr>\n",
       "    <tr>\n",
       "      <th>2</th>\n",
       "      <td>4607</td>\n",
       "      <td>1</td>\n",
       "      <td>Fluminense</td>\n",
       "      <td>Fred</td>\n",
       "      <td>45</td>\n",
       "      <td>Penalty</td>\n",
       "    </tr>\n",
       "    <tr>\n",
       "      <th>3</th>\n",
       "      <td>4608</td>\n",
       "      <td>1</td>\n",
       "      <td>Internacional</td>\n",
       "      <td>Charles Aránguiz</td>\n",
       "      <td>6</td>\n",
       "      <td>NaN</td>\n",
       "    </tr>\n",
       "    <tr>\n",
       "      <th>4</th>\n",
       "      <td>4612</td>\n",
       "      <td>1</td>\n",
       "      <td>Cruzeiro</td>\n",
       "      <td>Nílton Ferreira Júnior</td>\n",
       "      <td>63</td>\n",
       "      <td>NaN</td>\n",
       "    </tr>\n",
       "  </tbody>\n",
       "</table>\n",
       "</div>"
      ],
      "text/plain": [
       "   partida_id  rodata          clube                   atleta minuto  \\\n",
       "0        4607       1     Fluminense             Rafael Sóbis     31   \n",
       "1        4607       1     Fluminense  Nirley da Silva Fonseca     59   \n",
       "2        4607       1     Fluminense                     Fred     45   \n",
       "3        4608       1  Internacional         Charles Aránguiz      6   \n",
       "4        4612       1       Cruzeiro   Nílton Ferreira Júnior     63   \n",
       "\n",
       "  tipo_de_gol  \n",
       "0         NaN  \n",
       "1  Gol Contra  \n",
       "2     Penalty  \n",
       "3         NaN  \n",
       "4         NaN  "
      ]
     },
     "metadata": {},
     "output_type": "display_data"
    },
    {
     "name": "stdout",
     "output_type": "stream",
     "text": [
      "<class 'pandas.core.frame.DataFrame'>\n",
      "RangeIndex: 9861 entries, 0 to 9860\n",
      "Data columns (total 6 columns):\n",
      " #   Column       Non-Null Count  Dtype \n",
      "---  ------       --------------  ----- \n",
      " 0   partida_id   9861 non-null   int64 \n",
      " 1   rodata       9861 non-null   int64 \n",
      " 2   clube        9861 non-null   object\n",
      " 3   atleta       9861 non-null   object\n",
      " 4   minuto       9861 non-null   object\n",
      " 5   tipo_de_gol  1183 non-null   object\n",
      "dtypes: int64(2), object(4)\n",
      "memory usage: 462.4+ KB\n"
     ]
    }
   ],
   "source": [
    "import pandas as pd\n",
    "\n",
    "df_full = pd.read_csv(dataset_path + '/campeonato-brasileiro-full.csv')\n",
    "\n",
    "display(df_full.head())\n",
    "df_full.info()\n",
    "\n",
    "df_est = pd.read_csv(dataset_path + '/campeonato-brasileiro-estatisticas-full.csv')\n",
    "\n",
    "display(df_est.head())\n",
    "df_est.info()\n",
    "\n",
    "df_cartoes = pd.read_csv(dataset_path + '/campeonato-brasileiro-cartoes.csv')\n",
    "\n",
    "display(df_cartoes.head())\n",
    "df_cartoes.info()\n",
    "\n",
    "df_gols = pd.read_csv(dataset_path + '/campeonato-brasileiro-gols.csv')\n",
    "\n",
    "display(df_gols.head())\n",
    "df_gols.info()"
   ]
  },
  {
   "cell_type": "markdown",
   "metadata": {},
   "source": [
    "# Resolução Atividade 1\n",
    "## Objetivos\n",
    "- [ ] Identificar e remover todas as linhas (registros) que não tenham correspondência completa nas quatro bases para a mesma partida, mantendo apenas os registros de partidas que estão presentes nas três tabelas.\n",
    "\n",
    "- [ ] Ajustar os dados para que apenas essas partidas comuns sejam mantidas em cada base, garantindo a consistência entre estatísticas, cartões e gols.\n",
    "\n",
    "- [ ] Escolha a melhor maneira de lidar com tipos e valores NaN, realizar limpezas necessárias e remover informações irrelevantes."
   ]
  },
  {
   "cell_type": "markdown",
   "metadata": {},
   "source": [
    "# Etapa 1 - Atividade 1: Identificar e manter apenas partidas com correspondência completa nas quatro bases\n",
    "## Objetivo\n",
    "Garantir que apenas os registros de partidas que estão presentes nas quatro tabelas sejam considerados para análise.\n",
    "## Passos seguidos para a resolução da atividade:\n",
    "1. As colunas identificadoras (ID ou partida_id) foram unificadas.\n",
    "\n",
    "2. Depois, foi feita interseção dos IDs presentes nas quatro bases.\n",
    "\n",
    "3. Por último, foram filtrados apenas os registros com partida_id comuns entre as bases"
   ]
  },
  {
   "cell_type": "code",
   "execution_count": 11,
   "metadata": {},
   "outputs": [
    {
     "data": {
      "text/html": [
       "<div>\n",
       "<style scoped>\n",
       "    .dataframe tbody tr th:only-of-type {\n",
       "        vertical-align: middle;\n",
       "    }\n",
       "\n",
       "    .dataframe tbody tr th {\n",
       "        vertical-align: top;\n",
       "    }\n",
       "\n",
       "    .dataframe thead th {\n",
       "        text-align: right;\n",
       "    }\n",
       "</style>\n",
       "<table border=\"1\" class=\"dataframe\">\n",
       "  <thead>\n",
       "    <tr style=\"text-align: right;\">\n",
       "      <th></th>\n",
       "      <th>Base</th>\n",
       "      <th>IDs únicos</th>\n",
       "    </tr>\n",
       "  </thead>\n",
       "  <tbody>\n",
       "    <tr>\n",
       "      <th>0</th>\n",
       "      <td>full</td>\n",
       "      <td>8785</td>\n",
       "    </tr>\n",
       "    <tr>\n",
       "      <th>1</th>\n",
       "      <td>estatisticas</td>\n",
       "      <td>8785</td>\n",
       "    </tr>\n",
       "    <tr>\n",
       "      <th>2</th>\n",
       "      <td>cartoes</td>\n",
       "      <td>4116</td>\n",
       "    </tr>\n",
       "    <tr>\n",
       "      <th>3</th>\n",
       "      <td>gols</td>\n",
       "      <td>3819</td>\n",
       "    </tr>\n",
       "    <tr>\n",
       "      <th>4</th>\n",
       "      <td>comuns</td>\n",
       "      <td>3761</td>\n",
       "    </tr>\n",
       "  </tbody>\n",
       "</table>\n",
       "</div>"
      ],
      "text/plain": [
       "           Base  IDs únicos\n",
       "0          full        8785\n",
       "1  estatisticas        8785\n",
       "2       cartoes        4116\n",
       "3          gols        3819\n",
       "4        comuns        3761"
      ]
     },
     "execution_count": 11,
     "metadata": {},
     "output_type": "execute_result"
    }
   ],
   "source": [
    "df_full.rename(columns={\"ID\": \"partida_id\"}, inplace=True)\n",
    "\n",
    "# Coletar IDs únicos em cada base\n",
    "ids_full = set(df_full[\"partida_id\"].dropna().unique())\n",
    "ids_est = set(df_est[\"partida_id\"].dropna().unique())\n",
    "ids_cart = set(df_cartoes[\"partida_id\"].dropna().unique())\n",
    "ids_gols = set(df_gols[\"partida_id\"].dropna().unique())\n",
    "\n",
    "# Identificar os IDs presentes em todas as quatro bases, \n",
    "ids_comuns = ids_full & ids_est & ids_cart & ids_gols\n",
    "\n",
    "# Visualizar a contagem de IDs únicos e comuns\n",
    "pd.DataFrame({\n",
    "    \"Base\": [\"full\", \"estatisticas\", \"cartoes\", \"gols\", \"comuns\"],\n",
    "    \"IDs únicos\": [len(ids_full), len(ids_est), len(ids_cart), len(ids_gols), len(ids_comuns)]\n",
    "})\n"
   ]
  },
  {
   "cell_type": "markdown",
   "metadata": {},
   "source": [
    "# Etapa 2 - Atividade 1: Ajustar os dados mantendo apenas as partidas comuns\n",
    "## Objetivo:\n",
    "Filtrar as quatro tabelas para que todas contenham apenas os dados das partidas comuns.\n",
    "\n",
    "## Passos seguidos para a resolução da atividade:\n",
    "Utilizei a função do Pandas isin() para filtrar os DataFrames com base no conjunto ids_comuns."
   ]
  },
  {
   "cell_type": "code",
   "execution_count": 12,
   "metadata": {},
   "outputs": [
    {
     "data": {
      "text/html": [
       "<div>\n",
       "<style scoped>\n",
       "    .dataframe tbody tr th:only-of-type {\n",
       "        vertical-align: middle;\n",
       "    }\n",
       "\n",
       "    .dataframe tbody tr th {\n",
       "        vertical-align: top;\n",
       "    }\n",
       "\n",
       "    .dataframe thead th {\n",
       "        text-align: right;\n",
       "    }\n",
       "</style>\n",
       "<table border=\"1\" class=\"dataframe\">\n",
       "  <thead>\n",
       "    <tr style=\"text-align: right;\">\n",
       "      <th></th>\n",
       "      <th>Base</th>\n",
       "      <th>Registros</th>\n",
       "    </tr>\n",
       "  </thead>\n",
       "  <tbody>\n",
       "    <tr>\n",
       "      <th>0</th>\n",
       "      <td>full_filtrado</td>\n",
       "      <td>3761</td>\n",
       "    </tr>\n",
       "    <tr>\n",
       "      <th>1</th>\n",
       "      <td>estatisticas_filtrado</td>\n",
       "      <td>7522</td>\n",
       "    </tr>\n",
       "    <tr>\n",
       "      <th>2</th>\n",
       "      <td>cartoes_filtrado</td>\n",
       "      <td>19254</td>\n",
       "    </tr>\n",
       "    <tr>\n",
       "      <th>3</th>\n",
       "      <td>gols_filtrado</td>\n",
       "      <td>9711</td>\n",
       "    </tr>\n",
       "  </tbody>\n",
       "</table>\n",
       "</div>"
      ],
      "text/plain": [
       "                    Base  Registros\n",
       "0          full_filtrado       3761\n",
       "1  estatisticas_filtrado       7522\n",
       "2       cartoes_filtrado      19254\n",
       "3          gols_filtrado       9711"
      ]
     },
     "execution_count": 12,
     "metadata": {},
     "output_type": "execute_result"
    }
   ],
   "source": [
    "df_full_filtrado = df_full[df_full[\"partida_id\"].isin(ids_comuns)].copy()\n",
    "df_estatisticas_filtrado = df_est[df_est[\"partida_id\"].isin(ids_comuns)].copy()\n",
    "df_cartoes_filtrado = df_cartoes[df_cartoes[\"partida_id\"].isin(ids_comuns)].copy()\n",
    "df_gols_filtrado = df_gols[df_gols[\"partida_id\"].isin(ids_comuns)].copy()\n",
    "\n",
    "pd.DataFrame({\n",
    "    \"Base\": [\"full_filtrado\", \"estatisticas_filtrado\", \"cartoes_filtrado\", \"gols_filtrado\"],\n",
    "    \"Registros\": [\n",
    "        len(df_full_filtrado),\n",
    "        len(df_estatisticas_filtrado),\n",
    "        len(df_cartoes_filtrado),\n",
    "        len(df_gols_filtrado)\n",
    "    ]\n",
    "})"
   ]
  },
  {
   "cell_type": "markdown",
   "metadata": {},
   "source": [
    "# Etapa 3 - Atividade 1 (Passo 1): Tratamento de valores ausentes (NaN) e remoção de informações irrelevantes\n",
    "## Objetivo:\n",
    "Melhorar a qualidade dos dados, eliminando valores ausentes que possam impactar as análises e removendo colunas que não contribuem para os objetivos propostos.\n",
    "\n",
    "## Passos seguidos para a resolução da atividade:\n",
    "1. Análise da porcentagem de valores nulos em cada coluna para identificar prováveis colunas inúteis.\n",
    "2. Definição de critérios: análise de porcentagem e análise manual\n",
    "3. Colunas textuais pouco relevantes (ex: nomes de técnicos, arenas, etc.) foram sinalizadas para remoção."
   ]
  },
  {
   "cell_type": "code",
   "execution_count": 13,
   "metadata": {},
   "outputs": [
    {
     "data": {
      "text/html": [
       "<div>\n",
       "<style scoped>\n",
       "    .dataframe tbody tr th:only-of-type {\n",
       "        vertical-align: middle;\n",
       "    }\n",
       "\n",
       "    .dataframe tbody tr th {\n",
       "        vertical-align: top;\n",
       "    }\n",
       "\n",
       "    .dataframe thead th {\n",
       "        text-align: right;\n",
       "    }\n",
       "</style>\n",
       "<table border=\"1\" class=\"dataframe\">\n",
       "  <thead>\n",
       "    <tr style=\"text-align: right;\">\n",
       "      <th></th>\n",
       "      <th>coluna</th>\n",
       "      <th>nulos (%)</th>\n",
       "      <th>tabela</th>\n",
       "    </tr>\n",
       "  </thead>\n",
       "  <tbody>\n",
       "    <tr>\n",
       "      <th>posicao</th>\n",
       "      <td>posicao</td>\n",
       "      <td>6.0</td>\n",
       "      <td>cartoes</td>\n",
       "    </tr>\n",
       "    <tr>\n",
       "      <th>num_camisa</th>\n",
       "      <td>num_camisa</td>\n",
       "      <td>2.0</td>\n",
       "      <td>cartoes</td>\n",
       "    </tr>\n",
       "    <tr>\n",
       "      <th>partida_id</th>\n",
       "      <td>partida_id</td>\n",
       "      <td>0.0</td>\n",
       "      <td>cartoes</td>\n",
       "    </tr>\n",
       "    <tr>\n",
       "      <th>rodata</th>\n",
       "      <td>rodata</td>\n",
       "      <td>0.0</td>\n",
       "      <td>cartoes</td>\n",
       "    </tr>\n",
       "    <tr>\n",
       "      <th>clube</th>\n",
       "      <td>clube</td>\n",
       "      <td>0.0</td>\n",
       "      <td>cartoes</td>\n",
       "    </tr>\n",
       "    <tr>\n",
       "      <th>cartao</th>\n",
       "      <td>cartao</td>\n",
       "      <td>0.0</td>\n",
       "      <td>cartoes</td>\n",
       "    </tr>\n",
       "    <tr>\n",
       "      <th>atleta</th>\n",
       "      <td>atleta</td>\n",
       "      <td>0.0</td>\n",
       "      <td>cartoes</td>\n",
       "    </tr>\n",
       "    <tr>\n",
       "      <th>minuto</th>\n",
       "      <td>minuto</td>\n",
       "      <td>0.0</td>\n",
       "      <td>cartoes</td>\n",
       "    </tr>\n",
       "    <tr>\n",
       "      <th>precisao_passes</th>\n",
       "      <td>precisao_passes</td>\n",
       "      <td>46.0</td>\n",
       "      <td>estatisticas</td>\n",
       "    </tr>\n",
       "    <tr>\n",
       "      <th>posse_de_bola</th>\n",
       "      <td>posse_de_bola</td>\n",
       "      <td>19.0</td>\n",
       "      <td>estatisticas</td>\n",
       "    </tr>\n",
       "    <tr>\n",
       "      <th>partida_id</th>\n",
       "      <td>partida_id</td>\n",
       "      <td>0.0</td>\n",
       "      <td>estatisticas</td>\n",
       "    </tr>\n",
       "    <tr>\n",
       "      <th>rodata</th>\n",
       "      <td>rodata</td>\n",
       "      <td>0.0</td>\n",
       "      <td>estatisticas</td>\n",
       "    </tr>\n",
       "    <tr>\n",
       "      <th>clube</th>\n",
       "      <td>clube</td>\n",
       "      <td>0.0</td>\n",
       "      <td>estatisticas</td>\n",
       "    </tr>\n",
       "    <tr>\n",
       "      <th>chutes</th>\n",
       "      <td>chutes</td>\n",
       "      <td>0.0</td>\n",
       "      <td>estatisticas</td>\n",
       "    </tr>\n",
       "    <tr>\n",
       "      <th>chutes_no_alvo</th>\n",
       "      <td>chutes_no_alvo</td>\n",
       "      <td>0.0</td>\n",
       "      <td>estatisticas</td>\n",
       "    </tr>\n",
       "    <tr>\n",
       "      <th>passes</th>\n",
       "      <td>passes</td>\n",
       "      <td>0.0</td>\n",
       "      <td>estatisticas</td>\n",
       "    </tr>\n",
       "    <tr>\n",
       "      <th>faltas</th>\n",
       "      <td>faltas</td>\n",
       "      <td>0.0</td>\n",
       "      <td>estatisticas</td>\n",
       "    </tr>\n",
       "    <tr>\n",
       "      <th>cartao_amarelo</th>\n",
       "      <td>cartao_amarelo</td>\n",
       "      <td>0.0</td>\n",
       "      <td>estatisticas</td>\n",
       "    </tr>\n",
       "    <tr>\n",
       "      <th>cartao_vermelho</th>\n",
       "      <td>cartao_vermelho</td>\n",
       "      <td>0.0</td>\n",
       "      <td>estatisticas</td>\n",
       "    </tr>\n",
       "    <tr>\n",
       "      <th>impedimentos</th>\n",
       "      <td>impedimentos</td>\n",
       "      <td>0.0</td>\n",
       "      <td>estatisticas</td>\n",
       "    </tr>\n",
       "    <tr>\n",
       "      <th>escanteios</th>\n",
       "      <td>escanteios</td>\n",
       "      <td>0.0</td>\n",
       "      <td>estatisticas</td>\n",
       "    </tr>\n",
       "    <tr>\n",
       "      <th>formacao_mandante</th>\n",
       "      <td>formacao_mandante</td>\n",
       "      <td>9.0</td>\n",
       "      <td>full</td>\n",
       "    </tr>\n",
       "    <tr>\n",
       "      <th>formacao_visitante</th>\n",
       "      <td>formacao_visitante</td>\n",
       "      <td>9.0</td>\n",
       "      <td>full</td>\n",
       "    </tr>\n",
       "    <tr>\n",
       "      <th>partida_id</th>\n",
       "      <td>partida_id</td>\n",
       "      <td>0.0</td>\n",
       "      <td>full</td>\n",
       "    </tr>\n",
       "    <tr>\n",
       "      <th>rodata</th>\n",
       "      <td>rodata</td>\n",
       "      <td>0.0</td>\n",
       "      <td>full</td>\n",
       "    </tr>\n",
       "    <tr>\n",
       "      <th>data</th>\n",
       "      <td>data</td>\n",
       "      <td>0.0</td>\n",
       "      <td>full</td>\n",
       "    </tr>\n",
       "    <tr>\n",
       "      <th>hora</th>\n",
       "      <td>hora</td>\n",
       "      <td>0.0</td>\n",
       "      <td>full</td>\n",
       "    </tr>\n",
       "    <tr>\n",
       "      <th>mandante</th>\n",
       "      <td>mandante</td>\n",
       "      <td>0.0</td>\n",
       "      <td>full</td>\n",
       "    </tr>\n",
       "    <tr>\n",
       "      <th>visitante</th>\n",
       "      <td>visitante</td>\n",
       "      <td>0.0</td>\n",
       "      <td>full</td>\n",
       "    </tr>\n",
       "    <tr>\n",
       "      <th>tecnico_mandante</th>\n",
       "      <td>tecnico_mandante</td>\n",
       "      <td>0.0</td>\n",
       "      <td>full</td>\n",
       "    </tr>\n",
       "    <tr>\n",
       "      <th>tecnico_visitante</th>\n",
       "      <td>tecnico_visitante</td>\n",
       "      <td>0.0</td>\n",
       "      <td>full</td>\n",
       "    </tr>\n",
       "    <tr>\n",
       "      <th>vencedor</th>\n",
       "      <td>vencedor</td>\n",
       "      <td>0.0</td>\n",
       "      <td>full</td>\n",
       "    </tr>\n",
       "    <tr>\n",
       "      <th>arena</th>\n",
       "      <td>arena</td>\n",
       "      <td>0.0</td>\n",
       "      <td>full</td>\n",
       "    </tr>\n",
       "    <tr>\n",
       "      <th>mandante_Placar</th>\n",
       "      <td>mandante_Placar</td>\n",
       "      <td>0.0</td>\n",
       "      <td>full</td>\n",
       "    </tr>\n",
       "    <tr>\n",
       "      <th>visitante_Placar</th>\n",
       "      <td>visitante_Placar</td>\n",
       "      <td>0.0</td>\n",
       "      <td>full</td>\n",
       "    </tr>\n",
       "    <tr>\n",
       "      <th>mandante_Estado</th>\n",
       "      <td>mandante_Estado</td>\n",
       "      <td>0.0</td>\n",
       "      <td>full</td>\n",
       "    </tr>\n",
       "    <tr>\n",
       "      <th>visitante_Estado</th>\n",
       "      <td>visitante_Estado</td>\n",
       "      <td>0.0</td>\n",
       "      <td>full</td>\n",
       "    </tr>\n",
       "    <tr>\n",
       "      <th>tipo_de_gol</th>\n",
       "      <td>tipo_de_gol</td>\n",
       "      <td>88.0</td>\n",
       "      <td>gols</td>\n",
       "    </tr>\n",
       "    <tr>\n",
       "      <th>partida_id</th>\n",
       "      <td>partida_id</td>\n",
       "      <td>0.0</td>\n",
       "      <td>gols</td>\n",
       "    </tr>\n",
       "    <tr>\n",
       "      <th>rodata</th>\n",
       "      <td>rodata</td>\n",
       "      <td>0.0</td>\n",
       "      <td>gols</td>\n",
       "    </tr>\n",
       "    <tr>\n",
       "      <th>clube</th>\n",
       "      <td>clube</td>\n",
       "      <td>0.0</td>\n",
       "      <td>gols</td>\n",
       "    </tr>\n",
       "    <tr>\n",
       "      <th>atleta</th>\n",
       "      <td>atleta</td>\n",
       "      <td>0.0</td>\n",
       "      <td>gols</td>\n",
       "    </tr>\n",
       "    <tr>\n",
       "      <th>minuto</th>\n",
       "      <td>minuto</td>\n",
       "      <td>0.0</td>\n",
       "      <td>gols</td>\n",
       "    </tr>\n",
       "  </tbody>\n",
       "</table>\n",
       "</div>"
      ],
      "text/plain": [
       "                                coluna  nulos (%)        tabela\n",
       "posicao                        posicao        6.0       cartoes\n",
       "num_camisa                  num_camisa        2.0       cartoes\n",
       "partida_id                  partida_id        0.0       cartoes\n",
       "rodata                          rodata        0.0       cartoes\n",
       "clube                            clube        0.0       cartoes\n",
       "cartao                          cartao        0.0       cartoes\n",
       "atleta                          atleta        0.0       cartoes\n",
       "minuto                          minuto        0.0       cartoes\n",
       "precisao_passes        precisao_passes       46.0  estatisticas\n",
       "posse_de_bola            posse_de_bola       19.0  estatisticas\n",
       "partida_id                  partida_id        0.0  estatisticas\n",
       "rodata                          rodata        0.0  estatisticas\n",
       "clube                            clube        0.0  estatisticas\n",
       "chutes                          chutes        0.0  estatisticas\n",
       "chutes_no_alvo          chutes_no_alvo        0.0  estatisticas\n",
       "passes                          passes        0.0  estatisticas\n",
       "faltas                          faltas        0.0  estatisticas\n",
       "cartao_amarelo          cartao_amarelo        0.0  estatisticas\n",
       "cartao_vermelho        cartao_vermelho        0.0  estatisticas\n",
       "impedimentos              impedimentos        0.0  estatisticas\n",
       "escanteios                  escanteios        0.0  estatisticas\n",
       "formacao_mandante    formacao_mandante        9.0          full\n",
       "formacao_visitante  formacao_visitante        9.0          full\n",
       "partida_id                  partida_id        0.0          full\n",
       "rodata                          rodata        0.0          full\n",
       "data                              data        0.0          full\n",
       "hora                              hora        0.0          full\n",
       "mandante                      mandante        0.0          full\n",
       "visitante                    visitante        0.0          full\n",
       "tecnico_mandante      tecnico_mandante        0.0          full\n",
       "tecnico_visitante    tecnico_visitante        0.0          full\n",
       "vencedor                      vencedor        0.0          full\n",
       "arena                            arena        0.0          full\n",
       "mandante_Placar        mandante_Placar        0.0          full\n",
       "visitante_Placar      visitante_Placar        0.0          full\n",
       "mandante_Estado        mandante_Estado        0.0          full\n",
       "visitante_Estado      visitante_Estado        0.0          full\n",
       "tipo_de_gol                tipo_de_gol       88.0          gols\n",
       "partida_id                  partida_id        0.0          gols\n",
       "rodata                          rodata        0.0          gols\n",
       "clube                            clube        0.0          gols\n",
       "atleta                          atleta        0.0          gols\n",
       "minuto                          minuto        0.0          gols"
      ]
     },
     "execution_count": 13,
     "metadata": {},
     "output_type": "execute_result"
    }
   ],
   "source": [
    "def resumo_nulos(df, nome):\n",
    "    \"\"\"Gera um resumo dos valores nulos em um DataFrame.\n",
    "    Args:\n",
    "        df (pd.DataFrame): DataFrame a ser analisado.\n",
    "        nome (str): Nome da tabela para identificação.\n",
    "    Returns:\n",
    "        pd.DataFrame: DataFrame com colunas, porcentagem de nulos e nome da tabela.\n",
    "    \"\"\"\n",
    "    return pd.DataFrame({\n",
    "        \"coluna\": df.columns,\n",
    "        \"nulos (%)\": df.isna().mean().round(2) * 100,\n",
    "        \"tabela\": nome\n",
    "    })\n",
    "\n",
    "nulos_full = resumo_nulos(df_full_filtrado, \"full\")\n",
    "nulos_est = resumo_nulos(df_estatisticas_filtrado, \"estatisticas\")\n",
    "nulos_cart = resumo_nulos(df_cartoes_filtrado, \"cartoes\")\n",
    "nulos_gols = resumo_nulos(df_gols_filtrado, \"gols\")\n",
    "\n",
    "# Concatenar e visualizar\n",
    "pd.concat([nulos_full, nulos_est, nulos_cart, nulos_gols]).sort_values(by=[\"tabela\", \"nulos (%)\"], ascending=[True, False])\n"
   ]
  },
  {
   "cell_type": "markdown",
   "metadata": {},
   "source": [
    "# Etapa 3 - Atividade 1 (Passo 2): Tratamento de valores ausentes (NaN) ou nulos (None)\n",
    "## Objetivo:\n",
    "Melhorar a qualidade dos dados, eliminando valores ausentes que possam impactar as análises e removendo colunas que não contribuem para os objetivos propostos.\n",
    "\n",
    "## Análise manual e da porcentagem:\n",
    "Após passar por todas as bases e notar valores nulos, escolhi as principais colunas que possuíam valores nulos ou Nan e os mudei manualmente. A análise de porcentagem feita no passo anterior também auxiliou nessa etapa."
   ]
  },
  {
   "cell_type": "code",
   "execution_count": 14,
   "metadata": {},
   "outputs": [
    {
     "data": {
      "text/html": [
       "<div>\n",
       "<style scoped>\n",
       "    .dataframe tbody tr th:only-of-type {\n",
       "        vertical-align: middle;\n",
       "    }\n",
       "\n",
       "    .dataframe tbody tr th {\n",
       "        vertical-align: top;\n",
       "    }\n",
       "\n",
       "    .dataframe thead th {\n",
       "        text-align: right;\n",
       "    }\n",
       "</style>\n",
       "<table border=\"1\" class=\"dataframe\">\n",
       "  <thead>\n",
       "    <tr style=\"text-align: right;\">\n",
       "      <th></th>\n",
       "      <th>partida_id</th>\n",
       "      <th>rodata</th>\n",
       "      <th>clube</th>\n",
       "      <th>chutes</th>\n",
       "      <th>chutes_no_alvo</th>\n",
       "      <th>posse_de_bola</th>\n",
       "      <th>passes</th>\n",
       "      <th>precisao_passes</th>\n",
       "      <th>faltas</th>\n",
       "      <th>cartao_amarelo</th>\n",
       "      <th>cartao_vermelho</th>\n",
       "      <th>impedimentos</th>\n",
       "      <th>escanteios</th>\n",
       "    </tr>\n",
       "  </thead>\n",
       "  <tbody>\n",
       "    <tr>\n",
       "      <th>9212</th>\n",
       "      <td>4607</td>\n",
       "      <td>1</td>\n",
       "      <td>Fluminense</td>\n",
       "      <td>0</td>\n",
       "      <td>0</td>\n",
       "      <td>Porcentagem Desconhecida</td>\n",
       "      <td>0</td>\n",
       "      <td>Porcentagem Desconhecida</td>\n",
       "      <td>0</td>\n",
       "      <td>0</td>\n",
       "      <td>0</td>\n",
       "      <td>0</td>\n",
       "      <td>0</td>\n",
       "    </tr>\n",
       "    <tr>\n",
       "      <th>9213</th>\n",
       "      <td>4607</td>\n",
       "      <td>1</td>\n",
       "      <td>Figueirense</td>\n",
       "      <td>0</td>\n",
       "      <td>0</td>\n",
       "      <td>Porcentagem Desconhecida</td>\n",
       "      <td>0</td>\n",
       "      <td>Porcentagem Desconhecida</td>\n",
       "      <td>0</td>\n",
       "      <td>0</td>\n",
       "      <td>0</td>\n",
       "      <td>0</td>\n",
       "      <td>0</td>\n",
       "    </tr>\n",
       "    <tr>\n",
       "      <th>9214</th>\n",
       "      <td>4608</td>\n",
       "      <td>1</td>\n",
       "      <td>Vitoria</td>\n",
       "      <td>0</td>\n",
       "      <td>0</td>\n",
       "      <td>Porcentagem Desconhecida</td>\n",
       "      <td>0</td>\n",
       "      <td>Porcentagem Desconhecida</td>\n",
       "      <td>0</td>\n",
       "      <td>0</td>\n",
       "      <td>0</td>\n",
       "      <td>0</td>\n",
       "      <td>0</td>\n",
       "    </tr>\n",
       "    <tr>\n",
       "      <th>9215</th>\n",
       "      <td>4608</td>\n",
       "      <td>1</td>\n",
       "      <td>Internacional</td>\n",
       "      <td>0</td>\n",
       "      <td>0</td>\n",
       "      <td>Porcentagem Desconhecida</td>\n",
       "      <td>0</td>\n",
       "      <td>Porcentagem Desconhecida</td>\n",
       "      <td>0</td>\n",
       "      <td>0</td>\n",
       "      <td>0</td>\n",
       "      <td>0</td>\n",
       "      <td>0</td>\n",
       "    </tr>\n",
       "    <tr>\n",
       "      <th>9218</th>\n",
       "      <td>4612</td>\n",
       "      <td>1</td>\n",
       "      <td>Bahia</td>\n",
       "      <td>0</td>\n",
       "      <td>0</td>\n",
       "      <td>Porcentagem Desconhecida</td>\n",
       "      <td>0</td>\n",
       "      <td>Porcentagem Desconhecida</td>\n",
       "      <td>0</td>\n",
       "      <td>0</td>\n",
       "      <td>0</td>\n",
       "      <td>0</td>\n",
       "      <td>0</td>\n",
       "    </tr>\n",
       "  </tbody>\n",
       "</table>\n",
       "</div>"
      ],
      "text/plain": [
       "      partida_id  rodata          clube  chutes  chutes_no_alvo  \\\n",
       "9212        4607       1     Fluminense       0               0   \n",
       "9213        4607       1    Figueirense       0               0   \n",
       "9214        4608       1        Vitoria       0               0   \n",
       "9215        4608       1  Internacional       0               0   \n",
       "9218        4612       1          Bahia       0               0   \n",
       "\n",
       "                 posse_de_bola  passes           precisao_passes  faltas  \\\n",
       "9212  Porcentagem Desconhecida       0  Porcentagem Desconhecida       0   \n",
       "9213  Porcentagem Desconhecida       0  Porcentagem Desconhecida       0   \n",
       "9214  Porcentagem Desconhecida       0  Porcentagem Desconhecida       0   \n",
       "9215  Porcentagem Desconhecida       0  Porcentagem Desconhecida       0   \n",
       "9218  Porcentagem Desconhecida       0  Porcentagem Desconhecida       0   \n",
       "\n",
       "      cartao_amarelo  cartao_vermelho  impedimentos  escanteios  \n",
       "9212               0                0             0           0  \n",
       "9213               0                0             0           0  \n",
       "9214               0                0             0           0  \n",
       "9215               0                0             0           0  \n",
       "9218               0                0             0           0  "
      ]
     },
     "metadata": {},
     "output_type": "display_data"
    },
    {
     "data": {
      "text/html": [
       "<div>\n",
       "<style scoped>\n",
       "    .dataframe tbody tr th:only-of-type {\n",
       "        vertical-align: middle;\n",
       "    }\n",
       "\n",
       "    .dataframe tbody tr th {\n",
       "        vertical-align: top;\n",
       "    }\n",
       "\n",
       "    .dataframe thead th {\n",
       "        text-align: right;\n",
       "    }\n",
       "</style>\n",
       "<table border=\"1\" class=\"dataframe\">\n",
       "  <thead>\n",
       "    <tr style=\"text-align: right;\">\n",
       "      <th></th>\n",
       "      <th>partida_id</th>\n",
       "      <th>rodata</th>\n",
       "      <th>clube</th>\n",
       "      <th>atleta</th>\n",
       "      <th>minuto</th>\n",
       "      <th>tipo_de_gol</th>\n",
       "    </tr>\n",
       "  </thead>\n",
       "  <tbody>\n",
       "    <tr>\n",
       "      <th>0</th>\n",
       "      <td>4607</td>\n",
       "      <td>1</td>\n",
       "      <td>Fluminense</td>\n",
       "      <td>Rafael Sóbis</td>\n",
       "      <td>31</td>\n",
       "      <td>Gol Regular</td>\n",
       "    </tr>\n",
       "    <tr>\n",
       "      <th>1</th>\n",
       "      <td>4607</td>\n",
       "      <td>1</td>\n",
       "      <td>Fluminense</td>\n",
       "      <td>Nirley da Silva Fonseca</td>\n",
       "      <td>59</td>\n",
       "      <td>Gol Contra</td>\n",
       "    </tr>\n",
       "    <tr>\n",
       "      <th>2</th>\n",
       "      <td>4607</td>\n",
       "      <td>1</td>\n",
       "      <td>Fluminense</td>\n",
       "      <td>Fred</td>\n",
       "      <td>45</td>\n",
       "      <td>Penalty</td>\n",
       "    </tr>\n",
       "    <tr>\n",
       "      <th>3</th>\n",
       "      <td>4608</td>\n",
       "      <td>1</td>\n",
       "      <td>Internacional</td>\n",
       "      <td>Charles Aránguiz</td>\n",
       "      <td>6</td>\n",
       "      <td>Gol Regular</td>\n",
       "    </tr>\n",
       "    <tr>\n",
       "      <th>4</th>\n",
       "      <td>4612</td>\n",
       "      <td>1</td>\n",
       "      <td>Cruzeiro</td>\n",
       "      <td>Nílton Ferreira Júnior</td>\n",
       "      <td>63</td>\n",
       "      <td>Gol Regular</td>\n",
       "    </tr>\n",
       "  </tbody>\n",
       "</table>\n",
       "</div>"
      ],
      "text/plain": [
       "   partida_id  rodata          clube                   atleta minuto  \\\n",
       "0        4607       1     Fluminense             Rafael Sóbis     31   \n",
       "1        4607       1     Fluminense  Nirley da Silva Fonseca     59   \n",
       "2        4607       1     Fluminense                     Fred     45   \n",
       "3        4608       1  Internacional         Charles Aránguiz      6   \n",
       "4        4612       1       Cruzeiro   Nílton Ferreira Júnior     63   \n",
       "\n",
       "   tipo_de_gol  \n",
       "0  Gol Regular  \n",
       "1   Gol Contra  \n",
       "2      Penalty  \n",
       "3  Gol Regular  \n",
       "4  Gol Regular  "
      ]
     },
     "metadata": {},
     "output_type": "display_data"
    },
    {
     "data": {
      "text/html": [
       "<div>\n",
       "<style scoped>\n",
       "    .dataframe tbody tr th:only-of-type {\n",
       "        vertical-align: middle;\n",
       "    }\n",
       "\n",
       "    .dataframe tbody tr th {\n",
       "        vertical-align: top;\n",
       "    }\n",
       "\n",
       "    .dataframe thead th {\n",
       "        text-align: right;\n",
       "    }\n",
       "</style>\n",
       "<table border=\"1\" class=\"dataframe\">\n",
       "  <thead>\n",
       "    <tr style=\"text-align: right;\">\n",
       "      <th></th>\n",
       "      <th>partida_id</th>\n",
       "      <th>rodata</th>\n",
       "      <th>data</th>\n",
       "      <th>hora</th>\n",
       "      <th>mandante</th>\n",
       "      <th>visitante</th>\n",
       "      <th>formacao_mandante</th>\n",
       "      <th>formacao_visitante</th>\n",
       "      <th>tecnico_mandante</th>\n",
       "      <th>tecnico_visitante</th>\n",
       "      <th>vencedor</th>\n",
       "      <th>arena</th>\n",
       "      <th>mandante_Placar</th>\n",
       "      <th>visitante_Placar</th>\n",
       "      <th>mandante_Estado</th>\n",
       "      <th>visitante_Estado</th>\n",
       "    </tr>\n",
       "  </thead>\n",
       "  <tbody>\n",
       "    <tr>\n",
       "      <th>4606</th>\n",
       "      <td>4607</td>\n",
       "      <td>1</td>\n",
       "      <td>19/04/2014</td>\n",
       "      <td>18:28</td>\n",
       "      <td>Fluminense</td>\n",
       "      <td>Figueirense</td>\n",
       "      <td>Formação Desconhecida</td>\n",
       "      <td>Formação Desconhecida</td>\n",
       "      <td>C. Borges dos Santos</td>\n",
       "      <td>V. Eutrópio</td>\n",
       "      <td>Fluminense</td>\n",
       "      <td>Maracanã</td>\n",
       "      <td>3</td>\n",
       "      <td>0</td>\n",
       "      <td>RJ</td>\n",
       "      <td>SC</td>\n",
       "    </tr>\n",
       "    <tr>\n",
       "      <th>4607</th>\n",
       "      <td>4608</td>\n",
       "      <td>1</td>\n",
       "      <td>19/04/2014</td>\n",
       "      <td>18:31</td>\n",
       "      <td>Internacional</td>\n",
       "      <td>Vitoria</td>\n",
       "      <td>Formação Desconhecida</td>\n",
       "      <td>Formação Desconhecida</td>\n",
       "      <td>A. da Silva Braga</td>\n",
       "      <td>N. da Silveira Júnior</td>\n",
       "      <td>Internacional</td>\n",
       "      <td>Estádio José Pinheiro Borda</td>\n",
       "      <td>1</td>\n",
       "      <td>0</td>\n",
       "      <td>RS</td>\n",
       "      <td>BA</td>\n",
       "    </tr>\n",
       "    <tr>\n",
       "      <th>4609</th>\n",
       "      <td>4612</td>\n",
       "      <td>1</td>\n",
       "      <td>20/04/2014</td>\n",
       "      <td>15:58</td>\n",
       "      <td>Bahia</td>\n",
       "      <td>Cruzeiro</td>\n",
       "      <td>Formação Desconhecida</td>\n",
       "      <td>Formação Desconhecida</td>\n",
       "      <td>M. dos Santos Gonçalves</td>\n",
       "      <td>M. de Oliveira Santos</td>\n",
       "      <td>Cruzeiro</td>\n",
       "      <td>Itaipava Arena Fonte Nova</td>\n",
       "      <td>1</td>\n",
       "      <td>2</td>\n",
       "      <td>BA</td>\n",
       "      <td>MG</td>\n",
       "    </tr>\n",
       "    <tr>\n",
       "      <th>4610</th>\n",
       "      <td>4611</td>\n",
       "      <td>1</td>\n",
       "      <td>20/04/2014</td>\n",
       "      <td>15:59</td>\n",
       "      <td>Sao Paulo</td>\n",
       "      <td>Botafogo-RJ</td>\n",
       "      <td>Formação Desconhecida</td>\n",
       "      <td>Formação Desconhecida</td>\n",
       "      <td>M. Ramalho</td>\n",
       "      <td>V. Carmo Mancini</td>\n",
       "      <td>Sao Paulo</td>\n",
       "      <td>Morumbi</td>\n",
       "      <td>3</td>\n",
       "      <td>0</td>\n",
       "      <td>SP</td>\n",
       "      <td>RJ</td>\n",
       "    </tr>\n",
       "    <tr>\n",
       "      <th>4611</th>\n",
       "      <td>4610</td>\n",
       "      <td>1</td>\n",
       "      <td>20/04/2014</td>\n",
       "      <td>16:00</td>\n",
       "      <td>Athletico-PR</td>\n",
       "      <td>Gremio</td>\n",
       "      <td>Formação Desconhecida</td>\n",
       "      <td>Formação Desconhecida</td>\n",
       "      <td>M. Portugal Vicario</td>\n",
       "      <td>E. Alves Moreira</td>\n",
       "      <td>Athletico-PR</td>\n",
       "      <td>Orlando Scarpelli</td>\n",
       "      <td>1</td>\n",
       "      <td>0</td>\n",
       "      <td>PR</td>\n",
       "      <td>RS</td>\n",
       "    </tr>\n",
       "  </tbody>\n",
       "</table>\n",
       "</div>"
      ],
      "text/plain": [
       "      partida_id  rodata        data   hora       mandante    visitante  \\\n",
       "4606        4607       1  19/04/2014  18:28     Fluminense  Figueirense   \n",
       "4607        4608       1  19/04/2014  18:31  Internacional      Vitoria   \n",
       "4609        4612       1  20/04/2014  15:58          Bahia     Cruzeiro   \n",
       "4610        4611       1  20/04/2014  15:59      Sao Paulo  Botafogo-RJ   \n",
       "4611        4610       1  20/04/2014  16:00   Athletico-PR       Gremio   \n",
       "\n",
       "          formacao_mandante     formacao_visitante         tecnico_mandante  \\\n",
       "4606  Formação Desconhecida  Formação Desconhecida     C. Borges dos Santos   \n",
       "4607  Formação Desconhecida  Formação Desconhecida        A. da Silva Braga   \n",
       "4609  Formação Desconhecida  Formação Desconhecida  M. dos Santos Gonçalves   \n",
       "4610  Formação Desconhecida  Formação Desconhecida               M. Ramalho   \n",
       "4611  Formação Desconhecida  Formação Desconhecida      M. Portugal Vicario   \n",
       "\n",
       "          tecnico_visitante       vencedor                        arena  \\\n",
       "4606            V. Eutrópio     Fluminense                     Maracanã   \n",
       "4607  N. da Silveira Júnior  Internacional  Estádio José Pinheiro Borda   \n",
       "4609  M. de Oliveira Santos       Cruzeiro    Itaipava Arena Fonte Nova   \n",
       "4610       V. Carmo Mancini      Sao Paulo                      Morumbi   \n",
       "4611       E. Alves Moreira   Athletico-PR            Orlando Scarpelli   \n",
       "\n",
       "      mandante_Placar  visitante_Placar mandante_Estado visitante_Estado  \n",
       "4606                3                 0              RJ               SC  \n",
       "4607                1                 0              RS               BA  \n",
       "4609                1                 2              BA               MG  \n",
       "4610                3                 0              SP               RJ  \n",
       "4611                1                 0              PR               RS  "
      ]
     },
     "metadata": {},
     "output_type": "display_data"
    },
    {
     "data": {
      "text/html": [
       "<div>\n",
       "<style scoped>\n",
       "    .dataframe tbody tr th:only-of-type {\n",
       "        vertical-align: middle;\n",
       "    }\n",
       "\n",
       "    .dataframe tbody tr th {\n",
       "        vertical-align: top;\n",
       "    }\n",
       "\n",
       "    .dataframe thead th {\n",
       "        text-align: right;\n",
       "    }\n",
       "</style>\n",
       "<table border=\"1\" class=\"dataframe\">\n",
       "  <thead>\n",
       "    <tr style=\"text-align: right;\">\n",
       "      <th></th>\n",
       "      <th></th>\n",
       "      <th>partida_id</th>\n",
       "      <th>rodata</th>\n",
       "      <th>clube</th>\n",
       "      <th>chutes</th>\n",
       "      <th>chutes_no_alvo</th>\n",
       "      <th>posse_de_bola</th>\n",
       "      <th>passes</th>\n",
       "      <th>precisao_passes</th>\n",
       "      <th>faltas</th>\n",
       "      <th>cartao_amarelo</th>\n",
       "      <th>...</th>\n",
       "      <th>formacao_mandante</th>\n",
       "      <th>formacao_visitante</th>\n",
       "      <th>tecnico_mandante</th>\n",
       "      <th>tecnico_visitante</th>\n",
       "      <th>vencedor</th>\n",
       "      <th>arena</th>\n",
       "      <th>mandante_Placar</th>\n",
       "      <th>visitante_Placar</th>\n",
       "      <th>mandante_Estado</th>\n",
       "      <th>visitante_Estado</th>\n",
       "    </tr>\n",
       "    <tr>\n",
       "      <th>Tabela</th>\n",
       "      <th>Linha</th>\n",
       "      <th></th>\n",
       "      <th></th>\n",
       "      <th></th>\n",
       "      <th></th>\n",
       "      <th></th>\n",
       "      <th></th>\n",
       "      <th></th>\n",
       "      <th></th>\n",
       "      <th></th>\n",
       "      <th></th>\n",
       "      <th></th>\n",
       "      <th></th>\n",
       "      <th></th>\n",
       "      <th></th>\n",
       "      <th></th>\n",
       "      <th></th>\n",
       "      <th></th>\n",
       "      <th></th>\n",
       "      <th></th>\n",
       "      <th></th>\n",
       "      <th></th>\n",
       "    </tr>\n",
       "  </thead>\n",
       "  <tbody>\n",
       "    <tr>\n",
       "      <th rowspan=\"5\" valign=\"top\">estatisticas</th>\n",
       "      <th>9212</th>\n",
       "      <td>4607</td>\n",
       "      <td>1</td>\n",
       "      <td>Fluminense</td>\n",
       "      <td>0.0</td>\n",
       "      <td>0.0</td>\n",
       "      <td>Porcentagem Desconhecida</td>\n",
       "      <td>0.0</td>\n",
       "      <td>Porcentagem Desconhecida</td>\n",
       "      <td>0.0</td>\n",
       "      <td>0.0</td>\n",
       "      <td>...</td>\n",
       "      <td>NaN</td>\n",
       "      <td>NaN</td>\n",
       "      <td>NaN</td>\n",
       "      <td>NaN</td>\n",
       "      <td>NaN</td>\n",
       "      <td>NaN</td>\n",
       "      <td>NaN</td>\n",
       "      <td>NaN</td>\n",
       "      <td>NaN</td>\n",
       "      <td>NaN</td>\n",
       "    </tr>\n",
       "    <tr>\n",
       "      <th>9213</th>\n",
       "      <td>4607</td>\n",
       "      <td>1</td>\n",
       "      <td>Figueirense</td>\n",
       "      <td>0.0</td>\n",
       "      <td>0.0</td>\n",
       "      <td>Porcentagem Desconhecida</td>\n",
       "      <td>0.0</td>\n",
       "      <td>Porcentagem Desconhecida</td>\n",
       "      <td>0.0</td>\n",
       "      <td>0.0</td>\n",
       "      <td>...</td>\n",
       "      <td>NaN</td>\n",
       "      <td>NaN</td>\n",
       "      <td>NaN</td>\n",
       "      <td>NaN</td>\n",
       "      <td>NaN</td>\n",
       "      <td>NaN</td>\n",
       "      <td>NaN</td>\n",
       "      <td>NaN</td>\n",
       "      <td>NaN</td>\n",
       "      <td>NaN</td>\n",
       "    </tr>\n",
       "    <tr>\n",
       "      <th>9214</th>\n",
       "      <td>4608</td>\n",
       "      <td>1</td>\n",
       "      <td>Vitoria</td>\n",
       "      <td>0.0</td>\n",
       "      <td>0.0</td>\n",
       "      <td>Porcentagem Desconhecida</td>\n",
       "      <td>0.0</td>\n",
       "      <td>Porcentagem Desconhecida</td>\n",
       "      <td>0.0</td>\n",
       "      <td>0.0</td>\n",
       "      <td>...</td>\n",
       "      <td>NaN</td>\n",
       "      <td>NaN</td>\n",
       "      <td>NaN</td>\n",
       "      <td>NaN</td>\n",
       "      <td>NaN</td>\n",
       "      <td>NaN</td>\n",
       "      <td>NaN</td>\n",
       "      <td>NaN</td>\n",
       "      <td>NaN</td>\n",
       "      <td>NaN</td>\n",
       "    </tr>\n",
       "    <tr>\n",
       "      <th>9215</th>\n",
       "      <td>4608</td>\n",
       "      <td>1</td>\n",
       "      <td>Internacional</td>\n",
       "      <td>0.0</td>\n",
       "      <td>0.0</td>\n",
       "      <td>Porcentagem Desconhecida</td>\n",
       "      <td>0.0</td>\n",
       "      <td>Porcentagem Desconhecida</td>\n",
       "      <td>0.0</td>\n",
       "      <td>0.0</td>\n",
       "      <td>...</td>\n",
       "      <td>NaN</td>\n",
       "      <td>NaN</td>\n",
       "      <td>NaN</td>\n",
       "      <td>NaN</td>\n",
       "      <td>NaN</td>\n",
       "      <td>NaN</td>\n",
       "      <td>NaN</td>\n",
       "      <td>NaN</td>\n",
       "      <td>NaN</td>\n",
       "      <td>NaN</td>\n",
       "    </tr>\n",
       "    <tr>\n",
       "      <th>9218</th>\n",
       "      <td>4612</td>\n",
       "      <td>1</td>\n",
       "      <td>Bahia</td>\n",
       "      <td>0.0</td>\n",
       "      <td>0.0</td>\n",
       "      <td>Porcentagem Desconhecida</td>\n",
       "      <td>0.0</td>\n",
       "      <td>Porcentagem Desconhecida</td>\n",
       "      <td>0.0</td>\n",
       "      <td>0.0</td>\n",
       "      <td>...</td>\n",
       "      <td>NaN</td>\n",
       "      <td>NaN</td>\n",
       "      <td>NaN</td>\n",
       "      <td>NaN</td>\n",
       "      <td>NaN</td>\n",
       "      <td>NaN</td>\n",
       "      <td>NaN</td>\n",
       "      <td>NaN</td>\n",
       "      <td>NaN</td>\n",
       "      <td>NaN</td>\n",
       "    </tr>\n",
       "    <tr>\n",
       "      <th rowspan=\"5\" valign=\"top\">gols</th>\n",
       "      <th>0</th>\n",
       "      <td>4607</td>\n",
       "      <td>1</td>\n",
       "      <td>Fluminense</td>\n",
       "      <td>NaN</td>\n",
       "      <td>NaN</td>\n",
       "      <td>NaN</td>\n",
       "      <td>NaN</td>\n",
       "      <td>NaN</td>\n",
       "      <td>NaN</td>\n",
       "      <td>NaN</td>\n",
       "      <td>...</td>\n",
       "      <td>NaN</td>\n",
       "      <td>NaN</td>\n",
       "      <td>NaN</td>\n",
       "      <td>NaN</td>\n",
       "      <td>NaN</td>\n",
       "      <td>NaN</td>\n",
       "      <td>NaN</td>\n",
       "      <td>NaN</td>\n",
       "      <td>NaN</td>\n",
       "      <td>NaN</td>\n",
       "    </tr>\n",
       "    <tr>\n",
       "      <th>1</th>\n",
       "      <td>4607</td>\n",
       "      <td>1</td>\n",
       "      <td>Fluminense</td>\n",
       "      <td>NaN</td>\n",
       "      <td>NaN</td>\n",
       "      <td>NaN</td>\n",
       "      <td>NaN</td>\n",
       "      <td>NaN</td>\n",
       "      <td>NaN</td>\n",
       "      <td>NaN</td>\n",
       "      <td>...</td>\n",
       "      <td>NaN</td>\n",
       "      <td>NaN</td>\n",
       "      <td>NaN</td>\n",
       "      <td>NaN</td>\n",
       "      <td>NaN</td>\n",
       "      <td>NaN</td>\n",
       "      <td>NaN</td>\n",
       "      <td>NaN</td>\n",
       "      <td>NaN</td>\n",
       "      <td>NaN</td>\n",
       "    </tr>\n",
       "    <tr>\n",
       "      <th>2</th>\n",
       "      <td>4607</td>\n",
       "      <td>1</td>\n",
       "      <td>Fluminense</td>\n",
       "      <td>NaN</td>\n",
       "      <td>NaN</td>\n",
       "      <td>NaN</td>\n",
       "      <td>NaN</td>\n",
       "      <td>NaN</td>\n",
       "      <td>NaN</td>\n",
       "      <td>NaN</td>\n",
       "      <td>...</td>\n",
       "      <td>NaN</td>\n",
       "      <td>NaN</td>\n",
       "      <td>NaN</td>\n",
       "      <td>NaN</td>\n",
       "      <td>NaN</td>\n",
       "      <td>NaN</td>\n",
       "      <td>NaN</td>\n",
       "      <td>NaN</td>\n",
       "      <td>NaN</td>\n",
       "      <td>NaN</td>\n",
       "    </tr>\n",
       "    <tr>\n",
       "      <th>3</th>\n",
       "      <td>4608</td>\n",
       "      <td>1</td>\n",
       "      <td>Internacional</td>\n",
       "      <td>NaN</td>\n",
       "      <td>NaN</td>\n",
       "      <td>NaN</td>\n",
       "      <td>NaN</td>\n",
       "      <td>NaN</td>\n",
       "      <td>NaN</td>\n",
       "      <td>NaN</td>\n",
       "      <td>...</td>\n",
       "      <td>NaN</td>\n",
       "      <td>NaN</td>\n",
       "      <td>NaN</td>\n",
       "      <td>NaN</td>\n",
       "      <td>NaN</td>\n",
       "      <td>NaN</td>\n",
       "      <td>NaN</td>\n",
       "      <td>NaN</td>\n",
       "      <td>NaN</td>\n",
       "      <td>NaN</td>\n",
       "    </tr>\n",
       "    <tr>\n",
       "      <th>4</th>\n",
       "      <td>4612</td>\n",
       "      <td>1</td>\n",
       "      <td>Cruzeiro</td>\n",
       "      <td>NaN</td>\n",
       "      <td>NaN</td>\n",
       "      <td>NaN</td>\n",
       "      <td>NaN</td>\n",
       "      <td>NaN</td>\n",
       "      <td>NaN</td>\n",
       "      <td>NaN</td>\n",
       "      <td>...</td>\n",
       "      <td>NaN</td>\n",
       "      <td>NaN</td>\n",
       "      <td>NaN</td>\n",
       "      <td>NaN</td>\n",
       "      <td>NaN</td>\n",
       "      <td>NaN</td>\n",
       "      <td>NaN</td>\n",
       "      <td>NaN</td>\n",
       "      <td>NaN</td>\n",
       "      <td>NaN</td>\n",
       "    </tr>\n",
       "    <tr>\n",
       "      <th rowspan=\"5\" valign=\"top\">full</th>\n",
       "      <th>4606</th>\n",
       "      <td>4607</td>\n",
       "      <td>1</td>\n",
       "      <td>NaN</td>\n",
       "      <td>NaN</td>\n",
       "      <td>NaN</td>\n",
       "      <td>NaN</td>\n",
       "      <td>NaN</td>\n",
       "      <td>NaN</td>\n",
       "      <td>NaN</td>\n",
       "      <td>NaN</td>\n",
       "      <td>...</td>\n",
       "      <td>Formação Desconhecida</td>\n",
       "      <td>Formação Desconhecida</td>\n",
       "      <td>C. Borges dos Santos</td>\n",
       "      <td>V. Eutrópio</td>\n",
       "      <td>Fluminense</td>\n",
       "      <td>Maracanã</td>\n",
       "      <td>3.0</td>\n",
       "      <td>0.0</td>\n",
       "      <td>RJ</td>\n",
       "      <td>SC</td>\n",
       "    </tr>\n",
       "    <tr>\n",
       "      <th>4607</th>\n",
       "      <td>4608</td>\n",
       "      <td>1</td>\n",
       "      <td>NaN</td>\n",
       "      <td>NaN</td>\n",
       "      <td>NaN</td>\n",
       "      <td>NaN</td>\n",
       "      <td>NaN</td>\n",
       "      <td>NaN</td>\n",
       "      <td>NaN</td>\n",
       "      <td>NaN</td>\n",
       "      <td>...</td>\n",
       "      <td>Formação Desconhecida</td>\n",
       "      <td>Formação Desconhecida</td>\n",
       "      <td>A. da Silva Braga</td>\n",
       "      <td>N. da Silveira Júnior</td>\n",
       "      <td>Internacional</td>\n",
       "      <td>Estádio José Pinheiro Borda</td>\n",
       "      <td>1.0</td>\n",
       "      <td>0.0</td>\n",
       "      <td>RS</td>\n",
       "      <td>BA</td>\n",
       "    </tr>\n",
       "    <tr>\n",
       "      <th>4609</th>\n",
       "      <td>4612</td>\n",
       "      <td>1</td>\n",
       "      <td>NaN</td>\n",
       "      <td>NaN</td>\n",
       "      <td>NaN</td>\n",
       "      <td>NaN</td>\n",
       "      <td>NaN</td>\n",
       "      <td>NaN</td>\n",
       "      <td>NaN</td>\n",
       "      <td>NaN</td>\n",
       "      <td>...</td>\n",
       "      <td>Formação Desconhecida</td>\n",
       "      <td>Formação Desconhecida</td>\n",
       "      <td>M. dos Santos Gonçalves</td>\n",
       "      <td>M. de Oliveira Santos</td>\n",
       "      <td>Cruzeiro</td>\n",
       "      <td>Itaipava Arena Fonte Nova</td>\n",
       "      <td>1.0</td>\n",
       "      <td>2.0</td>\n",
       "      <td>BA</td>\n",
       "      <td>MG</td>\n",
       "    </tr>\n",
       "    <tr>\n",
       "      <th>4610</th>\n",
       "      <td>4611</td>\n",
       "      <td>1</td>\n",
       "      <td>NaN</td>\n",
       "      <td>NaN</td>\n",
       "      <td>NaN</td>\n",
       "      <td>NaN</td>\n",
       "      <td>NaN</td>\n",
       "      <td>NaN</td>\n",
       "      <td>NaN</td>\n",
       "      <td>NaN</td>\n",
       "      <td>...</td>\n",
       "      <td>Formação Desconhecida</td>\n",
       "      <td>Formação Desconhecida</td>\n",
       "      <td>M. Ramalho</td>\n",
       "      <td>V. Carmo Mancini</td>\n",
       "      <td>Sao Paulo</td>\n",
       "      <td>Morumbi</td>\n",
       "      <td>3.0</td>\n",
       "      <td>0.0</td>\n",
       "      <td>SP</td>\n",
       "      <td>RJ</td>\n",
       "    </tr>\n",
       "    <tr>\n",
       "      <th>4611</th>\n",
       "      <td>4610</td>\n",
       "      <td>1</td>\n",
       "      <td>NaN</td>\n",
       "      <td>NaN</td>\n",
       "      <td>NaN</td>\n",
       "      <td>NaN</td>\n",
       "      <td>NaN</td>\n",
       "      <td>NaN</td>\n",
       "      <td>NaN</td>\n",
       "      <td>NaN</td>\n",
       "      <td>...</td>\n",
       "      <td>Formação Desconhecida</td>\n",
       "      <td>Formação Desconhecida</td>\n",
       "      <td>M. Portugal Vicario</td>\n",
       "      <td>E. Alves Moreira</td>\n",
       "      <td>Athletico-PR</td>\n",
       "      <td>Orlando Scarpelli</td>\n",
       "      <td>1.0</td>\n",
       "      <td>0.0</td>\n",
       "      <td>PR</td>\n",
       "      <td>RS</td>\n",
       "    </tr>\n",
       "  </tbody>\n",
       "</table>\n",
       "<p>15 rows × 30 columns</p>\n",
       "</div>"
      ],
      "text/plain": [
       "                    partida_id  rodata          clube  chutes  chutes_no_alvo  \\\n",
       "Tabela       Linha                                                              \n",
       "estatisticas 9212         4607       1     Fluminense     0.0             0.0   \n",
       "             9213         4607       1    Figueirense     0.0             0.0   \n",
       "             9214         4608       1        Vitoria     0.0             0.0   \n",
       "             9215         4608       1  Internacional     0.0             0.0   \n",
       "             9218         4612       1          Bahia     0.0             0.0   \n",
       "gols         0            4607       1     Fluminense     NaN             NaN   \n",
       "             1            4607       1     Fluminense     NaN             NaN   \n",
       "             2            4607       1     Fluminense     NaN             NaN   \n",
       "             3            4608       1  Internacional     NaN             NaN   \n",
       "             4            4612       1       Cruzeiro     NaN             NaN   \n",
       "full         4606         4607       1            NaN     NaN             NaN   \n",
       "             4607         4608       1            NaN     NaN             NaN   \n",
       "             4609         4612       1            NaN     NaN             NaN   \n",
       "             4610         4611       1            NaN     NaN             NaN   \n",
       "             4611         4610       1            NaN     NaN             NaN   \n",
       "\n",
       "                               posse_de_bola  passes  \\\n",
       "Tabela       Linha                                     \n",
       "estatisticas 9212   Porcentagem Desconhecida     0.0   \n",
       "             9213   Porcentagem Desconhecida     0.0   \n",
       "             9214   Porcentagem Desconhecida     0.0   \n",
       "             9215   Porcentagem Desconhecida     0.0   \n",
       "             9218   Porcentagem Desconhecida     0.0   \n",
       "gols         0                           NaN     NaN   \n",
       "             1                           NaN     NaN   \n",
       "             2                           NaN     NaN   \n",
       "             3                           NaN     NaN   \n",
       "             4                           NaN     NaN   \n",
       "full         4606                        NaN     NaN   \n",
       "             4607                        NaN     NaN   \n",
       "             4609                        NaN     NaN   \n",
       "             4610                        NaN     NaN   \n",
       "             4611                        NaN     NaN   \n",
       "\n",
       "                             precisao_passes  faltas  cartao_amarelo  ...  \\\n",
       "Tabela       Linha                                                    ...   \n",
       "estatisticas 9212   Porcentagem Desconhecida     0.0             0.0  ...   \n",
       "             9213   Porcentagem Desconhecida     0.0             0.0  ...   \n",
       "             9214   Porcentagem Desconhecida     0.0             0.0  ...   \n",
       "             9215   Porcentagem Desconhecida     0.0             0.0  ...   \n",
       "             9218   Porcentagem Desconhecida     0.0             0.0  ...   \n",
       "gols         0                           NaN     NaN             NaN  ...   \n",
       "             1                           NaN     NaN             NaN  ...   \n",
       "             2                           NaN     NaN             NaN  ...   \n",
       "             3                           NaN     NaN             NaN  ...   \n",
       "             4                           NaN     NaN             NaN  ...   \n",
       "full         4606                        NaN     NaN             NaN  ...   \n",
       "             4607                        NaN     NaN             NaN  ...   \n",
       "             4609                        NaN     NaN             NaN  ...   \n",
       "             4610                        NaN     NaN             NaN  ...   \n",
       "             4611                        NaN     NaN             NaN  ...   \n",
       "\n",
       "                        formacao_mandante     formacao_visitante  \\\n",
       "Tabela       Linha                                                 \n",
       "estatisticas 9212                     NaN                    NaN   \n",
       "             9213                     NaN                    NaN   \n",
       "             9214                     NaN                    NaN   \n",
       "             9215                     NaN                    NaN   \n",
       "             9218                     NaN                    NaN   \n",
       "gols         0                        NaN                    NaN   \n",
       "             1                        NaN                    NaN   \n",
       "             2                        NaN                    NaN   \n",
       "             3                        NaN                    NaN   \n",
       "             4                        NaN                    NaN   \n",
       "full         4606   Formação Desconhecida  Formação Desconhecida   \n",
       "             4607   Formação Desconhecida  Formação Desconhecida   \n",
       "             4609   Formação Desconhecida  Formação Desconhecida   \n",
       "             4610   Formação Desconhecida  Formação Desconhecida   \n",
       "             4611   Formação Desconhecida  Formação Desconhecida   \n",
       "\n",
       "                           tecnico_mandante      tecnico_visitante  \\\n",
       "Tabela       Linha                                                   \n",
       "estatisticas 9212                       NaN                    NaN   \n",
       "             9213                       NaN                    NaN   \n",
       "             9214                       NaN                    NaN   \n",
       "             9215                       NaN                    NaN   \n",
       "             9218                       NaN                    NaN   \n",
       "gols         0                          NaN                    NaN   \n",
       "             1                          NaN                    NaN   \n",
       "             2                          NaN                    NaN   \n",
       "             3                          NaN                    NaN   \n",
       "             4                          NaN                    NaN   \n",
       "full         4606      C. Borges dos Santos            V. Eutrópio   \n",
       "             4607         A. da Silva Braga  N. da Silveira Júnior   \n",
       "             4609   M. dos Santos Gonçalves  M. de Oliveira Santos   \n",
       "             4610                M. Ramalho       V. Carmo Mancini   \n",
       "             4611       M. Portugal Vicario       E. Alves Moreira   \n",
       "\n",
       "                         vencedor                        arena  \\\n",
       "Tabela       Linha                                               \n",
       "estatisticas 9212             NaN                          NaN   \n",
       "             9213             NaN                          NaN   \n",
       "             9214             NaN                          NaN   \n",
       "             9215             NaN                          NaN   \n",
       "             9218             NaN                          NaN   \n",
       "gols         0                NaN                          NaN   \n",
       "             1                NaN                          NaN   \n",
       "             2                NaN                          NaN   \n",
       "             3                NaN                          NaN   \n",
       "             4                NaN                          NaN   \n",
       "full         4606      Fluminense                     Maracanã   \n",
       "             4607   Internacional  Estádio José Pinheiro Borda   \n",
       "             4609        Cruzeiro    Itaipava Arena Fonte Nova   \n",
       "             4610       Sao Paulo                      Morumbi   \n",
       "             4611    Athletico-PR            Orlando Scarpelli   \n",
       "\n",
       "                   mandante_Placar visitante_Placar mandante_Estado  \\\n",
       "Tabela       Linha                                                    \n",
       "estatisticas 9212              NaN              NaN             NaN   \n",
       "             9213              NaN              NaN             NaN   \n",
       "             9214              NaN              NaN             NaN   \n",
       "             9215              NaN              NaN             NaN   \n",
       "             9218              NaN              NaN             NaN   \n",
       "gols         0                 NaN              NaN             NaN   \n",
       "             1                 NaN              NaN             NaN   \n",
       "             2                 NaN              NaN             NaN   \n",
       "             3                 NaN              NaN             NaN   \n",
       "             4                 NaN              NaN             NaN   \n",
       "full         4606              3.0              0.0              RJ   \n",
       "             4607              1.0              0.0              RS   \n",
       "             4609              1.0              2.0              BA   \n",
       "             4610              3.0              0.0              SP   \n",
       "             4611              1.0              0.0              PR   \n",
       "\n",
       "                   visitante_Estado  \n",
       "Tabela       Linha                   \n",
       "estatisticas 9212               NaN  \n",
       "             9213               NaN  \n",
       "             9214               NaN  \n",
       "             9215               NaN  \n",
       "             9218               NaN  \n",
       "gols         0                  NaN  \n",
       "             1                  NaN  \n",
       "             2                  NaN  \n",
       "             3                  NaN  \n",
       "             4                  NaN  \n",
       "full         4606                SC  \n",
       "             4607                BA  \n",
       "             4609                MG  \n",
       "             4610                RJ  \n",
       "             4611                RS  \n",
       "\n",
       "[15 rows x 30 columns]"
      ]
     },
     "execution_count": 14,
     "metadata": {},
     "output_type": "execute_result"
    }
   ],
   "source": [
    "# Tratamento de valores nulos, strings vazias ou NaN\n",
    "# Tabela estatisticas\n",
    "df_estatisticas_filtrado[\"precisao_passes\"] = df_estatisticas_filtrado[\"precisao_passes\"].fillna(\"Porcentagem Desconhecida\")\n",
    "df_estatisticas_filtrado[\"posse_de_bola\"] = df_estatisticas_filtrado[\"posse_de_bola\"].fillna(\"Porcentagem Desconhecida\")\n",
    "\n",
    "# Tabela gols\n",
    "df_gols_filtrado[\"tipo_de_gol\"] = df_gols_filtrado[\"tipo_de_gol\"].fillna(\"Gol Regular\")\n",
    "\n",
    "# Tabela brasileirao_full - forma correta\n",
    "df_full_filtrado[\"tecnico_mandante\"] = df_full_filtrado[\"tecnico_mandante\"].fillna(\"Técnico Desconhecido\")\n",
    "df_full_filtrado[\"tecnico_visitante\"] = df_full_filtrado[\"tecnico_visitante\"].fillna(\"Técnico Desconhecido\")\n",
    "df_full_filtrado[\"formacao_mandante\"] = df_full_filtrado[\"formacao_mandante\"].fillna(\"Formação Desconhecida\")\n",
    "df_full_filtrado[\"formacao_visitante\"] = df_full_filtrado[\"formacao_visitante\"].fillna(\"Formação Desconhecida\")\n",
    "\n",
    "\n",
    "# Mostrar amostras das tabelas tratadas\n",
    "amostras_tratadas = {\n",
    "    \"estatisticas\": df_estatisticas_filtrado.head(5),\n",
    "    \"gols\": df_gols_filtrado.head(5),\n",
    "    \"full\": df_full_filtrado.head(5)\n",
    "}\n",
    "\n",
    "display(amostras_tratadas[\"estatisticas\"])\n",
    "display(amostras_tratadas[\"gols\"])\n",
    "display(amostras_tratadas[\"full\"])\n",
    "\n",
    "pd.concat(amostras_tratadas, axis=0, names=[\"Tabela\", \"Linha\"])"
   ]
  },
  {
   "cell_type": "markdown",
   "metadata": {},
   "source": [
    "# Etapa 3 - Atividade 1 (Passo 3): Remoção de informações irrelevantes\n",
    "## Objetivo:\n",
    "Melhorar a qualidade dos dados, eliminando valores ausentes que possam impactar as análises e removendo colunas que não contribuem para os objetivos propostos.\n",
    "\n",
    "## Análise manual e porcentagem:\n",
    "Após reunião com conhecido que conhecia bastante sobre o contexto de futebol, fiz algumas análises individuais e retirei colunas que não seriam relevantes para o contexto do desafio."
   ]
  },
  {
   "cell_type": "code",
   "execution_count": 15,
   "metadata": {},
   "outputs": [
    {
     "data": {
      "text/html": [
       "<div>\n",
       "<style scoped>\n",
       "    .dataframe tbody tr th:only-of-type {\n",
       "        vertical-align: middle;\n",
       "    }\n",
       "\n",
       "    .dataframe tbody tr th {\n",
       "        vertical-align: top;\n",
       "    }\n",
       "\n",
       "    .dataframe thead th {\n",
       "        text-align: right;\n",
       "    }\n",
       "</style>\n",
       "<table border=\"1\" class=\"dataframe\">\n",
       "  <thead>\n",
       "    <tr style=\"text-align: right;\">\n",
       "      <th></th>\n",
       "      <th></th>\n",
       "      <th>partida_id</th>\n",
       "      <th>rodata</th>\n",
       "      <th>mandante</th>\n",
       "      <th>visitante</th>\n",
       "      <th>formacao_mandante</th>\n",
       "      <th>formacao_visitante</th>\n",
       "      <th>vencedor</th>\n",
       "      <th>mandante_Placar</th>\n",
       "      <th>visitante_Placar</th>\n",
       "      <th>clube</th>\n",
       "      <th>...</th>\n",
       "      <th>passes</th>\n",
       "      <th>faltas</th>\n",
       "      <th>cartao_amarelo</th>\n",
       "      <th>cartao_vermelho</th>\n",
       "      <th>impedimentos</th>\n",
       "      <th>escanteios</th>\n",
       "      <th>cartao</th>\n",
       "      <th>atleta</th>\n",
       "      <th>posicao</th>\n",
       "      <th>tipo_de_gol</th>\n",
       "    </tr>\n",
       "    <tr>\n",
       "      <th>Tabela</th>\n",
       "      <th>Linha</th>\n",
       "      <th></th>\n",
       "      <th></th>\n",
       "      <th></th>\n",
       "      <th></th>\n",
       "      <th></th>\n",
       "      <th></th>\n",
       "      <th></th>\n",
       "      <th></th>\n",
       "      <th></th>\n",
       "      <th></th>\n",
       "      <th></th>\n",
       "      <th></th>\n",
       "      <th></th>\n",
       "      <th></th>\n",
       "      <th></th>\n",
       "      <th></th>\n",
       "      <th></th>\n",
       "      <th></th>\n",
       "      <th></th>\n",
       "      <th></th>\n",
       "      <th></th>\n",
       "    </tr>\n",
       "  </thead>\n",
       "  <tbody>\n",
       "    <tr>\n",
       "      <th rowspan=\"5\" valign=\"top\">full</th>\n",
       "      <th>4606</th>\n",
       "      <td>4607</td>\n",
       "      <td>1</td>\n",
       "      <td>Fluminense</td>\n",
       "      <td>Figueirense</td>\n",
       "      <td>Formação Desconhecida</td>\n",
       "      <td>Formação Desconhecida</td>\n",
       "      <td>Fluminense</td>\n",
       "      <td>3.0</td>\n",
       "      <td>0.0</td>\n",
       "      <td>NaN</td>\n",
       "      <td>...</td>\n",
       "      <td>NaN</td>\n",
       "      <td>NaN</td>\n",
       "      <td>NaN</td>\n",
       "      <td>NaN</td>\n",
       "      <td>NaN</td>\n",
       "      <td>NaN</td>\n",
       "      <td>NaN</td>\n",
       "      <td>NaN</td>\n",
       "      <td>NaN</td>\n",
       "      <td>NaN</td>\n",
       "    </tr>\n",
       "    <tr>\n",
       "      <th>4607</th>\n",
       "      <td>4608</td>\n",
       "      <td>1</td>\n",
       "      <td>Internacional</td>\n",
       "      <td>Vitoria</td>\n",
       "      <td>Formação Desconhecida</td>\n",
       "      <td>Formação Desconhecida</td>\n",
       "      <td>Internacional</td>\n",
       "      <td>1.0</td>\n",
       "      <td>0.0</td>\n",
       "      <td>NaN</td>\n",
       "      <td>...</td>\n",
       "      <td>NaN</td>\n",
       "      <td>NaN</td>\n",
       "      <td>NaN</td>\n",
       "      <td>NaN</td>\n",
       "      <td>NaN</td>\n",
       "      <td>NaN</td>\n",
       "      <td>NaN</td>\n",
       "      <td>NaN</td>\n",
       "      <td>NaN</td>\n",
       "      <td>NaN</td>\n",
       "    </tr>\n",
       "    <tr>\n",
       "      <th>4609</th>\n",
       "      <td>4612</td>\n",
       "      <td>1</td>\n",
       "      <td>Bahia</td>\n",
       "      <td>Cruzeiro</td>\n",
       "      <td>Formação Desconhecida</td>\n",
       "      <td>Formação Desconhecida</td>\n",
       "      <td>Cruzeiro</td>\n",
       "      <td>1.0</td>\n",
       "      <td>2.0</td>\n",
       "      <td>NaN</td>\n",
       "      <td>...</td>\n",
       "      <td>NaN</td>\n",
       "      <td>NaN</td>\n",
       "      <td>NaN</td>\n",
       "      <td>NaN</td>\n",
       "      <td>NaN</td>\n",
       "      <td>NaN</td>\n",
       "      <td>NaN</td>\n",
       "      <td>NaN</td>\n",
       "      <td>NaN</td>\n",
       "      <td>NaN</td>\n",
       "    </tr>\n",
       "    <tr>\n",
       "      <th>4610</th>\n",
       "      <td>4611</td>\n",
       "      <td>1</td>\n",
       "      <td>Sao Paulo</td>\n",
       "      <td>Botafogo-RJ</td>\n",
       "      <td>Formação Desconhecida</td>\n",
       "      <td>Formação Desconhecida</td>\n",
       "      <td>Sao Paulo</td>\n",
       "      <td>3.0</td>\n",
       "      <td>0.0</td>\n",
       "      <td>NaN</td>\n",
       "      <td>...</td>\n",
       "      <td>NaN</td>\n",
       "      <td>NaN</td>\n",
       "      <td>NaN</td>\n",
       "      <td>NaN</td>\n",
       "      <td>NaN</td>\n",
       "      <td>NaN</td>\n",
       "      <td>NaN</td>\n",
       "      <td>NaN</td>\n",
       "      <td>NaN</td>\n",
       "      <td>NaN</td>\n",
       "    </tr>\n",
       "    <tr>\n",
       "      <th>4611</th>\n",
       "      <td>4610</td>\n",
       "      <td>1</td>\n",
       "      <td>Athletico-PR</td>\n",
       "      <td>Gremio</td>\n",
       "      <td>Formação Desconhecida</td>\n",
       "      <td>Formação Desconhecida</td>\n",
       "      <td>Athletico-PR</td>\n",
       "      <td>1.0</td>\n",
       "      <td>0.0</td>\n",
       "      <td>NaN</td>\n",
       "      <td>...</td>\n",
       "      <td>NaN</td>\n",
       "      <td>NaN</td>\n",
       "      <td>NaN</td>\n",
       "      <td>NaN</td>\n",
       "      <td>NaN</td>\n",
       "      <td>NaN</td>\n",
       "      <td>NaN</td>\n",
       "      <td>NaN</td>\n",
       "      <td>NaN</td>\n",
       "      <td>NaN</td>\n",
       "    </tr>\n",
       "    <tr>\n",
       "      <th rowspan=\"5\" valign=\"top\">estatisticas</th>\n",
       "      <th>9212</th>\n",
       "      <td>4607</td>\n",
       "      <td>1</td>\n",
       "      <td>NaN</td>\n",
       "      <td>NaN</td>\n",
       "      <td>NaN</td>\n",
       "      <td>NaN</td>\n",
       "      <td>NaN</td>\n",
       "      <td>NaN</td>\n",
       "      <td>NaN</td>\n",
       "      <td>Fluminense</td>\n",
       "      <td>...</td>\n",
       "      <td>0.0</td>\n",
       "      <td>0.0</td>\n",
       "      <td>0.0</td>\n",
       "      <td>0.0</td>\n",
       "      <td>0.0</td>\n",
       "      <td>0.0</td>\n",
       "      <td>NaN</td>\n",
       "      <td>NaN</td>\n",
       "      <td>NaN</td>\n",
       "      <td>NaN</td>\n",
       "    </tr>\n",
       "    <tr>\n",
       "      <th>9213</th>\n",
       "      <td>4607</td>\n",
       "      <td>1</td>\n",
       "      <td>NaN</td>\n",
       "      <td>NaN</td>\n",
       "      <td>NaN</td>\n",
       "      <td>NaN</td>\n",
       "      <td>NaN</td>\n",
       "      <td>NaN</td>\n",
       "      <td>NaN</td>\n",
       "      <td>Figueirense</td>\n",
       "      <td>...</td>\n",
       "      <td>0.0</td>\n",
       "      <td>0.0</td>\n",
       "      <td>0.0</td>\n",
       "      <td>0.0</td>\n",
       "      <td>0.0</td>\n",
       "      <td>0.0</td>\n",
       "      <td>NaN</td>\n",
       "      <td>NaN</td>\n",
       "      <td>NaN</td>\n",
       "      <td>NaN</td>\n",
       "    </tr>\n",
       "    <tr>\n",
       "      <th>9214</th>\n",
       "      <td>4608</td>\n",
       "      <td>1</td>\n",
       "      <td>NaN</td>\n",
       "      <td>NaN</td>\n",
       "      <td>NaN</td>\n",
       "      <td>NaN</td>\n",
       "      <td>NaN</td>\n",
       "      <td>NaN</td>\n",
       "      <td>NaN</td>\n",
       "      <td>Vitoria</td>\n",
       "      <td>...</td>\n",
       "      <td>0.0</td>\n",
       "      <td>0.0</td>\n",
       "      <td>0.0</td>\n",
       "      <td>0.0</td>\n",
       "      <td>0.0</td>\n",
       "      <td>0.0</td>\n",
       "      <td>NaN</td>\n",
       "      <td>NaN</td>\n",
       "      <td>NaN</td>\n",
       "      <td>NaN</td>\n",
       "    </tr>\n",
       "    <tr>\n",
       "      <th>9215</th>\n",
       "      <td>4608</td>\n",
       "      <td>1</td>\n",
       "      <td>NaN</td>\n",
       "      <td>NaN</td>\n",
       "      <td>NaN</td>\n",
       "      <td>NaN</td>\n",
       "      <td>NaN</td>\n",
       "      <td>NaN</td>\n",
       "      <td>NaN</td>\n",
       "      <td>Internacional</td>\n",
       "      <td>...</td>\n",
       "      <td>0.0</td>\n",
       "      <td>0.0</td>\n",
       "      <td>0.0</td>\n",
       "      <td>0.0</td>\n",
       "      <td>0.0</td>\n",
       "      <td>0.0</td>\n",
       "      <td>NaN</td>\n",
       "      <td>NaN</td>\n",
       "      <td>NaN</td>\n",
       "      <td>NaN</td>\n",
       "    </tr>\n",
       "    <tr>\n",
       "      <th>9218</th>\n",
       "      <td>4612</td>\n",
       "      <td>1</td>\n",
       "      <td>NaN</td>\n",
       "      <td>NaN</td>\n",
       "      <td>NaN</td>\n",
       "      <td>NaN</td>\n",
       "      <td>NaN</td>\n",
       "      <td>NaN</td>\n",
       "      <td>NaN</td>\n",
       "      <td>Bahia</td>\n",
       "      <td>...</td>\n",
       "      <td>0.0</td>\n",
       "      <td>0.0</td>\n",
       "      <td>0.0</td>\n",
       "      <td>0.0</td>\n",
       "      <td>0.0</td>\n",
       "      <td>0.0</td>\n",
       "      <td>NaN</td>\n",
       "      <td>NaN</td>\n",
       "      <td>NaN</td>\n",
       "      <td>NaN</td>\n",
       "    </tr>\n",
       "    <tr>\n",
       "      <th rowspan=\"5\" valign=\"top\">cartoes</th>\n",
       "      <th>0</th>\n",
       "      <td>4607</td>\n",
       "      <td>1</td>\n",
       "      <td>NaN</td>\n",
       "      <td>NaN</td>\n",
       "      <td>NaN</td>\n",
       "      <td>NaN</td>\n",
       "      <td>NaN</td>\n",
       "      <td>NaN</td>\n",
       "      <td>NaN</td>\n",
       "      <td>Figueirense</td>\n",
       "      <td>...</td>\n",
       "      <td>NaN</td>\n",
       "      <td>NaN</td>\n",
       "      <td>NaN</td>\n",
       "      <td>NaN</td>\n",
       "      <td>NaN</td>\n",
       "      <td>NaN</td>\n",
       "      <td>Amarelo</td>\n",
       "      <td>Paulo Roberto da Silva</td>\n",
       "      <td>NaN</td>\n",
       "      <td>NaN</td>\n",
       "    </tr>\n",
       "    <tr>\n",
       "      <th>1</th>\n",
       "      <td>4607</td>\n",
       "      <td>1</td>\n",
       "      <td>NaN</td>\n",
       "      <td>NaN</td>\n",
       "      <td>NaN</td>\n",
       "      <td>NaN</td>\n",
       "      <td>NaN</td>\n",
       "      <td>NaN</td>\n",
       "      <td>NaN</td>\n",
       "      <td>Figueirense</td>\n",
       "      <td>...</td>\n",
       "      <td>NaN</td>\n",
       "      <td>NaN</td>\n",
       "      <td>NaN</td>\n",
       "      <td>NaN</td>\n",
       "      <td>NaN</td>\n",
       "      <td>NaN</td>\n",
       "      <td>Amarelo</td>\n",
       "      <td>Thiago Heleno</td>\n",
       "      <td>Zagueiro</td>\n",
       "      <td>NaN</td>\n",
       "    </tr>\n",
       "    <tr>\n",
       "      <th>2</th>\n",
       "      <td>4608</td>\n",
       "      <td>1</td>\n",
       "      <td>NaN</td>\n",
       "      <td>NaN</td>\n",
       "      <td>NaN</td>\n",
       "      <td>NaN</td>\n",
       "      <td>NaN</td>\n",
       "      <td>NaN</td>\n",
       "      <td>NaN</td>\n",
       "      <td>Internacional</td>\n",
       "      <td>...</td>\n",
       "      <td>NaN</td>\n",
       "      <td>NaN</td>\n",
       "      <td>NaN</td>\n",
       "      <td>NaN</td>\n",
       "      <td>NaN</td>\n",
       "      <td>NaN</td>\n",
       "      <td>Amarelo</td>\n",
       "      <td>Andrés D'Alessandro</td>\n",
       "      <td>Meio-campo</td>\n",
       "      <td>NaN</td>\n",
       "    </tr>\n",
       "    <tr>\n",
       "      <th>3</th>\n",
       "      <td>4608</td>\n",
       "      <td>1</td>\n",
       "      <td>NaN</td>\n",
       "      <td>NaN</td>\n",
       "      <td>NaN</td>\n",
       "      <td>NaN</td>\n",
       "      <td>NaN</td>\n",
       "      <td>NaN</td>\n",
       "      <td>NaN</td>\n",
       "      <td>Vitoria</td>\n",
       "      <td>...</td>\n",
       "      <td>NaN</td>\n",
       "      <td>NaN</td>\n",
       "      <td>NaN</td>\n",
       "      <td>NaN</td>\n",
       "      <td>NaN</td>\n",
       "      <td>NaN</td>\n",
       "      <td>Amarelo</td>\n",
       "      <td>Marcelo Machado dos Santos</td>\n",
       "      <td>NaN</td>\n",
       "      <td>NaN</td>\n",
       "    </tr>\n",
       "    <tr>\n",
       "      <th>4</th>\n",
       "      <td>4608</td>\n",
       "      <td>1</td>\n",
       "      <td>NaN</td>\n",
       "      <td>NaN</td>\n",
       "      <td>NaN</td>\n",
       "      <td>NaN</td>\n",
       "      <td>NaN</td>\n",
       "      <td>NaN</td>\n",
       "      <td>NaN</td>\n",
       "      <td>Vitoria</td>\n",
       "      <td>...</td>\n",
       "      <td>NaN</td>\n",
       "      <td>NaN</td>\n",
       "      <td>NaN</td>\n",
       "      <td>NaN</td>\n",
       "      <td>NaN</td>\n",
       "      <td>NaN</td>\n",
       "      <td>Amarelo</td>\n",
       "      <td>Mansur</td>\n",
       "      <td>Zagueiro</td>\n",
       "      <td>NaN</td>\n",
       "    </tr>\n",
       "    <tr>\n",
       "      <th rowspan=\"5\" valign=\"top\">gols</th>\n",
       "      <th>0</th>\n",
       "      <td>4607</td>\n",
       "      <td>1</td>\n",
       "      <td>NaN</td>\n",
       "      <td>NaN</td>\n",
       "      <td>NaN</td>\n",
       "      <td>NaN</td>\n",
       "      <td>NaN</td>\n",
       "      <td>NaN</td>\n",
       "      <td>NaN</td>\n",
       "      <td>Fluminense</td>\n",
       "      <td>...</td>\n",
       "      <td>NaN</td>\n",
       "      <td>NaN</td>\n",
       "      <td>NaN</td>\n",
       "      <td>NaN</td>\n",
       "      <td>NaN</td>\n",
       "      <td>NaN</td>\n",
       "      <td>NaN</td>\n",
       "      <td>Rafael Sóbis</td>\n",
       "      <td>NaN</td>\n",
       "      <td>Gol Regular</td>\n",
       "    </tr>\n",
       "    <tr>\n",
       "      <th>1</th>\n",
       "      <td>4607</td>\n",
       "      <td>1</td>\n",
       "      <td>NaN</td>\n",
       "      <td>NaN</td>\n",
       "      <td>NaN</td>\n",
       "      <td>NaN</td>\n",
       "      <td>NaN</td>\n",
       "      <td>NaN</td>\n",
       "      <td>NaN</td>\n",
       "      <td>Fluminense</td>\n",
       "      <td>...</td>\n",
       "      <td>NaN</td>\n",
       "      <td>NaN</td>\n",
       "      <td>NaN</td>\n",
       "      <td>NaN</td>\n",
       "      <td>NaN</td>\n",
       "      <td>NaN</td>\n",
       "      <td>NaN</td>\n",
       "      <td>Nirley da Silva Fonseca</td>\n",
       "      <td>NaN</td>\n",
       "      <td>Gol Contra</td>\n",
       "    </tr>\n",
       "    <tr>\n",
       "      <th>2</th>\n",
       "      <td>4607</td>\n",
       "      <td>1</td>\n",
       "      <td>NaN</td>\n",
       "      <td>NaN</td>\n",
       "      <td>NaN</td>\n",
       "      <td>NaN</td>\n",
       "      <td>NaN</td>\n",
       "      <td>NaN</td>\n",
       "      <td>NaN</td>\n",
       "      <td>Fluminense</td>\n",
       "      <td>...</td>\n",
       "      <td>NaN</td>\n",
       "      <td>NaN</td>\n",
       "      <td>NaN</td>\n",
       "      <td>NaN</td>\n",
       "      <td>NaN</td>\n",
       "      <td>NaN</td>\n",
       "      <td>NaN</td>\n",
       "      <td>Fred</td>\n",
       "      <td>NaN</td>\n",
       "      <td>Penalty</td>\n",
       "    </tr>\n",
       "    <tr>\n",
       "      <th>3</th>\n",
       "      <td>4608</td>\n",
       "      <td>1</td>\n",
       "      <td>NaN</td>\n",
       "      <td>NaN</td>\n",
       "      <td>NaN</td>\n",
       "      <td>NaN</td>\n",
       "      <td>NaN</td>\n",
       "      <td>NaN</td>\n",
       "      <td>NaN</td>\n",
       "      <td>Internacional</td>\n",
       "      <td>...</td>\n",
       "      <td>NaN</td>\n",
       "      <td>NaN</td>\n",
       "      <td>NaN</td>\n",
       "      <td>NaN</td>\n",
       "      <td>NaN</td>\n",
       "      <td>NaN</td>\n",
       "      <td>NaN</td>\n",
       "      <td>Charles Aránguiz</td>\n",
       "      <td>NaN</td>\n",
       "      <td>Gol Regular</td>\n",
       "    </tr>\n",
       "    <tr>\n",
       "      <th>4</th>\n",
       "      <td>4612</td>\n",
       "      <td>1</td>\n",
       "      <td>NaN</td>\n",
       "      <td>NaN</td>\n",
       "      <td>NaN</td>\n",
       "      <td>NaN</td>\n",
       "      <td>NaN</td>\n",
       "      <td>NaN</td>\n",
       "      <td>NaN</td>\n",
       "      <td>Cruzeiro</td>\n",
       "      <td>...</td>\n",
       "      <td>NaN</td>\n",
       "      <td>NaN</td>\n",
       "      <td>NaN</td>\n",
       "      <td>NaN</td>\n",
       "      <td>NaN</td>\n",
       "      <td>NaN</td>\n",
       "      <td>NaN</td>\n",
       "      <td>Nílton Ferreira Júnior</td>\n",
       "      <td>NaN</td>\n",
       "      <td>Gol Regular</td>\n",
       "    </tr>\n",
       "  </tbody>\n",
       "</table>\n",
       "<p>20 rows × 22 columns</p>\n",
       "</div>"
      ],
      "text/plain": [
       "                    partida_id  rodata       mandante    visitante  \\\n",
       "Tabela       Linha                                                   \n",
       "full         4606         4607       1     Fluminense  Figueirense   \n",
       "             4607         4608       1  Internacional      Vitoria   \n",
       "             4609         4612       1          Bahia     Cruzeiro   \n",
       "             4610         4611       1      Sao Paulo  Botafogo-RJ   \n",
       "             4611         4610       1   Athletico-PR       Gremio   \n",
       "estatisticas 9212         4607       1            NaN          NaN   \n",
       "             9213         4607       1            NaN          NaN   \n",
       "             9214         4608       1            NaN          NaN   \n",
       "             9215         4608       1            NaN          NaN   \n",
       "             9218         4612       1            NaN          NaN   \n",
       "cartoes      0            4607       1            NaN          NaN   \n",
       "             1            4607       1            NaN          NaN   \n",
       "             2            4608       1            NaN          NaN   \n",
       "             3            4608       1            NaN          NaN   \n",
       "             4            4608       1            NaN          NaN   \n",
       "gols         0            4607       1            NaN          NaN   \n",
       "             1            4607       1            NaN          NaN   \n",
       "             2            4607       1            NaN          NaN   \n",
       "             3            4608       1            NaN          NaN   \n",
       "             4            4612       1            NaN          NaN   \n",
       "\n",
       "                        formacao_mandante     formacao_visitante  \\\n",
       "Tabela       Linha                                                 \n",
       "full         4606   Formação Desconhecida  Formação Desconhecida   \n",
       "             4607   Formação Desconhecida  Formação Desconhecida   \n",
       "             4609   Formação Desconhecida  Formação Desconhecida   \n",
       "             4610   Formação Desconhecida  Formação Desconhecida   \n",
       "             4611   Formação Desconhecida  Formação Desconhecida   \n",
       "estatisticas 9212                     NaN                    NaN   \n",
       "             9213                     NaN                    NaN   \n",
       "             9214                     NaN                    NaN   \n",
       "             9215                     NaN                    NaN   \n",
       "             9218                     NaN                    NaN   \n",
       "cartoes      0                        NaN                    NaN   \n",
       "             1                        NaN                    NaN   \n",
       "             2                        NaN                    NaN   \n",
       "             3                        NaN                    NaN   \n",
       "             4                        NaN                    NaN   \n",
       "gols         0                        NaN                    NaN   \n",
       "             1                        NaN                    NaN   \n",
       "             2                        NaN                    NaN   \n",
       "             3                        NaN                    NaN   \n",
       "             4                        NaN                    NaN   \n",
       "\n",
       "                         vencedor  mandante_Placar  visitante_Placar  \\\n",
       "Tabela       Linha                                                     \n",
       "full         4606      Fluminense              3.0               0.0   \n",
       "             4607   Internacional              1.0               0.0   \n",
       "             4609        Cruzeiro              1.0               2.0   \n",
       "             4610       Sao Paulo              3.0               0.0   \n",
       "             4611    Athletico-PR              1.0               0.0   \n",
       "estatisticas 9212             NaN              NaN               NaN   \n",
       "             9213             NaN              NaN               NaN   \n",
       "             9214             NaN              NaN               NaN   \n",
       "             9215             NaN              NaN               NaN   \n",
       "             9218             NaN              NaN               NaN   \n",
       "cartoes      0                NaN              NaN               NaN   \n",
       "             1                NaN              NaN               NaN   \n",
       "             2                NaN              NaN               NaN   \n",
       "             3                NaN              NaN               NaN   \n",
       "             4                NaN              NaN               NaN   \n",
       "gols         0                NaN              NaN               NaN   \n",
       "             1                NaN              NaN               NaN   \n",
       "             2                NaN              NaN               NaN   \n",
       "             3                NaN              NaN               NaN   \n",
       "             4                NaN              NaN               NaN   \n",
       "\n",
       "                            clube  ...  passes faltas  cartao_amarelo  \\\n",
       "Tabela       Linha                 ...                                  \n",
       "full         4606             NaN  ...     NaN    NaN             NaN   \n",
       "             4607             NaN  ...     NaN    NaN             NaN   \n",
       "             4609             NaN  ...     NaN    NaN             NaN   \n",
       "             4610             NaN  ...     NaN    NaN             NaN   \n",
       "             4611             NaN  ...     NaN    NaN             NaN   \n",
       "estatisticas 9212      Fluminense  ...     0.0    0.0             0.0   \n",
       "             9213     Figueirense  ...     0.0    0.0             0.0   \n",
       "             9214         Vitoria  ...     0.0    0.0             0.0   \n",
       "             9215   Internacional  ...     0.0    0.0             0.0   \n",
       "             9218           Bahia  ...     0.0    0.0             0.0   \n",
       "cartoes      0        Figueirense  ...     NaN    NaN             NaN   \n",
       "             1        Figueirense  ...     NaN    NaN             NaN   \n",
       "             2      Internacional  ...     NaN    NaN             NaN   \n",
       "             3            Vitoria  ...     NaN    NaN             NaN   \n",
       "             4            Vitoria  ...     NaN    NaN             NaN   \n",
       "gols         0         Fluminense  ...     NaN    NaN             NaN   \n",
       "             1         Fluminense  ...     NaN    NaN             NaN   \n",
       "             2         Fluminense  ...     NaN    NaN             NaN   \n",
       "             3      Internacional  ...     NaN    NaN             NaN   \n",
       "             4           Cruzeiro  ...     NaN    NaN             NaN   \n",
       "\n",
       "                    cartao_vermelho  impedimentos  escanteios   cartao  \\\n",
       "Tabela       Linha                                                       \n",
       "full         4606               NaN           NaN         NaN      NaN   \n",
       "             4607               NaN           NaN         NaN      NaN   \n",
       "             4609               NaN           NaN         NaN      NaN   \n",
       "             4610               NaN           NaN         NaN      NaN   \n",
       "             4611               NaN           NaN         NaN      NaN   \n",
       "estatisticas 9212               0.0           0.0         0.0      NaN   \n",
       "             9213               0.0           0.0         0.0      NaN   \n",
       "             9214               0.0           0.0         0.0      NaN   \n",
       "             9215               0.0           0.0         0.0      NaN   \n",
       "             9218               0.0           0.0         0.0      NaN   \n",
       "cartoes      0                  NaN           NaN         NaN  Amarelo   \n",
       "             1                  NaN           NaN         NaN  Amarelo   \n",
       "             2                  NaN           NaN         NaN  Amarelo   \n",
       "             3                  NaN           NaN         NaN  Amarelo   \n",
       "             4                  NaN           NaN         NaN  Amarelo   \n",
       "gols         0                  NaN           NaN         NaN      NaN   \n",
       "             1                  NaN           NaN         NaN      NaN   \n",
       "             2                  NaN           NaN         NaN      NaN   \n",
       "             3                  NaN           NaN         NaN      NaN   \n",
       "             4                  NaN           NaN         NaN      NaN   \n",
       "\n",
       "                                        atleta     posicao  tipo_de_gol  \n",
       "Tabela       Linha                                                       \n",
       "full         4606                          NaN         NaN          NaN  \n",
       "             4607                          NaN         NaN          NaN  \n",
       "             4609                          NaN         NaN          NaN  \n",
       "             4610                          NaN         NaN          NaN  \n",
       "             4611                          NaN         NaN          NaN  \n",
       "estatisticas 9212                          NaN         NaN          NaN  \n",
       "             9213                          NaN         NaN          NaN  \n",
       "             9214                          NaN         NaN          NaN  \n",
       "             9215                          NaN         NaN          NaN  \n",
       "             9218                          NaN         NaN          NaN  \n",
       "cartoes      0          Paulo Roberto da Silva         NaN          NaN  \n",
       "             1                   Thiago Heleno    Zagueiro          NaN  \n",
       "             2             Andrés D'Alessandro  Meio-campo          NaN  \n",
       "             3      Marcelo Machado dos Santos         NaN          NaN  \n",
       "             4                          Mansur    Zagueiro          NaN  \n",
       "gols         0                    Rafael Sóbis         NaN  Gol Regular  \n",
       "             1         Nirley da Silva Fonseca         NaN   Gol Contra  \n",
       "             2                            Fred         NaN      Penalty  \n",
       "             3                Charles Aránguiz         NaN  Gol Regular  \n",
       "             4          Nílton Ferreira Júnior         NaN  Gol Regular  \n",
       "\n",
       "[20 rows x 22 columns]"
      ]
     },
     "execution_count": 15,
     "metadata": {},
     "output_type": "execute_result"
    }
   ],
   "source": [
    "# Remover colunas pouco relevantes da tabela full\n",
    "colunas_irrelevantes_full = [\n",
    "    \"arena\",            # nome do estádio\n",
    "    \"data\",             # data da partida (não utilizada nas análises solicitadas)\n",
    "    \"hora\",             # horário da partida\n",
    "    \"tecnico_mandante\", # nome do técnico do mandante\n",
    "    \"tecnico_visitante\",# nome do técnico do visitante\n",
    "    \"mandante_Estado\",  # estado do time mandante\n",
    "    \"visitante_Estado\"  # estado do time visitante\n",
    "]\n",
    "\n",
    "df_full_filtrado.drop(\n",
    "    columns=[col for col in colunas_irrelevantes_full if col in df_full_filtrado.columns],\n",
    "    inplace=True\n",
    ")\n",
    "\n",
    "# Remover colunas específicas e de granularidade alta da tabela de cartões\n",
    "colunas_irrelevantes_cartoes = [\"num_camisa\", \"minuto\"]  \n",
    "\n",
    "df_cartoes_filtrado.drop(\n",
    "    columns=[col for col in colunas_irrelevantes_cartoes if col in df_cartoes_filtrado.columns],\n",
    "    inplace=True\n",
    ")\n",
    "\n",
    "# Remover minutagem da tabela de gols (não solicitada para análise)\n",
    "colunas_irrelevantes_gols = [\"minuto\"]\n",
    "\n",
    "df_gols_filtrado.drop(\n",
    "    columns=[col for col in colunas_irrelevantes_gols if col in df_gols_filtrado.columns],\n",
    "    inplace=True\n",
    ")\n",
    "\n",
    "# Remover colunas inúteis da tabela de estatísticas full\n",
    "colunas_irrelevantes_estatisticas = [\n",
    "    \"chutes\",         \n",
    "    \"precisao_passes\",\n",
    "]\n",
    "\n",
    "df_estatisticas_filtrado.drop(\n",
    "    columns=[col for col in colunas_irrelevantes_estatisticas if col in df_estatisticas_filtrado.columns],\n",
    "    inplace=True\n",
    ")\n",
    "\n",
    "# Visualizar as primeiras linhas das tabelas tratadas\n",
    "amostras_pos_limpeza = {\n",
    "    \"full\": df_full_filtrado.head(5),\n",
    "    \"estatisticas\": df_estatisticas_filtrado.head(5),\n",
    "    \"cartoes\": df_cartoes_filtrado.head(5),\n",
    "    \"gols\": df_gols_filtrado.head(5)\n",
    "}\n",
    "\n",
    "pd.concat(amostras_pos_limpeza, axis=0, names=[\"Tabela\", \"Linha\"])\n"
   ]
  },
  {
   "cell_type": "markdown",
   "metadata": {},
   "source": [
    "# Resolução Atividade 2\n",
    "\n",
    "## Objetivo\n",
    "\n",
    "Unir os dados da tabela `full` com a tabela `estatisticas`, de modo que cada linha represente uma **partida única**, contendo:\n",
    "\n",
    "- As informações gerais da partida (data, times, placares, etc.);\n",
    "- As estatísticas do time mandante, identificada por um prefixo;\n",
    "- As estatísticas do time visitante, identificada por um prefixo.\n",
    "\n",
    "\n",
    "**Exemplo**: Imagine que você tem duas linhas na tabela de estatísticas, ambas referentes à mesma partida. A primeira linha traz os dados do Figueirense e a segunda do Santos. Cada linha representa as estatísticas de um dos times nessa partida, como número de chutes, posse de bola, faltas, escanteios, entre outras.\n",
    "Ao realizar a tarefa proposta, essas duas linhas seriam combinadas em uma única linha na nova tabela. Essa linha única manteria as informações gerais da partida (como o ID do jogo e os times envolvidos) e incluiria as estatísticas dos dois times, diferenciadas por prefixos. Por exemplo, a quantidade de chutes do Figueirense apareceria como `mandante_chutes` e a do Santos como `visitante_chutes`. O mesmo valeria para as outras estatísticas, como posse de bola, faltas e cartões."
   ]
  },
  {
   "cell_type": "code",
   "execution_count": 16,
   "metadata": {},
   "outputs": [
    {
     "data": {
      "text/html": [
       "<div>\n",
       "<style scoped>\n",
       "    .dataframe tbody tr th:only-of-type {\n",
       "        vertical-align: middle;\n",
       "    }\n",
       "\n",
       "    .dataframe tbody tr th {\n",
       "        vertical-align: top;\n",
       "    }\n",
       "\n",
       "    .dataframe thead th {\n",
       "        text-align: right;\n",
       "    }\n",
       "</style>\n",
       "<table border=\"1\" class=\"dataframe\">\n",
       "  <thead>\n",
       "    <tr style=\"text-align: right;\">\n",
       "      <th></th>\n",
       "      <th>partida_id</th>\n",
       "      <th>rodata</th>\n",
       "      <th>mandante</th>\n",
       "      <th>visitante</th>\n",
       "      <th>formacao_mandante</th>\n",
       "      <th>formacao_visitante</th>\n",
       "      <th>vencedor</th>\n",
       "      <th>mandante_Placar</th>\n",
       "      <th>visitante_Placar</th>\n",
       "      <th>mandante_rodata</th>\n",
       "      <th>mandante_clube</th>\n",
       "      <th>mandante_chutes_no_alvo</th>\n",
       "      <th>mandante_posse_de_bola</th>\n",
       "      <th>mandante_passes</th>\n",
       "      <th>mandante_faltas</th>\n",
       "      <th>mandante_cartao_amarelo</th>\n",
       "      <th>mandante_cartao_vermelho</th>\n",
       "      <th>mandante_impedimentos</th>\n",
       "      <th>mandante_escanteios</th>\n",
       "      <th>visitante_rodata</th>\n",
       "      <th>visitante_clube</th>\n",
       "      <th>visitante_chutes_no_alvo</th>\n",
       "      <th>visitante_posse_de_bola</th>\n",
       "      <th>visitante_passes</th>\n",
       "      <th>visitante_faltas</th>\n",
       "      <th>visitante_cartao_amarelo</th>\n",
       "      <th>visitante_cartao_vermelho</th>\n",
       "      <th>visitante_impedimentos</th>\n",
       "      <th>visitante_escanteios</th>\n",
       "    </tr>\n",
       "  </thead>\n",
       "  <tbody>\n",
       "    <tr>\n",
       "      <th>0</th>\n",
       "      <td>4607</td>\n",
       "      <td>1</td>\n",
       "      <td>Fluminense</td>\n",
       "      <td>Figueirense</td>\n",
       "      <td>Formação Desconhecida</td>\n",
       "      <td>Formação Desconhecida</td>\n",
       "      <td>Fluminense</td>\n",
       "      <td>3</td>\n",
       "      <td>0</td>\n",
       "      <td>1</td>\n",
       "      <td>Fluminense</td>\n",
       "      <td>0</td>\n",
       "      <td>Porcentagem Desconhecida</td>\n",
       "      <td>0</td>\n",
       "      <td>0</td>\n",
       "      <td>0</td>\n",
       "      <td>0</td>\n",
       "      <td>0</td>\n",
       "      <td>0</td>\n",
       "      <td>1</td>\n",
       "      <td>Figueirense</td>\n",
       "      <td>0</td>\n",
       "      <td>Porcentagem Desconhecida</td>\n",
       "      <td>0</td>\n",
       "      <td>0</td>\n",
       "      <td>0</td>\n",
       "      <td>0</td>\n",
       "      <td>0</td>\n",
       "      <td>0</td>\n",
       "    </tr>\n",
       "    <tr>\n",
       "      <th>1</th>\n",
       "      <td>4608</td>\n",
       "      <td>1</td>\n",
       "      <td>Internacional</td>\n",
       "      <td>Vitoria</td>\n",
       "      <td>Formação Desconhecida</td>\n",
       "      <td>Formação Desconhecida</td>\n",
       "      <td>Internacional</td>\n",
       "      <td>1</td>\n",
       "      <td>0</td>\n",
       "      <td>1</td>\n",
       "      <td>Internacional</td>\n",
       "      <td>0</td>\n",
       "      <td>Porcentagem Desconhecida</td>\n",
       "      <td>0</td>\n",
       "      <td>0</td>\n",
       "      <td>0</td>\n",
       "      <td>0</td>\n",
       "      <td>0</td>\n",
       "      <td>0</td>\n",
       "      <td>1</td>\n",
       "      <td>Vitoria</td>\n",
       "      <td>0</td>\n",
       "      <td>Porcentagem Desconhecida</td>\n",
       "      <td>0</td>\n",
       "      <td>0</td>\n",
       "      <td>0</td>\n",
       "      <td>0</td>\n",
       "      <td>0</td>\n",
       "      <td>0</td>\n",
       "    </tr>\n",
       "    <tr>\n",
       "      <th>2</th>\n",
       "      <td>4612</td>\n",
       "      <td>1</td>\n",
       "      <td>Bahia</td>\n",
       "      <td>Cruzeiro</td>\n",
       "      <td>Formação Desconhecida</td>\n",
       "      <td>Formação Desconhecida</td>\n",
       "      <td>Cruzeiro</td>\n",
       "      <td>1</td>\n",
       "      <td>2</td>\n",
       "      <td>1</td>\n",
       "      <td>Bahia</td>\n",
       "      <td>0</td>\n",
       "      <td>Porcentagem Desconhecida</td>\n",
       "      <td>0</td>\n",
       "      <td>0</td>\n",
       "      <td>0</td>\n",
       "      <td>0</td>\n",
       "      <td>0</td>\n",
       "      <td>0</td>\n",
       "      <td>1</td>\n",
       "      <td>Cruzeiro</td>\n",
       "      <td>0</td>\n",
       "      <td>Porcentagem Desconhecida</td>\n",
       "      <td>0</td>\n",
       "      <td>0</td>\n",
       "      <td>0</td>\n",
       "      <td>0</td>\n",
       "      <td>0</td>\n",
       "      <td>0</td>\n",
       "    </tr>\n",
       "    <tr>\n",
       "      <th>3</th>\n",
       "      <td>4611</td>\n",
       "      <td>1</td>\n",
       "      <td>Sao Paulo</td>\n",
       "      <td>Botafogo-RJ</td>\n",
       "      <td>Formação Desconhecida</td>\n",
       "      <td>Formação Desconhecida</td>\n",
       "      <td>Sao Paulo</td>\n",
       "      <td>3</td>\n",
       "      <td>0</td>\n",
       "      <td>1</td>\n",
       "      <td>Sao Paulo</td>\n",
       "      <td>0</td>\n",
       "      <td>Porcentagem Desconhecida</td>\n",
       "      <td>0</td>\n",
       "      <td>0</td>\n",
       "      <td>0</td>\n",
       "      <td>0</td>\n",
       "      <td>0</td>\n",
       "      <td>0</td>\n",
       "      <td>1</td>\n",
       "      <td>Botafogo-RJ</td>\n",
       "      <td>0</td>\n",
       "      <td>Porcentagem Desconhecida</td>\n",
       "      <td>0</td>\n",
       "      <td>0</td>\n",
       "      <td>0</td>\n",
       "      <td>0</td>\n",
       "      <td>0</td>\n",
       "      <td>0</td>\n",
       "    </tr>\n",
       "    <tr>\n",
       "      <th>4</th>\n",
       "      <td>4610</td>\n",
       "      <td>1</td>\n",
       "      <td>Athletico-PR</td>\n",
       "      <td>Gremio</td>\n",
       "      <td>Formação Desconhecida</td>\n",
       "      <td>Formação Desconhecida</td>\n",
       "      <td>Athletico-PR</td>\n",
       "      <td>1</td>\n",
       "      <td>0</td>\n",
       "      <td>1</td>\n",
       "      <td>Athletico-PR</td>\n",
       "      <td>0</td>\n",
       "      <td>Porcentagem Desconhecida</td>\n",
       "      <td>0</td>\n",
       "      <td>0</td>\n",
       "      <td>0</td>\n",
       "      <td>0</td>\n",
       "      <td>0</td>\n",
       "      <td>0</td>\n",
       "      <td>1</td>\n",
       "      <td>Gremio</td>\n",
       "      <td>0</td>\n",
       "      <td>Porcentagem Desconhecida</td>\n",
       "      <td>0</td>\n",
       "      <td>0</td>\n",
       "      <td>0</td>\n",
       "      <td>0</td>\n",
       "      <td>0</td>\n",
       "      <td>0</td>\n",
       "    </tr>\n",
       "    <tr>\n",
       "      <th>5</th>\n",
       "      <td>4615</td>\n",
       "      <td>1</td>\n",
       "      <td>Santos</td>\n",
       "      <td>Sport</td>\n",
       "      <td>Formação Desconhecida</td>\n",
       "      <td>Formação Desconhecida</td>\n",
       "      <td>-</td>\n",
       "      <td>1</td>\n",
       "      <td>1</td>\n",
       "      <td>1</td>\n",
       "      <td>Santos</td>\n",
       "      <td>0</td>\n",
       "      <td>Porcentagem Desconhecida</td>\n",
       "      <td>0</td>\n",
       "      <td>0</td>\n",
       "      <td>0</td>\n",
       "      <td>0</td>\n",
       "      <td>0</td>\n",
       "      <td>0</td>\n",
       "      <td>1</td>\n",
       "      <td>Sport</td>\n",
       "      <td>0</td>\n",
       "      <td>Porcentagem Desconhecida</td>\n",
       "      <td>0</td>\n",
       "      <td>0</td>\n",
       "      <td>0</td>\n",
       "      <td>0</td>\n",
       "      <td>0</td>\n",
       "      <td>0</td>\n",
       "    </tr>\n",
       "    <tr>\n",
       "      <th>6</th>\n",
       "      <td>4616</td>\n",
       "      <td>1</td>\n",
       "      <td>Criciuma</td>\n",
       "      <td>Palmeiras</td>\n",
       "      <td>Formação Desconhecida</td>\n",
       "      <td>Formação Desconhecida</td>\n",
       "      <td>Palmeiras</td>\n",
       "      <td>1</td>\n",
       "      <td>2</td>\n",
       "      <td>1</td>\n",
       "      <td>Criciuma</td>\n",
       "      <td>0</td>\n",
       "      <td>Porcentagem Desconhecida</td>\n",
       "      <td>0</td>\n",
       "      <td>0</td>\n",
       "      <td>0</td>\n",
       "      <td>0</td>\n",
       "      <td>0</td>\n",
       "      <td>0</td>\n",
       "      <td>1</td>\n",
       "      <td>Palmeiras</td>\n",
       "      <td>0</td>\n",
       "      <td>Porcentagem Desconhecida</td>\n",
       "      <td>0</td>\n",
       "      <td>0</td>\n",
       "      <td>0</td>\n",
       "      <td>0</td>\n",
       "      <td>0</td>\n",
       "      <td>0</td>\n",
       "    </tr>\n",
       "    <tr>\n",
       "      <th>7</th>\n",
       "      <td>4618</td>\n",
       "      <td>2</td>\n",
       "      <td>Palmeiras</td>\n",
       "      <td>Fluminense</td>\n",
       "      <td>Formação Desconhecida</td>\n",
       "      <td>Formação Desconhecida</td>\n",
       "      <td>Fluminense</td>\n",
       "      <td>0</td>\n",
       "      <td>1</td>\n",
       "      <td>2</td>\n",
       "      <td>Palmeiras</td>\n",
       "      <td>0</td>\n",
       "      <td>Porcentagem Desconhecida</td>\n",
       "      <td>0</td>\n",
       "      <td>0</td>\n",
       "      <td>0</td>\n",
       "      <td>0</td>\n",
       "      <td>0</td>\n",
       "      <td>0</td>\n",
       "      <td>2</td>\n",
       "      <td>Fluminense</td>\n",
       "      <td>0</td>\n",
       "      <td>Porcentagem Desconhecida</td>\n",
       "      <td>0</td>\n",
       "      <td>0</td>\n",
       "      <td>0</td>\n",
       "      <td>0</td>\n",
       "      <td>0</td>\n",
       "      <td>0</td>\n",
       "    </tr>\n",
       "    <tr>\n",
       "      <th>8</th>\n",
       "      <td>4620</td>\n",
       "      <td>2</td>\n",
       "      <td>Vitoria</td>\n",
       "      <td>Athletico-PR</td>\n",
       "      <td>Formação Desconhecida</td>\n",
       "      <td>Formação Desconhecida</td>\n",
       "      <td>-</td>\n",
       "      <td>2</td>\n",
       "      <td>2</td>\n",
       "      <td>2</td>\n",
       "      <td>Vitoria</td>\n",
       "      <td>0</td>\n",
       "      <td>Porcentagem Desconhecida</td>\n",
       "      <td>0</td>\n",
       "      <td>0</td>\n",
       "      <td>0</td>\n",
       "      <td>0</td>\n",
       "      <td>0</td>\n",
       "      <td>0</td>\n",
       "      <td>2</td>\n",
       "      <td>Athletico-PR</td>\n",
       "      <td>0</td>\n",
       "      <td>Porcentagem Desconhecida</td>\n",
       "      <td>0</td>\n",
       "      <td>0</td>\n",
       "      <td>0</td>\n",
       "      <td>0</td>\n",
       "      <td>0</td>\n",
       "      <td>0</td>\n",
       "    </tr>\n",
       "    <tr>\n",
       "      <th>9</th>\n",
       "      <td>4622</td>\n",
       "      <td>2</td>\n",
       "      <td>Cruzeiro</td>\n",
       "      <td>Sao Paulo</td>\n",
       "      <td>Formação Desconhecida</td>\n",
       "      <td>Formação Desconhecida</td>\n",
       "      <td>-</td>\n",
       "      <td>1</td>\n",
       "      <td>1</td>\n",
       "      <td>2</td>\n",
       "      <td>Cruzeiro</td>\n",
       "      <td>0</td>\n",
       "      <td>Porcentagem Desconhecida</td>\n",
       "      <td>0</td>\n",
       "      <td>0</td>\n",
       "      <td>0</td>\n",
       "      <td>0</td>\n",
       "      <td>0</td>\n",
       "      <td>0</td>\n",
       "      <td>2</td>\n",
       "      <td>Sao Paulo</td>\n",
       "      <td>0</td>\n",
       "      <td>Porcentagem Desconhecida</td>\n",
       "      <td>0</td>\n",
       "      <td>0</td>\n",
       "      <td>0</td>\n",
       "      <td>0</td>\n",
       "      <td>0</td>\n",
       "      <td>0</td>\n",
       "    </tr>\n",
       "  </tbody>\n",
       "</table>\n",
       "</div>"
      ],
      "text/plain": [
       "   partida_id  rodata       mandante     visitante      formacao_mandante  \\\n",
       "0        4607       1     Fluminense   Figueirense  Formação Desconhecida   \n",
       "1        4608       1  Internacional       Vitoria  Formação Desconhecida   \n",
       "2        4612       1          Bahia      Cruzeiro  Formação Desconhecida   \n",
       "3        4611       1      Sao Paulo   Botafogo-RJ  Formação Desconhecida   \n",
       "4        4610       1   Athletico-PR        Gremio  Formação Desconhecida   \n",
       "5        4615       1         Santos         Sport  Formação Desconhecida   \n",
       "6        4616       1       Criciuma     Palmeiras  Formação Desconhecida   \n",
       "7        4618       2      Palmeiras    Fluminense  Formação Desconhecida   \n",
       "8        4620       2        Vitoria  Athletico-PR  Formação Desconhecida   \n",
       "9        4622       2       Cruzeiro     Sao Paulo  Formação Desconhecida   \n",
       "\n",
       "      formacao_visitante       vencedor  mandante_Placar  visitante_Placar  \\\n",
       "0  Formação Desconhecida     Fluminense                3                 0   \n",
       "1  Formação Desconhecida  Internacional                1                 0   \n",
       "2  Formação Desconhecida       Cruzeiro                1                 2   \n",
       "3  Formação Desconhecida      Sao Paulo                3                 0   \n",
       "4  Formação Desconhecida   Athletico-PR                1                 0   \n",
       "5  Formação Desconhecida              -                1                 1   \n",
       "6  Formação Desconhecida      Palmeiras                1                 2   \n",
       "7  Formação Desconhecida     Fluminense                0                 1   \n",
       "8  Formação Desconhecida              -                2                 2   \n",
       "9  Formação Desconhecida              -                1                 1   \n",
       "\n",
       "   mandante_rodata mandante_clube  mandante_chutes_no_alvo  \\\n",
       "0                1     Fluminense                        0   \n",
       "1                1  Internacional                        0   \n",
       "2                1          Bahia                        0   \n",
       "3                1      Sao Paulo                        0   \n",
       "4                1   Athletico-PR                        0   \n",
       "5                1         Santos                        0   \n",
       "6                1       Criciuma                        0   \n",
       "7                2      Palmeiras                        0   \n",
       "8                2        Vitoria                        0   \n",
       "9                2       Cruzeiro                        0   \n",
       "\n",
       "     mandante_posse_de_bola  mandante_passes  mandante_faltas  \\\n",
       "0  Porcentagem Desconhecida                0                0   \n",
       "1  Porcentagem Desconhecida                0                0   \n",
       "2  Porcentagem Desconhecida                0                0   \n",
       "3  Porcentagem Desconhecida                0                0   \n",
       "4  Porcentagem Desconhecida                0                0   \n",
       "5  Porcentagem Desconhecida                0                0   \n",
       "6  Porcentagem Desconhecida                0                0   \n",
       "7  Porcentagem Desconhecida                0                0   \n",
       "8  Porcentagem Desconhecida                0                0   \n",
       "9  Porcentagem Desconhecida                0                0   \n",
       "\n",
       "   mandante_cartao_amarelo  mandante_cartao_vermelho  mandante_impedimentos  \\\n",
       "0                        0                         0                      0   \n",
       "1                        0                         0                      0   \n",
       "2                        0                         0                      0   \n",
       "3                        0                         0                      0   \n",
       "4                        0                         0                      0   \n",
       "5                        0                         0                      0   \n",
       "6                        0                         0                      0   \n",
       "7                        0                         0                      0   \n",
       "8                        0                         0                      0   \n",
       "9                        0                         0                      0   \n",
       "\n",
       "   mandante_escanteios  visitante_rodata visitante_clube  \\\n",
       "0                    0                 1     Figueirense   \n",
       "1                    0                 1         Vitoria   \n",
       "2                    0                 1        Cruzeiro   \n",
       "3                    0                 1     Botafogo-RJ   \n",
       "4                    0                 1          Gremio   \n",
       "5                    0                 1           Sport   \n",
       "6                    0                 1       Palmeiras   \n",
       "7                    0                 2      Fluminense   \n",
       "8                    0                 2    Athletico-PR   \n",
       "9                    0                 2       Sao Paulo   \n",
       "\n",
       "   visitante_chutes_no_alvo   visitante_posse_de_bola  visitante_passes  \\\n",
       "0                         0  Porcentagem Desconhecida                 0   \n",
       "1                         0  Porcentagem Desconhecida                 0   \n",
       "2                         0  Porcentagem Desconhecida                 0   \n",
       "3                         0  Porcentagem Desconhecida                 0   \n",
       "4                         0  Porcentagem Desconhecida                 0   \n",
       "5                         0  Porcentagem Desconhecida                 0   \n",
       "6                         0  Porcentagem Desconhecida                 0   \n",
       "7                         0  Porcentagem Desconhecida                 0   \n",
       "8                         0  Porcentagem Desconhecida                 0   \n",
       "9                         0  Porcentagem Desconhecida                 0   \n",
       "\n",
       "   visitante_faltas  visitante_cartao_amarelo  visitante_cartao_vermelho  \\\n",
       "0                 0                         0                          0   \n",
       "1                 0                         0                          0   \n",
       "2                 0                         0                          0   \n",
       "3                 0                         0                          0   \n",
       "4                 0                         0                          0   \n",
       "5                 0                         0                          0   \n",
       "6                 0                         0                          0   \n",
       "7                 0                         0                          0   \n",
       "8                 0                         0                          0   \n",
       "9                 0                         0                          0   \n",
       "\n",
       "   visitante_impedimentos  visitante_escanteios  \n",
       "0                       0                     0  \n",
       "1                       0                     0  \n",
       "2                       0                     0  \n",
       "3                       0                     0  \n",
       "4                       0                     0  \n",
       "5                       0                     0  \n",
       "6                       0                     0  \n",
       "7                       0                     0  \n",
       "8                       0                     0  \n",
       "9                       0                     0  "
      ]
     },
     "execution_count": 16,
     "metadata": {},
     "output_type": "execute_result"
    }
   ],
   "source": [
    "# Para não perder a referência de qual clube é mandante ou visitante, vamos manter as colunas de mandante e visitante\n",
    "pd.set_option(\"display.max_columns\", None)\n",
    "\n",
    "# Junta estatísticas de mandante\n",
    "estatisticas_mandante = df_estatisticas_filtrado.merge(\n",
    "    df_full_filtrado[[\"partida_id\", \"mandante\"]],\n",
    "    how=\"inner\",\n",
    "    left_on=[\"partida_id\", \"clube\"],\n",
    "    right_on=[\"partida_id\", \"mandante\"]\n",
    ").drop(columns=[\"mandante\"])  \n",
    "\n",
    "# Junta estatísticas de visitante\n",
    "estatisticas_visitante = df_estatisticas_filtrado.merge(\n",
    "    df_full_filtrado[[\"partida_id\", \"visitante\"]],\n",
    "    how=\"inner\",\n",
    "    left_on=[\"partida_id\", \"clube\"],\n",
    "    right_on=[\"partida_id\", \"visitante\"]\n",
    ").drop(columns=[\"visitante\"])\n",
    "\n",
    "estatisticas_mandante = estatisticas_mandante.add_prefix(\"mandante_\")\n",
    "estatisticas_mandante.rename(columns={\"mandante_partida_id\": \"partida_id\"}, inplace=True)\n",
    "\n",
    "estatisticas_visitante = estatisticas_visitante.add_prefix(\"visitante_\")\n",
    "estatisticas_visitante.rename(columns={\"visitante_partida_id\": \"partida_id\"}, inplace=True)\n",
    "#É a mesma partida_id.\n",
    "\n",
    "df_partidas_estatisticas = df_full_filtrado.merge(estatisticas_mandante, on=\"partida_id\", how=\"inner\")\n",
    "df_partidas_estatisticas = df_partidas_estatisticas.merge(estatisticas_visitante, on=\"partida_id\", how=\"inner\")\n",
    "\n",
    "df_partidas_estatisticas.head(10)\n",
    "\n"
   ]
  },
  {
   "cell_type": "code",
   "execution_count": 17,
   "metadata": {},
   "outputs": [],
   "source": [
    "df_partidas_estatisticas.to_csv(\"partidas_com_estatisticas.csv\", index=False)\n"
   ]
  },
  {
   "cell_type": "markdown",
   "metadata": {},
   "source": [
    "# Resolução Atividade 3\n",
    "\n",
    "## Objetivo\n",
    "\n",
    "A equipe deseja entender **quais fatores influenciam os resultados das partidas**. Para isso, algumas perguntas foram levantadas, e análises complementares também foram propostas:\n",
    "\n",
    "- [x] **A posse de bola influencia no resultado?**\n",
    "- [x] **A vantagem de jogar em casa (mandante) é real?**\n",
    "- [x] **Existem outros padrões relevantes?**\n",
    "\n",
    "Além disso, explorei outras ideias com base nas tabelas disponíveis, listadas a seguir:\n",
    "\n",
    "### Análises Realizadas\n",
    "\n",
    "1. A vantagem de jogar em casa é real? \n",
    "2. Adversários que mais venceram o Flamengo (ou qualquer clube específico)\n",
    "3. Formações mais vitoriosas por clube \n",
    "4. Saldo de gols por clube \n",
    "5. Cartões por jogador e posição \n",
    "6. Porcentagem de tipo de gol por clube \n",
    "7. Jogadores com mais gols contra \n",
    "8. Gols de penalty por clube \n",
    "9. A posse de bola influencia no resultado?\n",
    "\n"
   ]
  },
  {
   "cell_type": "code",
   "execution_count": 18,
   "metadata": {},
   "outputs": [
    {
     "name": "stdout",
     "output_type": "stream",
     "text": [
      "Consulta 1 – Mandante venceu por +2 gols:\n",
      "   partida_id     mandante    visitante  mandante_Placar  visitante_Placar\n",
      "0        4607   Fluminense  Figueirense                3                 0\n",
      "1        4611    Sao Paulo  Botafogo-RJ                3                 0\n",
      "2        4639  Botafogo-RJ     Criciuma                6                 0\n",
      "3        4662   Fluminense    Sao Paulo                5                 2\n",
      "4        4687     Coritiba        Goias                3                 0 \n",
      "\n",
      "Consulta 2 – Adversários que mais venceram o Flamengo:\n",
      "    adversario  derrotas\n",
      "0   Fluminense         6\n",
      "1       Santos         4\n",
      "2    Sao Paulo         3\n",
      "3       Gremio         3\n",
      "4  Botafogo-RJ         3 \n",
      "\n",
      "Consulta 3 – Formações mais vitoriosas:\n",
      "     mandante formacao_mandante  vitorias\n",
      "5  America-MG           4-2-3-1        16\n",
      "3  America-MG           4-1-4-1        11\n",
      "6  America-MG             4-3-3         3\n",
      "1  America-MG             3-5-2         2\n",
      "2  America-MG           4-1-3-2         2 \n",
      "\n",
      "Consulta 4 – Saldo de gols por clube:\n",
      "           clube  saldo_total\n",
      "0      Palmeiras          218\n",
      "1       Flamengo          211\n",
      "2    Atletico-MG          119\n",
      "3    Corinthians          109\n",
      "4  Internacional          109 \n",
      "\n",
      "Consulta 5 – Cartões por jogador e posição:\n",
      "cartao          atleta     posicao  Amarelo  Vermelho\n",
      "0       Abel Hernández    Atacante        6         1\n",
      "1                Abner    Zagueiro        1         0\n",
      "2       Abner Vinícius  Meio-campo        1         0\n",
      "3       Abner Vinícius    Zagueiro       12         0\n",
      "4                Abuda  Meio-campo        6         0 \n",
      "\n",
      "Consulta 6 – Porcentagem de tipos de gol por clube:\n",
      "tipo_de_gol                Gol Contra  Gol Regular  Penalty\n",
      "clube        clube                                         \n",
      "America-MG   America-MG          0.00        88.37    11.63\n",
      "Athletico-PR Athletico-PR        2.67        90.14     7.19\n",
      "Atletico-GO  Atletico-GO         2.23        87.71    10.06\n",
      "Atletico-MG  Atletico-MG         3.26        84.54    12.20\n",
      "Avai         Avai                1.69        77.97    20.34 \n",
      "\n",
      "Consulta 7 – Jogadores com mais gols contra:\n",
      "                          atleta  gols_contra\n",
      "0                           Éder            3\n",
      "1        Werley Ananias da Silva            3\n",
      "2  Paulo Marcos de Jesus Ribeiro            3\n",
      "3     Michel Ferreira dos Santos            3\n",
      "4                         Marlon            3 \n",
      "\n",
      "Consulta 8 – Gols de penalty por clube:\n",
      "          clube  gols_de_penalty\n",
      "3   Atletico-MG               71\n",
      "17     Flamengo               52\n",
      "25    Palmeiras               50\n",
      "18   Fluminense               47\n",
      "30    Sao Paulo               47\n",
      "Consulta 9 – Relação entre posse de bola e vitória:\n",
      "  mandante_posse_de_bola  resultado_mandante\n",
      "0                    35%                   1\n",
      "1                    44%                   1\n",
      "2                    43%                   1\n",
      "3                    42%                   1\n",
      "4                    52%                   1\n"
     ]
    }
   ],
   "source": [
    "\n",
    "import pandas as pd\n",
    "from pandasql import sqldf\n",
    "\n",
    "df_partidas_estatisticas = pd.read_csv(\"./Brasileirao_Dataset/partidas_com_estatisticas.csv\")\n",
    "\n",
    "pysqldf = lambda q: sqldf(q, globals())\n",
    "\n",
    "# Consulta 1 – Mandante venceu por mais de 2 gols (SQL)\n",
    "query_placares_elasticos = \"\"\"\n",
    "SELECT partida_id, mandante, visitante, mandante_Placar, visitante_Placar\n",
    "FROM df_partidas_estatisticas\n",
    "WHERE (mandante_Placar - visitante_Placar) > 2\n",
    "LIMIT 10;\n",
    "\"\"\"\n",
    "resultado_placares_elasticos = pysqldf(query_placares_elasticos)\n",
    "\n",
    "# Consulta 2 – Adversários que mais venceram o Flamengo (SQL)\n",
    "\n",
    "# Calcular o resultado do mandante\n",
    "df_partidas_estatisticas[\"resultado_mandante\"] = (\n",
    "    df_partidas_estatisticas[\"mandante_Placar\"] - df_partidas_estatisticas[\"visitante_Placar\"]\n",
    ").apply(lambda x: 1 if x > 0 else (-1 if x < 0 else 0))\n",
    "\n",
    "query_derrotas_flamengo = \"\"\"\n",
    "SELECT \n",
    "    visitante AS adversario,\n",
    "    COUNT(*) AS derrotas\n",
    "FROM df_partidas_estatisticas\n",
    "WHERE mandante = 'Flamengo' AND resultado_mandante = -1\n",
    "GROUP BY visitante\n",
    "ORDER BY derrotas DESC\n",
    "LIMIT 10;\n",
    "\"\"\"\n",
    "clubes_que_mais_derrotam = pysqldf(query_derrotas_flamengo)\n",
    "# O nome do clube pode ser alterado para outros nomes de clubes, como \"Palmeiras\", \"São Paulo\".\n",
    "\n",
    "\n",
    "# Consulta 3 – Formações mais vitoriosas (Pandas)\n",
    "\n",
    "formacoes_vitoriosas = df_partidas_estatisticas[df_partidas_estatisticas[\"resultado_mandante\"] == 1]\n",
    "formacao_por_clube = (\n",
    "    formacoes_vitoriosas.groupby([\"mandante\", \"formacao_mandante\"])\n",
    "    .size()\n",
    "    .reset_index(name=\"vitorias\")\n",
    "    .sort_values([\"mandante\", \"vitorias\"], ascending=[True, False])\n",
    ")\n",
    "\n",
    "\n",
    "# Consulta 4 – Saldo de gols por clube (Pandas)\n",
    "\n",
    "df_saldo = df_partidas_estatisticas.copy()\n",
    "df_saldo[\"saldo_mandante\"] = df_saldo[\"mandante_Placar\"] - df_saldo[\"visitante_Placar\"]\n",
    "df_saldo[\"saldo_visitante\"] = df_saldo[\"visitante_Placar\"] - df_saldo[\"mandante_Placar\"]\n",
    "\n",
    "saldo_mandante = df_saldo.groupby(\"mandante\")[\"saldo_mandante\"].sum()\n",
    "saldo_visitante = df_saldo.groupby(\"visitante\")[\"saldo_visitante\"].sum()\n",
    "saldo_total = saldo_mandante.add(saldo_visitante, fill_value=0).sort_values(ascending=False).reset_index()\n",
    "saldo_total.columns = [\"clube\", \"saldo_total\"]\n",
    "\n",
    "\n",
    "# Consulta 5 – Cartões por jogador e posição (Pandas)\n",
    "\n",
    "cartoes_por_posicao = (\n",
    "    df_cartoes_filtrado[df_cartoes_filtrado[\"cartao\"].isin([\"Amarelo\", \"Vermelho\"])]\n",
    "    .groupby([\"atleta\", \"posicao\", \"cartao\"])\n",
    "    .size()\n",
    "    .unstack(fill_value=0)\n",
    "    .reset_index()\n",
    ")\n",
    "\n",
    "\n",
    "# Consulta 6 – Tipos de gol por clube (Pandas)\n",
    "\n",
    "df_gols_filtrado[\"tipo_de_gol\"] = df_gols_filtrado[\"tipo_de_gol\"].fillna(\"Gol Regular\")\n",
    "tipos_gol_por_clube = (\n",
    "    df_gols_filtrado.groupby([\"clube\", \"tipo_de_gol\"])\n",
    "    .size()\n",
    "    .groupby(level=0)\n",
    "    .apply(lambda x: 100 * x / float(x.sum()))\n",
    "    .unstack(fill_value=0)\n",
    "    .round(2)\n",
    ")\n",
    "\n",
    "\n",
    "# Consulta 7 – Jogadores com mais gols contra (SQL)\n",
    "\n",
    "query_gols_contra = \"\"\"\n",
    "SELECT \n",
    "    atleta,\n",
    "    COUNT(*) AS gols_contra\n",
    "FROM df_gols_filtrado\n",
    "WHERE LOWER(tipo_de_gol) LIKE '%contra%'\n",
    "GROUP BY atleta\n",
    "ORDER BY gols_contra DESC\n",
    "LIMIT 10;\n",
    "\"\"\"\n",
    "\n",
    "resultado_gols_contra = pysqldf(query_gols_contra)\n",
    "\n",
    "\n",
    "\n",
    "# Consulta 8 – Gols de penalty por clube (Pandas)\n",
    "\n",
    "gols_de_penalti = (\n",
    "    df_gols_filtrado[df_gols_filtrado[\"tipo_de_gol\"].str.lower().str.contains(\"penalty\")]\n",
    "    .groupby(\"clube\")\n",
    "    .size()\n",
    "    .reset_index(name=\"gols_de_penalty\")\n",
    "    .sort_values(\"gols_de_penalty\", ascending=False)\n",
    ")\n",
    "\n",
    "\n",
    "# Consulta 9 – Relação entre posse e vitória (SQL)\n",
    "\n",
    "sql_posse_vitoria = \"\"\"\n",
    "SELECT \n",
    "    mandante_posse_de_bola, \n",
    "    resultado_mandante\n",
    "FROM df_partidas_estatisticas\n",
    "WHERE mandante_posse_de_bola != 'Porcentagem Desconhecida'\n",
    "\"\"\"\n",
    "\n",
    "resultado_posse = pysqldf(sql_posse_vitoria)\n",
    "\n",
    "\n",
    "# Resultados das consultas\n",
    "\n",
    "print(\"Consulta 1 – Mandante venceu por +2 gols:\")\n",
    "print(resultado_placares_elasticos.head(), \"\\n\")\n",
    "\n",
    "print(\"Consulta 2 – Adversários que mais venceram o Flamengo:\")\n",
    "print(clubes_que_mais_derrotam.head(), \"\\n\")\n",
    "\n",
    "print(\"Consulta 3 – Formações mais vitoriosas:\")\n",
    "print(formacao_por_clube.head(), \"\\n\")\n",
    "\n",
    "print(\"Consulta 4 – Saldo de gols por clube:\")\n",
    "print(saldo_total.head(), \"\\n\")\n",
    "\n",
    "print(\"Consulta 5 – Cartões por jogador e posição:\")\n",
    "print(cartoes_por_posicao.head(), \"\\n\")\n",
    "\n",
    "print(\"Consulta 6 – Porcentagem de tipos de gol por clube:\")\n",
    "print(tipos_gol_por_clube.head(), \"\\n\")\n",
    "\n",
    "print(\"Consulta 7 – Jogadores com mais gols contra:\")\n",
    "print(resultado_gols_contra.head(), \"\\n\")\n",
    "\n",
    "print(\"Consulta 8 – Gols de penalty por clube:\")\n",
    "print(gols_de_penalti.head())\n",
    "\n",
    "print(\"Consulta 9 – Relação entre posse de bola e vitória:\")\n",
    "print(resultado_posse.head())\n"
   ]
  },
  {
   "cell_type": "markdown",
   "metadata": {},
   "source": [
    "\n",
    "## Conclusões sobre as consultas e possíveis análises\n",
    "\n",
    "### **Consulta 1:** \n",
    "Pode-se concluir que jogar como mandante pode influenciar o resultado, especialmente em partidas com placares elásticos. Essa vantagem é vista ao filtrar por resultados com grandes diferenças a favor do time da casa.\n",
    "O fato de existirem diversas partidas que atendem a esse critério reforça a hipótese de que jogar em casa pode ser uma vantagem real. Essa vantagem pode estar associada a fatores como:\n",
    "- apoio da torcida;\n",
    "- familiaridade com o gramado e estádio;\n",
    "- ausência de deslocamento;\n",
    "- influência psicológica no adversário.\n",
    "\n",
    "### **Consulta 2:** \n",
    "A consulta revela quais times têm um bom retrospecto fora de casa contra o Flamengo (podendo ser alterada para outros nomes de clubes), o que pode indicar:\n",
    "- Boa preparação tática desses clubes contra o estilo de jogo do Flamengo;\n",
    "- Falhas defensivas ou desequilíbrios específicos do Flamengo em jogos contra esses adversários;\n",
    "- Clubes com maior histórico de rivalidade ou que atuam com postura ofensiva mesmo fora de casa.\n",
    "\n",
    "Estratégia prática: Flamengo pode usar essa lista para estudar o que deu errado nesses jogos (sejam táticas, formações ou desempenho individual) e reforçar a preparação contra esses clubes em futuras rodadas.\n",
    "**Observação:** Essa consulta pode ser alterado com o nome do clube específico que se deseja analisar.\n",
    "\n",
    "### **Consulta 3:** \n",
    "Essa consulta ajuda analisar qual a formação com maior número de vitórias de um clube. O resultado pode indicar seu padrão tático preferido ou mais eficiente.Além disso, ela mostra estatísticas como: um time que ganha com diferentes formações mostra versatilidade tática e clubes que vencem majoritariamente com uma única formação indicam especialização ou dependência de um esquema específico.\n",
    "\n",
    "### **Consulta 4:** \n",
    "Essa consulta retorno o saldo de gols de cada clube e eles são importante para demonstrar:\n",
    "- Ataques eficientes (marcam muitos gols);\n",
    "- Defesas sólidas (sofrem poucos gols).\n",
    "\n",
    "Já clubes com saldo negativo podem indicar vulnerabilidade defensiva ou baixa produção ofensiva. A partir do resultado dessa consulta, as comissões técnicas podem usar essa análise para diagnosticar eficiência geral do time; definir estratégias ofensivas ou defensivas e monitorar evolução do desempenho ao longo do campeonato.\n",
    "\n",
    "### **Consulta 5:** \n",
    "Essa consulta analisa a quantidade de cartões (amarelos e vermelhos) recebidos por jogadores, considerando também a posição em que atuaram. Isso permite observar padrões de comportamento ou disciplina por função em campo. Jogadores com muitos cartões em determinadas posições podem atuar de forma mais agressiva e/ou ter dificuldade de marcação e/ou ser recorrentes em faltas táticas.\n",
    "\n",
    "Vale ressaltar que posições defensivas (como zagueiros e volantes) tendem a acumular mais cartões, enquanto atacantes geralmente têm menos.\n",
    "A partir dessa consulta os treinadores podem:\n",
    "- Identificar jogadores indisciplinados;\n",
    "- Realocar atletas em posições com menor risco de advertência;\n",
    "- Evitar suspensões em jogos decisivos por acúmulo de cartões.\n",
    "\n",
    "### **Consulta 6:** \n",
    "Esta consulta permite a análise da distribuição percentual dos tipos de gol feitos por cada clube ao longo do campeonato. Os tipos incluem:\n",
    "1. Gol Regular (gols normais)\n",
    "2. Penalty (gols de pênalti)\n",
    "3. Gol Contra (gols contra)\n",
    "\n",
    "A grande maioria dos gols são regulares.Porém, alguns clubes se destacam em tipos específicos:\n",
    "- Atlético-MG tem 3,26% de gols contra – isso pode indicar falhas defensivas recorrentes.\n",
    "- Avaí teve um número expressivo de gols de Penalty, podendo indicar possível estratégia ofensiva de forçar faltas na área ou dependência de bolas paradas para marcar gols.\n",
    "\n",
    "A partir desses números, os treinadores podem: focar em estratégias defensivas para evitar pênaltis e gols contra; estimular jogadas de ataque que gerem mais situações de pênalti; ajustar o treinamento de finalizações em lances normais; explorar o ponto fraco dos adversários, por exemplo, se tomam muitos gols de pênalti.\n",
    "\n",
    "### **Consulta 7:** \n",
    "Essa consulta identifica os jogadores que mais fizeram gols contra na base do Brasileirão, o que é uma métrica importante para a análise de falhas defensivas, posicionamento tático entre outros.\n",
    "\n",
    "No resultado da consulta, destaca-se cinco jogadores cometeram 3 gols contra cada, o que é estatisticamente relevante em um campeonato uma vez que\n",
    "gols contra geralmente estão ligados a:\n",
    "- Erros de posicionamento\n",
    "- Pressão do adversário\n",
    "- Tentativas falhas de corte ou recuo\n",
    "**Se esses jogadores atuam frequentemente na defesa, isso pode indicar vulnerabilidades táticas ou técnicas que precisam de intervenção da comissão técnica.**\n",
    "\n",
    "Esses resultados são importantes para a comissão técnica uma vez que se pode:\n",
    "1. Avaliar padrões nos erros (mesmo tipo de jogada? mesma região do campo?).\n",
    "2. Corrigir com treinamento específico de tomada de decisão defensiva.\n",
    "\n",
    "Pode ser útil também em análises psicológicas ou motivacionais.\n",
    "\n",
    "### **Consulta 8:** \n",
    "Essa consulta tem como objetivo identificar quais clubes marcaram mais gols de pênalti durante o campeonato, usando os dados tratados da tabela de gols. Essa consulta indica:\n",
    "- Clubes no topo da lista tendem a chegar mais à área adversária com frequência ou têm jogadores que sofrem muitas faltas em zonas críticas.\n",
    "- Também pode indicar habilidade para cavar penalidades ou pressão ofensiva constante.\n",
    "\n",
    "Se o clube tem muitos gols de pênalti mas baixo número de gols regulares, isso pode indicar dependência desse tipo de jogada. Essa consulta pode trazer insights valiosos para treinadores e equipes adversárias.\n",
    "Treinadores podem:\n",
    "- Estimular treinos de pênalti para manter o aproveitamento.\n",
    "- Trabalhar jogadas que gerem mais faltas na área, se o pênalti for uma arma importante.\n",
    "\n",
    "Equipes adversárias podem:\n",
    "- Avaliar o comportamento ofensivo dos clubes que mais fazem gols de pênalti.\n",
    "- Estudar os principais batedores e estratégias de defesa contra penalidades.\n",
    "\n",
    "### **Consulta 9:** \n",
    "Essa consulta investiga se existe correlação entre o percentual de posse de bola do time mandante e o resultado da partida, ou seja, se o posse de bola influencia na vitória.\n",
    "Resultados extraídos da consulta:\n",
    "1. Posse alta não garante vitória: Muitos jogos mostram que o time com maior posse pode não ganhar — especialmente se essa posse não for produtiva (sem finalizações, por exemplo).\n",
    "2. Padrão esperado (mas não garantido): Em média, clubes com maior posse de bola tendem a dominar a partida e vencer, mas há exceções notáveis.\n",
    "\n",
    "Importância de variáveis combinadas: A posse sozinha pode não explicar tudo. Ao ser combinada com número de chutes, passes e finalizações, pode trazer insights mais precisos."
   ]
  },
  {
   "cell_type": "code",
   "execution_count": 19,
   "metadata": {},
   "outputs": [
    {
     "name": "stdout",
     "output_type": "stream",
     "text": [
      "Requirement already satisfied: plotly in ./.venv/lib64/python3.13/site-packages (6.1.2)\n",
      "Requirement already satisfied: narwhals>=1.15.1 in ./.venv/lib64/python3.13/site-packages (from plotly) (1.43.1)\n",
      "Requirement already satisfied: packaging in ./.venv/lib64/python3.13/site-packages (from plotly) (25.0)\n",
      "\n",
      "\u001b[1m[\u001b[0m\u001b[34;49mnotice\u001b[0m\u001b[1;39;49m]\u001b[0m\u001b[39;49m A new release of pip is available: \u001b[0m\u001b[31;49m24.2\u001b[0m\u001b[39;49m -> \u001b[0m\u001b[32;49m25.1.1\u001b[0m\n",
      "\u001b[1m[\u001b[0m\u001b[34;49mnotice\u001b[0m\u001b[1;39;49m]\u001b[0m\u001b[39;49m To update, run: \u001b[0m\u001b[32;49mpip install --upgrade pip\u001b[0m\n",
      "Requirement already satisfied: statsmodels in ./.venv/lib64/python3.13/site-packages (0.14.4)\n",
      "Requirement already satisfied: numpy<3,>=1.22.3 in ./.venv/lib64/python3.13/site-packages (from statsmodels) (2.3.0)\n",
      "Requirement already satisfied: scipy!=1.9.2,>=1.8 in ./.venv/lib64/python3.13/site-packages (from statsmodels) (1.15.3)\n",
      "Requirement already satisfied: pandas!=2.1.0,>=1.4 in ./.venv/lib64/python3.13/site-packages (from statsmodels) (2.3.0)\n",
      "Requirement already satisfied: patsy>=0.5.6 in ./.venv/lib64/python3.13/site-packages (from statsmodels) (1.0.1)\n",
      "Requirement already satisfied: packaging>=21.3 in ./.venv/lib64/python3.13/site-packages (from statsmodels) (25.0)\n",
      "Requirement already satisfied: python-dateutil>=2.8.2 in ./.venv/lib64/python3.13/site-packages (from pandas!=2.1.0,>=1.4->statsmodels) (2.9.0.post0)\n",
      "Requirement already satisfied: pytz>=2020.1 in ./.venv/lib64/python3.13/site-packages (from pandas!=2.1.0,>=1.4->statsmodels) (2025.2)\n",
      "Requirement already satisfied: tzdata>=2022.7 in ./.venv/lib64/python3.13/site-packages (from pandas!=2.1.0,>=1.4->statsmodels) (2025.2)\n",
      "Requirement already satisfied: six>=1.5 in ./.venv/lib64/python3.13/site-packages (from python-dateutil>=2.8.2->pandas!=2.1.0,>=1.4->statsmodels) (1.17.0)\n",
      "\n",
      "\u001b[1m[\u001b[0m\u001b[34;49mnotice\u001b[0m\u001b[1;39;49m]\u001b[0m\u001b[39;49m A new release of pip is available: \u001b[0m\u001b[31;49m24.2\u001b[0m\u001b[39;49m -> \u001b[0m\u001b[32;49m25.1.1\u001b[0m\n",
      "\u001b[1m[\u001b[0m\u001b[34;49mnotice\u001b[0m\u001b[1;39;49m]\u001b[0m\u001b[39;49m To update, run: \u001b[0m\u001b[32;49mpip install --upgrade pip\u001b[0m\n"
     ]
    }
   ],
   "source": [
    "!pip install plotly\n",
    "!pip install statsmodels\n",
    "\n"
   ]
  },
  {
   "cell_type": "code",
   "execution_count": 20,
   "metadata": {},
   "outputs": [],
   "source": [
    "import plotly.express as px\n",
    "import plotly.graph_objects as go\n",
    "import ipywidgets as widgets\n",
    "from IPython.display import display\n",
    "import plotly.graph_objects as go"
   ]
  },
  {
   "cell_type": "markdown",
   "metadata": {},
   "source": [
    "\n",
    "# Iniciativa Extra - Visualização Interativa – Análise do Campeonato Brasileiro\n",
    "\n",
    "Este conjunto de gráficos interativos tem como objetivo apoiar análises estratégicas e táticas no contexto do futebol profissional brasileiro. A seguir, apresentamos visualizações geradas a partir de diferentes consultas realizadas sobre os dados do campeonato, com destaque para formações, desempenho de clubes, comportamento disciplinar e efetividade ofensiva.\n",
    "\n",
    "\n",
    "### **Gráfico 1 – Top 20 Formações Mais Vitoriosas**\n",
    "Este gráfico exibe as formações táticas mais utilizadas em partidas vencidas pelos mandantes. Ele permite observar tendências táticas por clube e verificar quais esquemas se mostraram mais eficazes na conquista de vitórias.\n",
    "\n",
    "\n",
    "### **Gráfico 2 – Top 20 Clubes com Maior Saldo de Gols**\n",
    "Aqui visualizamos os clubes com maior saldo de gols, métrica que reflete tanto a eficiência ofensiva quanto a solidez defensiva. Um saldo positivo recorrente é indicador de desempenho consistente ao longo da competição.\n",
    "\n",
    "\n",
    "### **Gráfico 3 – Adversários que Mais Venceram um Mandante**\n",
    "Este gráfico interativo permite selecionar qualquer clube mandante e visualizar os adversários que mais o venceram. Ele é útil para identificar padrões de vulnerabilidade em confrontos diretos e definir estratégias específicas contra determinados oponentes.\n",
    "\n",
    "\n",
    "### **Gráfico 4 – Cartões por Jogador (Interativo)**\n",
    "Com a possibilidade de selecionar jogadores individualmente, este gráfico mostra a quantidade de cartões amarelos e vermelhos recebidos, segmentados por posição. Pode-se analisar o comportamento disciplinar dos atletas e suas posições mais suscetíveis a advertências.\n",
    "\n",
    "\n",
    "### **Gráfico 5 – Distribuição dos Tipos de Gol por Clube**\n",
    "Mostra a porcentagem de gols regulares, contra e de pênalti marcados por cada clube. Essa informação é importante para entender o perfil ofensivo das equipes, como dependência de bolas paradas ou falhas do adversário.\n",
    "\n",
    "\n",
    "### **Gráfico 6 – Top 10 Jogadores com Mais Gols Contra**\n",
    "Este gráfico evidencia os atletas que mais marcaram contra a própria equipe, algo relevante para treinadores identificarem possíveis falhas de posicionamento ou tomadas de decisão sob pressão defensiva.\n",
    "\n",
    "\n",
    "### **Gráfico 7 – Top 20 Clubes com Mais Gols de Pênalti**\n",
    "Mostra quais clubes mais converteram pênaltis, o que pode indicar bom aproveitamento em bolas paradas, estilo de jogo ofensivo ou situações frequentes dentro da área adversária.\n",
    "\n",
    "\n",
    "### **Gráfico 8 – Correlação entre Posse de Bola e Resultado**\n",
    "Um gráfico de dispersão com linha de tendência (regressão linear) que analisa a relação entre posse de bola do mandante e o resultado da partida. Pode indicar se o domínio territorial está de fato associado à vitória."
   ]
  },
  {
   "cell_type": "code",
   "execution_count": 21,
   "metadata": {},
   "outputs": [
    {
     "data": {
      "application/vnd.plotly.v1+json": {
       "config": {
        "plotlyServerURL": "https://plot.ly"
       },
       "data": [
        {
         "hovertemplate": "mandante=America-MG<br>formacao_mandante=%{x}<br>vitorias=%{y}<extra></extra>",
         "legendgroup": "America-MG",
         "marker": {
          "color": "#636efa",
          "pattern": {
           "shape": ""
          }
         },
         "name": "America-MG",
         "orientation": "v",
         "showlegend": true,
         "textposition": "auto",
         "type": "bar",
         "x": [
          "4-2-3-1",
          "4-1-4-1",
          "4-3-3",
          "3-5-2",
          "4-1-3-2",
          "3-4-1-2",
          "4-2-2-2"
         ],
         "xaxis": "x",
         "y": {
          "bdata": "EAsDAgIBAQ==",
          "dtype": "i1"
         },
         "yaxis": "y"
        },
        {
         "hovertemplate": "mandante=Athletico-PR<br>formacao_mandante=%{x}<br>vitorias=%{y}<extra></extra>",
         "legendgroup": "Athletico-PR",
         "marker": {
          "color": "#EF553B",
          "pattern": {
           "shape": ""
          }
         },
         "name": "Athletico-PR",
         "orientation": "v",
         "showlegend": true,
         "textposition": "auto",
         "type": "bar",
         "x": [
          "4-2-3-1",
          "Formação Desconhecida",
          "4-1-4-1",
          "3-4-2-1",
          "4-4-2",
          "3-4-3",
          "4-3-3",
          "4-1-2-1-2",
          "4-2-2-2",
          "4-4-1-1"
         ],
         "xaxis": "x",
         "y": {
          "bdata": "SgkHBgUEBAIBAQ==",
          "dtype": "i1"
         },
         "yaxis": "y"
        },
        {
         "hovertemplate": "mandante=Atletico-GO<br>formacao_mandante=%{x}<br>vitorias=%{y}<extra></extra>",
         "legendgroup": "Atletico-GO",
         "marker": {
          "color": "#00cc96",
          "pattern": {
           "shape": ""
          }
         },
         "name": "Atletico-GO",
         "orientation": "v",
         "showlegend": true,
         "textposition": "auto",
         "type": "bar",
         "x": [
          "4-2-3-1",
          "4-3-3",
          "4-1-4-1"
         ],
         "xaxis": "x",
         "y": {
          "bdata": "FwMB",
          "dtype": "i1"
         },
         "yaxis": "y"
        }
       ],
       "layout": {
        "barmode": "relative",
        "legend": {
         "title": {
          "text": "mandante"
         },
         "tracegroupgap": 0
        },
        "template": {
         "data": {
          "bar": [
           {
            "error_x": {
             "color": "#2a3f5f"
            },
            "error_y": {
             "color": "#2a3f5f"
            },
            "marker": {
             "line": {
              "color": "#E5ECF6",
              "width": 0.5
             },
             "pattern": {
              "fillmode": "overlay",
              "size": 10,
              "solidity": 0.2
             }
            },
            "type": "bar"
           }
          ],
          "barpolar": [
           {
            "marker": {
             "line": {
              "color": "#E5ECF6",
              "width": 0.5
             },
             "pattern": {
              "fillmode": "overlay",
              "size": 10,
              "solidity": 0.2
             }
            },
            "type": "barpolar"
           }
          ],
          "carpet": [
           {
            "aaxis": {
             "endlinecolor": "#2a3f5f",
             "gridcolor": "white",
             "linecolor": "white",
             "minorgridcolor": "white",
             "startlinecolor": "#2a3f5f"
            },
            "baxis": {
             "endlinecolor": "#2a3f5f",
             "gridcolor": "white",
             "linecolor": "white",
             "minorgridcolor": "white",
             "startlinecolor": "#2a3f5f"
            },
            "type": "carpet"
           }
          ],
          "choropleth": [
           {
            "colorbar": {
             "outlinewidth": 0,
             "ticks": ""
            },
            "type": "choropleth"
           }
          ],
          "contour": [
           {
            "colorbar": {
             "outlinewidth": 0,
             "ticks": ""
            },
            "colorscale": [
             [
              0,
              "#0d0887"
             ],
             [
              0.1111111111111111,
              "#46039f"
             ],
             [
              0.2222222222222222,
              "#7201a8"
             ],
             [
              0.3333333333333333,
              "#9c179e"
             ],
             [
              0.4444444444444444,
              "#bd3786"
             ],
             [
              0.5555555555555556,
              "#d8576b"
             ],
             [
              0.6666666666666666,
              "#ed7953"
             ],
             [
              0.7777777777777778,
              "#fb9f3a"
             ],
             [
              0.8888888888888888,
              "#fdca26"
             ],
             [
              1,
              "#f0f921"
             ]
            ],
            "type": "contour"
           }
          ],
          "contourcarpet": [
           {
            "colorbar": {
             "outlinewidth": 0,
             "ticks": ""
            },
            "type": "contourcarpet"
           }
          ],
          "heatmap": [
           {
            "colorbar": {
             "outlinewidth": 0,
             "ticks": ""
            },
            "colorscale": [
             [
              0,
              "#0d0887"
             ],
             [
              0.1111111111111111,
              "#46039f"
             ],
             [
              0.2222222222222222,
              "#7201a8"
             ],
             [
              0.3333333333333333,
              "#9c179e"
             ],
             [
              0.4444444444444444,
              "#bd3786"
             ],
             [
              0.5555555555555556,
              "#d8576b"
             ],
             [
              0.6666666666666666,
              "#ed7953"
             ],
             [
              0.7777777777777778,
              "#fb9f3a"
             ],
             [
              0.8888888888888888,
              "#fdca26"
             ],
             [
              1,
              "#f0f921"
             ]
            ],
            "type": "heatmap"
           }
          ],
          "histogram": [
           {
            "marker": {
             "pattern": {
              "fillmode": "overlay",
              "size": 10,
              "solidity": 0.2
             }
            },
            "type": "histogram"
           }
          ],
          "histogram2d": [
           {
            "colorbar": {
             "outlinewidth": 0,
             "ticks": ""
            },
            "colorscale": [
             [
              0,
              "#0d0887"
             ],
             [
              0.1111111111111111,
              "#46039f"
             ],
             [
              0.2222222222222222,
              "#7201a8"
             ],
             [
              0.3333333333333333,
              "#9c179e"
             ],
             [
              0.4444444444444444,
              "#bd3786"
             ],
             [
              0.5555555555555556,
              "#d8576b"
             ],
             [
              0.6666666666666666,
              "#ed7953"
             ],
             [
              0.7777777777777778,
              "#fb9f3a"
             ],
             [
              0.8888888888888888,
              "#fdca26"
             ],
             [
              1,
              "#f0f921"
             ]
            ],
            "type": "histogram2d"
           }
          ],
          "histogram2dcontour": [
           {
            "colorbar": {
             "outlinewidth": 0,
             "ticks": ""
            },
            "colorscale": [
             [
              0,
              "#0d0887"
             ],
             [
              0.1111111111111111,
              "#46039f"
             ],
             [
              0.2222222222222222,
              "#7201a8"
             ],
             [
              0.3333333333333333,
              "#9c179e"
             ],
             [
              0.4444444444444444,
              "#bd3786"
             ],
             [
              0.5555555555555556,
              "#d8576b"
             ],
             [
              0.6666666666666666,
              "#ed7953"
             ],
             [
              0.7777777777777778,
              "#fb9f3a"
             ],
             [
              0.8888888888888888,
              "#fdca26"
             ],
             [
              1,
              "#f0f921"
             ]
            ],
            "type": "histogram2dcontour"
           }
          ],
          "mesh3d": [
           {
            "colorbar": {
             "outlinewidth": 0,
             "ticks": ""
            },
            "type": "mesh3d"
           }
          ],
          "parcoords": [
           {
            "line": {
             "colorbar": {
              "outlinewidth": 0,
              "ticks": ""
             }
            },
            "type": "parcoords"
           }
          ],
          "pie": [
           {
            "automargin": true,
            "type": "pie"
           }
          ],
          "scatter": [
           {
            "fillpattern": {
             "fillmode": "overlay",
             "size": 10,
             "solidity": 0.2
            },
            "type": "scatter"
           }
          ],
          "scatter3d": [
           {
            "line": {
             "colorbar": {
              "outlinewidth": 0,
              "ticks": ""
             }
            },
            "marker": {
             "colorbar": {
              "outlinewidth": 0,
              "ticks": ""
             }
            },
            "type": "scatter3d"
           }
          ],
          "scattercarpet": [
           {
            "marker": {
             "colorbar": {
              "outlinewidth": 0,
              "ticks": ""
             }
            },
            "type": "scattercarpet"
           }
          ],
          "scattergeo": [
           {
            "marker": {
             "colorbar": {
              "outlinewidth": 0,
              "ticks": ""
             }
            },
            "type": "scattergeo"
           }
          ],
          "scattergl": [
           {
            "marker": {
             "colorbar": {
              "outlinewidth": 0,
              "ticks": ""
             }
            },
            "type": "scattergl"
           }
          ],
          "scattermap": [
           {
            "marker": {
             "colorbar": {
              "outlinewidth": 0,
              "ticks": ""
             }
            },
            "type": "scattermap"
           }
          ],
          "scattermapbox": [
           {
            "marker": {
             "colorbar": {
              "outlinewidth": 0,
              "ticks": ""
             }
            },
            "type": "scattermapbox"
           }
          ],
          "scatterpolar": [
           {
            "marker": {
             "colorbar": {
              "outlinewidth": 0,
              "ticks": ""
             }
            },
            "type": "scatterpolar"
           }
          ],
          "scatterpolargl": [
           {
            "marker": {
             "colorbar": {
              "outlinewidth": 0,
              "ticks": ""
             }
            },
            "type": "scatterpolargl"
           }
          ],
          "scatterternary": [
           {
            "marker": {
             "colorbar": {
              "outlinewidth": 0,
              "ticks": ""
             }
            },
            "type": "scatterternary"
           }
          ],
          "surface": [
           {
            "colorbar": {
             "outlinewidth": 0,
             "ticks": ""
            },
            "colorscale": [
             [
              0,
              "#0d0887"
             ],
             [
              0.1111111111111111,
              "#46039f"
             ],
             [
              0.2222222222222222,
              "#7201a8"
             ],
             [
              0.3333333333333333,
              "#9c179e"
             ],
             [
              0.4444444444444444,
              "#bd3786"
             ],
             [
              0.5555555555555556,
              "#d8576b"
             ],
             [
              0.6666666666666666,
              "#ed7953"
             ],
             [
              0.7777777777777778,
              "#fb9f3a"
             ],
             [
              0.8888888888888888,
              "#fdca26"
             ],
             [
              1,
              "#f0f921"
             ]
            ],
            "type": "surface"
           }
          ],
          "table": [
           {
            "cells": {
             "fill": {
              "color": "#EBF0F8"
             },
             "line": {
              "color": "white"
             }
            },
            "header": {
             "fill": {
              "color": "#C8D4E3"
             },
             "line": {
              "color": "white"
             }
            },
            "type": "table"
           }
          ]
         },
         "layout": {
          "annotationdefaults": {
           "arrowcolor": "#2a3f5f",
           "arrowhead": 0,
           "arrowwidth": 1
          },
          "autotypenumbers": "strict",
          "coloraxis": {
           "colorbar": {
            "outlinewidth": 0,
            "ticks": ""
           }
          },
          "colorscale": {
           "diverging": [
            [
             0,
             "#8e0152"
            ],
            [
             0.1,
             "#c51b7d"
            ],
            [
             0.2,
             "#de77ae"
            ],
            [
             0.3,
             "#f1b6da"
            ],
            [
             0.4,
             "#fde0ef"
            ],
            [
             0.5,
             "#f7f7f7"
            ],
            [
             0.6,
             "#e6f5d0"
            ],
            [
             0.7,
             "#b8e186"
            ],
            [
             0.8,
             "#7fbc41"
            ],
            [
             0.9,
             "#4d9221"
            ],
            [
             1,
             "#276419"
            ]
           ],
           "sequential": [
            [
             0,
             "#0d0887"
            ],
            [
             0.1111111111111111,
             "#46039f"
            ],
            [
             0.2222222222222222,
             "#7201a8"
            ],
            [
             0.3333333333333333,
             "#9c179e"
            ],
            [
             0.4444444444444444,
             "#bd3786"
            ],
            [
             0.5555555555555556,
             "#d8576b"
            ],
            [
             0.6666666666666666,
             "#ed7953"
            ],
            [
             0.7777777777777778,
             "#fb9f3a"
            ],
            [
             0.8888888888888888,
             "#fdca26"
            ],
            [
             1,
             "#f0f921"
            ]
           ],
           "sequentialminus": [
            [
             0,
             "#0d0887"
            ],
            [
             0.1111111111111111,
             "#46039f"
            ],
            [
             0.2222222222222222,
             "#7201a8"
            ],
            [
             0.3333333333333333,
             "#9c179e"
            ],
            [
             0.4444444444444444,
             "#bd3786"
            ],
            [
             0.5555555555555556,
             "#d8576b"
            ],
            [
             0.6666666666666666,
             "#ed7953"
            ],
            [
             0.7777777777777778,
             "#fb9f3a"
            ],
            [
             0.8888888888888888,
             "#fdca26"
            ],
            [
             1,
             "#f0f921"
            ]
           ]
          },
          "colorway": [
           "#636efa",
           "#EF553B",
           "#00cc96",
           "#ab63fa",
           "#FFA15A",
           "#19d3f3",
           "#FF6692",
           "#B6E880",
           "#FF97FF",
           "#FECB52"
          ],
          "font": {
           "color": "#2a3f5f"
          },
          "geo": {
           "bgcolor": "white",
           "lakecolor": "white",
           "landcolor": "#E5ECF6",
           "showlakes": true,
           "showland": true,
           "subunitcolor": "white"
          },
          "hoverlabel": {
           "align": "left"
          },
          "hovermode": "closest",
          "mapbox": {
           "style": "light"
          },
          "paper_bgcolor": "white",
          "plot_bgcolor": "#E5ECF6",
          "polar": {
           "angularaxis": {
            "gridcolor": "white",
            "linecolor": "white",
            "ticks": ""
           },
           "bgcolor": "#E5ECF6",
           "radialaxis": {
            "gridcolor": "white",
            "linecolor": "white",
            "ticks": ""
           }
          },
          "scene": {
           "xaxis": {
            "backgroundcolor": "#E5ECF6",
            "gridcolor": "white",
            "gridwidth": 2,
            "linecolor": "white",
            "showbackground": true,
            "ticks": "",
            "zerolinecolor": "white"
           },
           "yaxis": {
            "backgroundcolor": "#E5ECF6",
            "gridcolor": "white",
            "gridwidth": 2,
            "linecolor": "white",
            "showbackground": true,
            "ticks": "",
            "zerolinecolor": "white"
           },
           "zaxis": {
            "backgroundcolor": "#E5ECF6",
            "gridcolor": "white",
            "gridwidth": 2,
            "linecolor": "white",
            "showbackground": true,
            "ticks": "",
            "zerolinecolor": "white"
           }
          },
          "shapedefaults": {
           "line": {
            "color": "#2a3f5f"
           }
          },
          "ternary": {
           "aaxis": {
            "gridcolor": "white",
            "linecolor": "white",
            "ticks": ""
           },
           "baxis": {
            "gridcolor": "white",
            "linecolor": "white",
            "ticks": ""
           },
           "bgcolor": "#E5ECF6",
           "caxis": {
            "gridcolor": "white",
            "linecolor": "white",
            "ticks": ""
           }
          },
          "title": {
           "x": 0.05
          },
          "xaxis": {
           "automargin": true,
           "gridcolor": "white",
           "linecolor": "white",
           "ticks": "",
           "title": {
            "standoff": 15
           },
           "zerolinecolor": "white",
           "zerolinewidth": 2
          },
          "yaxis": {
           "automargin": true,
           "gridcolor": "white",
           "linecolor": "white",
           "ticks": "",
           "title": {
            "standoff": 15
           },
           "zerolinecolor": "white",
           "zerolinewidth": 2
          }
         }
        },
        "title": {
         "text": "Top 20 Formações Mais Vitoriosas"
        },
        "xaxis": {
         "anchor": "y",
         "domain": [
          0,
          1
         ],
         "title": {
          "text": "formacao_mandante"
         }
        },
        "yaxis": {
         "anchor": "x",
         "domain": [
          0,
          1
         ],
         "title": {
          "text": "vitorias"
         }
        }
       }
      }
     },
     "metadata": {},
     "output_type": "display_data"
    },
    {
     "data": {
      "application/vnd.plotly.v1+json": {
       "config": {
        "plotlyServerURL": "https://plot.ly"
       },
       "data": [
        {
         "hovertemplate": "clube=%{x}<br>saldo_total=%{y}<extra></extra>",
         "legendgroup": "",
         "marker": {
          "color": "#636efa",
          "pattern": {
           "shape": ""
          }
         },
         "name": "",
         "orientation": "v",
         "showlegend": false,
         "textposition": "auto",
         "type": "bar",
         "x": [
          "Palmeiras",
          "Flamengo",
          "Atletico-MG",
          "Corinthians",
          "Internacional",
          "Gremio",
          "Sao Paulo",
          "Santos",
          "Athletico-PR",
          "Cruzeiro",
          "Fluminense",
          "Fortaleza",
          "Bragantino",
          "Botafogo-RJ",
          "Ceara",
          "Ponte Preta",
          "Joinville",
          "Santa Cruz",
          "Cuiaba",
          "CSA"
         ],
         "xaxis": "x",
         "y": {
          "bdata": "2gDTAHcAbQBtAF0AXABCACsAGwAQAA4ADAD2//T/7v/q/+j/3//e/w==",
          "dtype": "i2"
         },
         "yaxis": "y"
        }
       ],
       "layout": {
        "barmode": "relative",
        "legend": {
         "tracegroupgap": 0
        },
        "template": {
         "data": {
          "bar": [
           {
            "error_x": {
             "color": "#2a3f5f"
            },
            "error_y": {
             "color": "#2a3f5f"
            },
            "marker": {
             "line": {
              "color": "#E5ECF6",
              "width": 0.5
             },
             "pattern": {
              "fillmode": "overlay",
              "size": 10,
              "solidity": 0.2
             }
            },
            "type": "bar"
           }
          ],
          "barpolar": [
           {
            "marker": {
             "line": {
              "color": "#E5ECF6",
              "width": 0.5
             },
             "pattern": {
              "fillmode": "overlay",
              "size": 10,
              "solidity": 0.2
             }
            },
            "type": "barpolar"
           }
          ],
          "carpet": [
           {
            "aaxis": {
             "endlinecolor": "#2a3f5f",
             "gridcolor": "white",
             "linecolor": "white",
             "minorgridcolor": "white",
             "startlinecolor": "#2a3f5f"
            },
            "baxis": {
             "endlinecolor": "#2a3f5f",
             "gridcolor": "white",
             "linecolor": "white",
             "minorgridcolor": "white",
             "startlinecolor": "#2a3f5f"
            },
            "type": "carpet"
           }
          ],
          "choropleth": [
           {
            "colorbar": {
             "outlinewidth": 0,
             "ticks": ""
            },
            "type": "choropleth"
           }
          ],
          "contour": [
           {
            "colorbar": {
             "outlinewidth": 0,
             "ticks": ""
            },
            "colorscale": [
             [
              0,
              "#0d0887"
             ],
             [
              0.1111111111111111,
              "#46039f"
             ],
             [
              0.2222222222222222,
              "#7201a8"
             ],
             [
              0.3333333333333333,
              "#9c179e"
             ],
             [
              0.4444444444444444,
              "#bd3786"
             ],
             [
              0.5555555555555556,
              "#d8576b"
             ],
             [
              0.6666666666666666,
              "#ed7953"
             ],
             [
              0.7777777777777778,
              "#fb9f3a"
             ],
             [
              0.8888888888888888,
              "#fdca26"
             ],
             [
              1,
              "#f0f921"
             ]
            ],
            "type": "contour"
           }
          ],
          "contourcarpet": [
           {
            "colorbar": {
             "outlinewidth": 0,
             "ticks": ""
            },
            "type": "contourcarpet"
           }
          ],
          "heatmap": [
           {
            "colorbar": {
             "outlinewidth": 0,
             "ticks": ""
            },
            "colorscale": [
             [
              0,
              "#0d0887"
             ],
             [
              0.1111111111111111,
              "#46039f"
             ],
             [
              0.2222222222222222,
              "#7201a8"
             ],
             [
              0.3333333333333333,
              "#9c179e"
             ],
             [
              0.4444444444444444,
              "#bd3786"
             ],
             [
              0.5555555555555556,
              "#d8576b"
             ],
             [
              0.6666666666666666,
              "#ed7953"
             ],
             [
              0.7777777777777778,
              "#fb9f3a"
             ],
             [
              0.8888888888888888,
              "#fdca26"
             ],
             [
              1,
              "#f0f921"
             ]
            ],
            "type": "heatmap"
           }
          ],
          "histogram": [
           {
            "marker": {
             "pattern": {
              "fillmode": "overlay",
              "size": 10,
              "solidity": 0.2
             }
            },
            "type": "histogram"
           }
          ],
          "histogram2d": [
           {
            "colorbar": {
             "outlinewidth": 0,
             "ticks": ""
            },
            "colorscale": [
             [
              0,
              "#0d0887"
             ],
             [
              0.1111111111111111,
              "#46039f"
             ],
             [
              0.2222222222222222,
              "#7201a8"
             ],
             [
              0.3333333333333333,
              "#9c179e"
             ],
             [
              0.4444444444444444,
              "#bd3786"
             ],
             [
              0.5555555555555556,
              "#d8576b"
             ],
             [
              0.6666666666666666,
              "#ed7953"
             ],
             [
              0.7777777777777778,
              "#fb9f3a"
             ],
             [
              0.8888888888888888,
              "#fdca26"
             ],
             [
              1,
              "#f0f921"
             ]
            ],
            "type": "histogram2d"
           }
          ],
          "histogram2dcontour": [
           {
            "colorbar": {
             "outlinewidth": 0,
             "ticks": ""
            },
            "colorscale": [
             [
              0,
              "#0d0887"
             ],
             [
              0.1111111111111111,
              "#46039f"
             ],
             [
              0.2222222222222222,
              "#7201a8"
             ],
             [
              0.3333333333333333,
              "#9c179e"
             ],
             [
              0.4444444444444444,
              "#bd3786"
             ],
             [
              0.5555555555555556,
              "#d8576b"
             ],
             [
              0.6666666666666666,
              "#ed7953"
             ],
             [
              0.7777777777777778,
              "#fb9f3a"
             ],
             [
              0.8888888888888888,
              "#fdca26"
             ],
             [
              1,
              "#f0f921"
             ]
            ],
            "type": "histogram2dcontour"
           }
          ],
          "mesh3d": [
           {
            "colorbar": {
             "outlinewidth": 0,
             "ticks": ""
            },
            "type": "mesh3d"
           }
          ],
          "parcoords": [
           {
            "line": {
             "colorbar": {
              "outlinewidth": 0,
              "ticks": ""
             }
            },
            "type": "parcoords"
           }
          ],
          "pie": [
           {
            "automargin": true,
            "type": "pie"
           }
          ],
          "scatter": [
           {
            "fillpattern": {
             "fillmode": "overlay",
             "size": 10,
             "solidity": 0.2
            },
            "type": "scatter"
           }
          ],
          "scatter3d": [
           {
            "line": {
             "colorbar": {
              "outlinewidth": 0,
              "ticks": ""
             }
            },
            "marker": {
             "colorbar": {
              "outlinewidth": 0,
              "ticks": ""
             }
            },
            "type": "scatter3d"
           }
          ],
          "scattercarpet": [
           {
            "marker": {
             "colorbar": {
              "outlinewidth": 0,
              "ticks": ""
             }
            },
            "type": "scattercarpet"
           }
          ],
          "scattergeo": [
           {
            "marker": {
             "colorbar": {
              "outlinewidth": 0,
              "ticks": ""
             }
            },
            "type": "scattergeo"
           }
          ],
          "scattergl": [
           {
            "marker": {
             "colorbar": {
              "outlinewidth": 0,
              "ticks": ""
             }
            },
            "type": "scattergl"
           }
          ],
          "scattermap": [
           {
            "marker": {
             "colorbar": {
              "outlinewidth": 0,
              "ticks": ""
             }
            },
            "type": "scattermap"
           }
          ],
          "scattermapbox": [
           {
            "marker": {
             "colorbar": {
              "outlinewidth": 0,
              "ticks": ""
             }
            },
            "type": "scattermapbox"
           }
          ],
          "scatterpolar": [
           {
            "marker": {
             "colorbar": {
              "outlinewidth": 0,
              "ticks": ""
             }
            },
            "type": "scatterpolar"
           }
          ],
          "scatterpolargl": [
           {
            "marker": {
             "colorbar": {
              "outlinewidth": 0,
              "ticks": ""
             }
            },
            "type": "scatterpolargl"
           }
          ],
          "scatterternary": [
           {
            "marker": {
             "colorbar": {
              "outlinewidth": 0,
              "ticks": ""
             }
            },
            "type": "scatterternary"
           }
          ],
          "surface": [
           {
            "colorbar": {
             "outlinewidth": 0,
             "ticks": ""
            },
            "colorscale": [
             [
              0,
              "#0d0887"
             ],
             [
              0.1111111111111111,
              "#46039f"
             ],
             [
              0.2222222222222222,
              "#7201a8"
             ],
             [
              0.3333333333333333,
              "#9c179e"
             ],
             [
              0.4444444444444444,
              "#bd3786"
             ],
             [
              0.5555555555555556,
              "#d8576b"
             ],
             [
              0.6666666666666666,
              "#ed7953"
             ],
             [
              0.7777777777777778,
              "#fb9f3a"
             ],
             [
              0.8888888888888888,
              "#fdca26"
             ],
             [
              1,
              "#f0f921"
             ]
            ],
            "type": "surface"
           }
          ],
          "table": [
           {
            "cells": {
             "fill": {
              "color": "#EBF0F8"
             },
             "line": {
              "color": "white"
             }
            },
            "header": {
             "fill": {
              "color": "#C8D4E3"
             },
             "line": {
              "color": "white"
             }
            },
            "type": "table"
           }
          ]
         },
         "layout": {
          "annotationdefaults": {
           "arrowcolor": "#2a3f5f",
           "arrowhead": 0,
           "arrowwidth": 1
          },
          "autotypenumbers": "strict",
          "coloraxis": {
           "colorbar": {
            "outlinewidth": 0,
            "ticks": ""
           }
          },
          "colorscale": {
           "diverging": [
            [
             0,
             "#8e0152"
            ],
            [
             0.1,
             "#c51b7d"
            ],
            [
             0.2,
             "#de77ae"
            ],
            [
             0.3,
             "#f1b6da"
            ],
            [
             0.4,
             "#fde0ef"
            ],
            [
             0.5,
             "#f7f7f7"
            ],
            [
             0.6,
             "#e6f5d0"
            ],
            [
             0.7,
             "#b8e186"
            ],
            [
             0.8,
             "#7fbc41"
            ],
            [
             0.9,
             "#4d9221"
            ],
            [
             1,
             "#276419"
            ]
           ],
           "sequential": [
            [
             0,
             "#0d0887"
            ],
            [
             0.1111111111111111,
             "#46039f"
            ],
            [
             0.2222222222222222,
             "#7201a8"
            ],
            [
             0.3333333333333333,
             "#9c179e"
            ],
            [
             0.4444444444444444,
             "#bd3786"
            ],
            [
             0.5555555555555556,
             "#d8576b"
            ],
            [
             0.6666666666666666,
             "#ed7953"
            ],
            [
             0.7777777777777778,
             "#fb9f3a"
            ],
            [
             0.8888888888888888,
             "#fdca26"
            ],
            [
             1,
             "#f0f921"
            ]
           ],
           "sequentialminus": [
            [
             0,
             "#0d0887"
            ],
            [
             0.1111111111111111,
             "#46039f"
            ],
            [
             0.2222222222222222,
             "#7201a8"
            ],
            [
             0.3333333333333333,
             "#9c179e"
            ],
            [
             0.4444444444444444,
             "#bd3786"
            ],
            [
             0.5555555555555556,
             "#d8576b"
            ],
            [
             0.6666666666666666,
             "#ed7953"
            ],
            [
             0.7777777777777778,
             "#fb9f3a"
            ],
            [
             0.8888888888888888,
             "#fdca26"
            ],
            [
             1,
             "#f0f921"
            ]
           ]
          },
          "colorway": [
           "#636efa",
           "#EF553B",
           "#00cc96",
           "#ab63fa",
           "#FFA15A",
           "#19d3f3",
           "#FF6692",
           "#B6E880",
           "#FF97FF",
           "#FECB52"
          ],
          "font": {
           "color": "#2a3f5f"
          },
          "geo": {
           "bgcolor": "white",
           "lakecolor": "white",
           "landcolor": "#E5ECF6",
           "showlakes": true,
           "showland": true,
           "subunitcolor": "white"
          },
          "hoverlabel": {
           "align": "left"
          },
          "hovermode": "closest",
          "mapbox": {
           "style": "light"
          },
          "paper_bgcolor": "white",
          "plot_bgcolor": "#E5ECF6",
          "polar": {
           "angularaxis": {
            "gridcolor": "white",
            "linecolor": "white",
            "ticks": ""
           },
           "bgcolor": "#E5ECF6",
           "radialaxis": {
            "gridcolor": "white",
            "linecolor": "white",
            "ticks": ""
           }
          },
          "scene": {
           "xaxis": {
            "backgroundcolor": "#E5ECF6",
            "gridcolor": "white",
            "gridwidth": 2,
            "linecolor": "white",
            "showbackground": true,
            "ticks": "",
            "zerolinecolor": "white"
           },
           "yaxis": {
            "backgroundcolor": "#E5ECF6",
            "gridcolor": "white",
            "gridwidth": 2,
            "linecolor": "white",
            "showbackground": true,
            "ticks": "",
            "zerolinecolor": "white"
           },
           "zaxis": {
            "backgroundcolor": "#E5ECF6",
            "gridcolor": "white",
            "gridwidth": 2,
            "linecolor": "white",
            "showbackground": true,
            "ticks": "",
            "zerolinecolor": "white"
           }
          },
          "shapedefaults": {
           "line": {
            "color": "#2a3f5f"
           }
          },
          "ternary": {
           "aaxis": {
            "gridcolor": "white",
            "linecolor": "white",
            "ticks": ""
           },
           "baxis": {
            "gridcolor": "white",
            "linecolor": "white",
            "ticks": ""
           },
           "bgcolor": "#E5ECF6",
           "caxis": {
            "gridcolor": "white",
            "linecolor": "white",
            "ticks": ""
           }
          },
          "title": {
           "x": 0.05
          },
          "xaxis": {
           "automargin": true,
           "gridcolor": "white",
           "linecolor": "white",
           "ticks": "",
           "title": {
            "standoff": 15
           },
           "zerolinecolor": "white",
           "zerolinewidth": 2
          },
          "yaxis": {
           "automargin": true,
           "gridcolor": "white",
           "linecolor": "white",
           "ticks": "",
           "title": {
            "standoff": 15
           },
           "zerolinecolor": "white",
           "zerolinewidth": 2
          }
         }
        },
        "title": {
         "text": "Top 20 Clubes com Maior Saldo de Gols"
        },
        "xaxis": {
         "anchor": "y",
         "domain": [
          0,
          1
         ],
         "title": {
          "text": "clube"
         }
        },
        "yaxis": {
         "anchor": "x",
         "domain": [
          0,
          1
         ],
         "title": {
          "text": "saldo_total"
         }
        }
       }
      }
     },
     "metadata": {},
     "output_type": "display_data"
    },
    {
     "data": {
      "application/vnd.jupyter.widget-view+json": {
       "model_id": "a1203eac96c842599f8ab8de9a44f06c",
       "version_major": 2,
       "version_minor": 0
      },
      "text/plain": [
       "interactive(children=(Text(value='Flamengo', description='Clube:', placeholder='Digite o nome do clube mandant…"
      ]
     },
     "metadata": {},
     "output_type": "display_data"
    },
    {
     "data": {
      "application/vnd.jupyter.widget-view+json": {
       "model_id": "501d4990afa544d9a38a894ce5db8560",
       "version_major": 2,
       "version_minor": 0
      },
      "text/plain": [
       "interactive(children=(Dropdown(description='Atleta:', options=('Abel Hernández', 'Abner', 'Abner Vinícius', 'A…"
      ]
     },
     "metadata": {},
     "output_type": "display_data"
    },
    {
     "data": {
      "application/vnd.plotly.v1+json": {
       "config": {
        "plotlyServerURL": "https://plot.ly"
       },
       "data": [
        {
         "name": "Gol Contra",
         "orientation": "h",
         "type": "bar",
         "x": {
          "bdata": "PQrXo3A9FkDXo3A9CtcQQBSuR+F6FApAMzMzMzMzBUBcj8L1KFwFQA==",
          "dtype": "f8"
         },
         "y": [
          [
           "Parana",
           "Parana"
          ],
          [
           "Vitoria",
           "Vitoria"
          ],
          [
           "Atletico-MG",
           "Atletico-MG"
          ],
          [
           "Cruzeiro",
           "Cruzeiro"
          ],
          [
           "Athletico-PR",
           "Athletico-PR"
          ]
         ]
        },
        {
         "name": "Gol Regular",
         "orientation": "h",
         "type": "bar",
         "x": {
          "bdata": "KVyPwvU4VkAzMzMzM0NVQMP1KFyPIlVA7FG4HoVrVkApXI/C9YhWQA==",
          "dtype": "f8"
         },
         "y": [
          [
           "Parana",
           "Parana"
          ],
          [
           "Vitoria",
           "Vitoria"
          ],
          [
           "Atletico-MG",
           "Atletico-MG"
          ],
          [
           "Cruzeiro",
           "Cruzeiro"
          ],
          [
           "Athletico-PR",
           "Athletico-PR"
          ]
         ]
        },
        {
         "name": "Penalty",
         "orientation": "h",
         "type": "bar",
         "x": {
          "bdata": "PQrXo3A9FkAAAAAAAIAlQGZmZmZmZihArkfhehSuHkDD9Shcj8IcQA==",
          "dtype": "f8"
         },
         "y": [
          [
           "Parana",
           "Parana"
          ],
          [
           "Vitoria",
           "Vitoria"
          ],
          [
           "Atletico-MG",
           "Atletico-MG"
          ],
          [
           "Cruzeiro",
           "Cruzeiro"
          ],
          [
           "Athletico-PR",
           "Athletico-PR"
          ]
         ]
        }
       ],
       "layout": {
        "barmode": "stack",
        "height": 400,
        "template": {
         "data": {
          "bar": [
           {
            "error_x": {
             "color": "#2a3f5f"
            },
            "error_y": {
             "color": "#2a3f5f"
            },
            "marker": {
             "line": {
              "color": "#E5ECF6",
              "width": 0.5
             },
             "pattern": {
              "fillmode": "overlay",
              "size": 10,
              "solidity": 0.2
             }
            },
            "type": "bar"
           }
          ],
          "barpolar": [
           {
            "marker": {
             "line": {
              "color": "#E5ECF6",
              "width": 0.5
             },
             "pattern": {
              "fillmode": "overlay",
              "size": 10,
              "solidity": 0.2
             }
            },
            "type": "barpolar"
           }
          ],
          "carpet": [
           {
            "aaxis": {
             "endlinecolor": "#2a3f5f",
             "gridcolor": "white",
             "linecolor": "white",
             "minorgridcolor": "white",
             "startlinecolor": "#2a3f5f"
            },
            "baxis": {
             "endlinecolor": "#2a3f5f",
             "gridcolor": "white",
             "linecolor": "white",
             "minorgridcolor": "white",
             "startlinecolor": "#2a3f5f"
            },
            "type": "carpet"
           }
          ],
          "choropleth": [
           {
            "colorbar": {
             "outlinewidth": 0,
             "ticks": ""
            },
            "type": "choropleth"
           }
          ],
          "contour": [
           {
            "colorbar": {
             "outlinewidth": 0,
             "ticks": ""
            },
            "colorscale": [
             [
              0,
              "#0d0887"
             ],
             [
              0.1111111111111111,
              "#46039f"
             ],
             [
              0.2222222222222222,
              "#7201a8"
             ],
             [
              0.3333333333333333,
              "#9c179e"
             ],
             [
              0.4444444444444444,
              "#bd3786"
             ],
             [
              0.5555555555555556,
              "#d8576b"
             ],
             [
              0.6666666666666666,
              "#ed7953"
             ],
             [
              0.7777777777777778,
              "#fb9f3a"
             ],
             [
              0.8888888888888888,
              "#fdca26"
             ],
             [
              1,
              "#f0f921"
             ]
            ],
            "type": "contour"
           }
          ],
          "contourcarpet": [
           {
            "colorbar": {
             "outlinewidth": 0,
             "ticks": ""
            },
            "type": "contourcarpet"
           }
          ],
          "heatmap": [
           {
            "colorbar": {
             "outlinewidth": 0,
             "ticks": ""
            },
            "colorscale": [
             [
              0,
              "#0d0887"
             ],
             [
              0.1111111111111111,
              "#46039f"
             ],
             [
              0.2222222222222222,
              "#7201a8"
             ],
             [
              0.3333333333333333,
              "#9c179e"
             ],
             [
              0.4444444444444444,
              "#bd3786"
             ],
             [
              0.5555555555555556,
              "#d8576b"
             ],
             [
              0.6666666666666666,
              "#ed7953"
             ],
             [
              0.7777777777777778,
              "#fb9f3a"
             ],
             [
              0.8888888888888888,
              "#fdca26"
             ],
             [
              1,
              "#f0f921"
             ]
            ],
            "type": "heatmap"
           }
          ],
          "histogram": [
           {
            "marker": {
             "pattern": {
              "fillmode": "overlay",
              "size": 10,
              "solidity": 0.2
             }
            },
            "type": "histogram"
           }
          ],
          "histogram2d": [
           {
            "colorbar": {
             "outlinewidth": 0,
             "ticks": ""
            },
            "colorscale": [
             [
              0,
              "#0d0887"
             ],
             [
              0.1111111111111111,
              "#46039f"
             ],
             [
              0.2222222222222222,
              "#7201a8"
             ],
             [
              0.3333333333333333,
              "#9c179e"
             ],
             [
              0.4444444444444444,
              "#bd3786"
             ],
             [
              0.5555555555555556,
              "#d8576b"
             ],
             [
              0.6666666666666666,
              "#ed7953"
             ],
             [
              0.7777777777777778,
              "#fb9f3a"
             ],
             [
              0.8888888888888888,
              "#fdca26"
             ],
             [
              1,
              "#f0f921"
             ]
            ],
            "type": "histogram2d"
           }
          ],
          "histogram2dcontour": [
           {
            "colorbar": {
             "outlinewidth": 0,
             "ticks": ""
            },
            "colorscale": [
             [
              0,
              "#0d0887"
             ],
             [
              0.1111111111111111,
              "#46039f"
             ],
             [
              0.2222222222222222,
              "#7201a8"
             ],
             [
              0.3333333333333333,
              "#9c179e"
             ],
             [
              0.4444444444444444,
              "#bd3786"
             ],
             [
              0.5555555555555556,
              "#d8576b"
             ],
             [
              0.6666666666666666,
              "#ed7953"
             ],
             [
              0.7777777777777778,
              "#fb9f3a"
             ],
             [
              0.8888888888888888,
              "#fdca26"
             ],
             [
              1,
              "#f0f921"
             ]
            ],
            "type": "histogram2dcontour"
           }
          ],
          "mesh3d": [
           {
            "colorbar": {
             "outlinewidth": 0,
             "ticks": ""
            },
            "type": "mesh3d"
           }
          ],
          "parcoords": [
           {
            "line": {
             "colorbar": {
              "outlinewidth": 0,
              "ticks": ""
             }
            },
            "type": "parcoords"
           }
          ],
          "pie": [
           {
            "automargin": true,
            "type": "pie"
           }
          ],
          "scatter": [
           {
            "fillpattern": {
             "fillmode": "overlay",
             "size": 10,
             "solidity": 0.2
            },
            "type": "scatter"
           }
          ],
          "scatter3d": [
           {
            "line": {
             "colorbar": {
              "outlinewidth": 0,
              "ticks": ""
             }
            },
            "marker": {
             "colorbar": {
              "outlinewidth": 0,
              "ticks": ""
             }
            },
            "type": "scatter3d"
           }
          ],
          "scattercarpet": [
           {
            "marker": {
             "colorbar": {
              "outlinewidth": 0,
              "ticks": ""
             }
            },
            "type": "scattercarpet"
           }
          ],
          "scattergeo": [
           {
            "marker": {
             "colorbar": {
              "outlinewidth": 0,
              "ticks": ""
             }
            },
            "type": "scattergeo"
           }
          ],
          "scattergl": [
           {
            "marker": {
             "colorbar": {
              "outlinewidth": 0,
              "ticks": ""
             }
            },
            "type": "scattergl"
           }
          ],
          "scattermap": [
           {
            "marker": {
             "colorbar": {
              "outlinewidth": 0,
              "ticks": ""
             }
            },
            "type": "scattermap"
           }
          ],
          "scattermapbox": [
           {
            "marker": {
             "colorbar": {
              "outlinewidth": 0,
              "ticks": ""
             }
            },
            "type": "scattermapbox"
           }
          ],
          "scatterpolar": [
           {
            "marker": {
             "colorbar": {
              "outlinewidth": 0,
              "ticks": ""
             }
            },
            "type": "scatterpolar"
           }
          ],
          "scatterpolargl": [
           {
            "marker": {
             "colorbar": {
              "outlinewidth": 0,
              "ticks": ""
             }
            },
            "type": "scatterpolargl"
           }
          ],
          "scatterternary": [
           {
            "marker": {
             "colorbar": {
              "outlinewidth": 0,
              "ticks": ""
             }
            },
            "type": "scatterternary"
           }
          ],
          "surface": [
           {
            "colorbar": {
             "outlinewidth": 0,
             "ticks": ""
            },
            "colorscale": [
             [
              0,
              "#0d0887"
             ],
             [
              0.1111111111111111,
              "#46039f"
             ],
             [
              0.2222222222222222,
              "#7201a8"
             ],
             [
              0.3333333333333333,
              "#9c179e"
             ],
             [
              0.4444444444444444,
              "#bd3786"
             ],
             [
              0.5555555555555556,
              "#d8576b"
             ],
             [
              0.6666666666666666,
              "#ed7953"
             ],
             [
              0.7777777777777778,
              "#fb9f3a"
             ],
             [
              0.8888888888888888,
              "#fdca26"
             ],
             [
              1,
              "#f0f921"
             ]
            ],
            "type": "surface"
           }
          ],
          "table": [
           {
            "cells": {
             "fill": {
              "color": "#EBF0F8"
             },
             "line": {
              "color": "white"
             }
            },
            "header": {
             "fill": {
              "color": "#C8D4E3"
             },
             "line": {
              "color": "white"
             }
            },
            "type": "table"
           }
          ]
         },
         "layout": {
          "annotationdefaults": {
           "arrowcolor": "#2a3f5f",
           "arrowhead": 0,
           "arrowwidth": 1
          },
          "autotypenumbers": "strict",
          "coloraxis": {
           "colorbar": {
            "outlinewidth": 0,
            "ticks": ""
           }
          },
          "colorscale": {
           "diverging": [
            [
             0,
             "#8e0152"
            ],
            [
             0.1,
             "#c51b7d"
            ],
            [
             0.2,
             "#de77ae"
            ],
            [
             0.3,
             "#f1b6da"
            ],
            [
             0.4,
             "#fde0ef"
            ],
            [
             0.5,
             "#f7f7f7"
            ],
            [
             0.6,
             "#e6f5d0"
            ],
            [
             0.7,
             "#b8e186"
            ],
            [
             0.8,
             "#7fbc41"
            ],
            [
             0.9,
             "#4d9221"
            ],
            [
             1,
             "#276419"
            ]
           ],
           "sequential": [
            [
             0,
             "#0d0887"
            ],
            [
             0.1111111111111111,
             "#46039f"
            ],
            [
             0.2222222222222222,
             "#7201a8"
            ],
            [
             0.3333333333333333,
             "#9c179e"
            ],
            [
             0.4444444444444444,
             "#bd3786"
            ],
            [
             0.5555555555555556,
             "#d8576b"
            ],
            [
             0.6666666666666666,
             "#ed7953"
            ],
            [
             0.7777777777777778,
             "#fb9f3a"
            ],
            [
             0.8888888888888888,
             "#fdca26"
            ],
            [
             1,
             "#f0f921"
            ]
           ],
           "sequentialminus": [
            [
             0,
             "#0d0887"
            ],
            [
             0.1111111111111111,
             "#46039f"
            ],
            [
             0.2222222222222222,
             "#7201a8"
            ],
            [
             0.3333333333333333,
             "#9c179e"
            ],
            [
             0.4444444444444444,
             "#bd3786"
            ],
            [
             0.5555555555555556,
             "#d8576b"
            ],
            [
             0.6666666666666666,
             "#ed7953"
            ],
            [
             0.7777777777777778,
             "#fb9f3a"
            ],
            [
             0.8888888888888888,
             "#fdca26"
            ],
            [
             1,
             "#f0f921"
            ]
           ]
          },
          "colorway": [
           "#636efa",
           "#EF553B",
           "#00cc96",
           "#ab63fa",
           "#FFA15A",
           "#19d3f3",
           "#FF6692",
           "#B6E880",
           "#FF97FF",
           "#FECB52"
          ],
          "font": {
           "color": "#2a3f5f"
          },
          "geo": {
           "bgcolor": "white",
           "lakecolor": "white",
           "landcolor": "#E5ECF6",
           "showlakes": true,
           "showland": true,
           "subunitcolor": "white"
          },
          "hoverlabel": {
           "align": "left"
          },
          "hovermode": "closest",
          "mapbox": {
           "style": "light"
          },
          "paper_bgcolor": "white",
          "plot_bgcolor": "#E5ECF6",
          "polar": {
           "angularaxis": {
            "gridcolor": "white",
            "linecolor": "white",
            "ticks": ""
           },
           "bgcolor": "#E5ECF6",
           "radialaxis": {
            "gridcolor": "white",
            "linecolor": "white",
            "ticks": ""
           }
          },
          "scene": {
           "xaxis": {
            "backgroundcolor": "#E5ECF6",
            "gridcolor": "white",
            "gridwidth": 2,
            "linecolor": "white",
            "showbackground": true,
            "ticks": "",
            "zerolinecolor": "white"
           },
           "yaxis": {
            "backgroundcolor": "#E5ECF6",
            "gridcolor": "white",
            "gridwidth": 2,
            "linecolor": "white",
            "showbackground": true,
            "ticks": "",
            "zerolinecolor": "white"
           },
           "zaxis": {
            "backgroundcolor": "#E5ECF6",
            "gridcolor": "white",
            "gridwidth": 2,
            "linecolor": "white",
            "showbackground": true,
            "ticks": "",
            "zerolinecolor": "white"
           }
          },
          "shapedefaults": {
           "line": {
            "color": "#2a3f5f"
           }
          },
          "ternary": {
           "aaxis": {
            "gridcolor": "white",
            "linecolor": "white",
            "ticks": ""
           },
           "baxis": {
            "gridcolor": "white",
            "linecolor": "white",
            "ticks": ""
           },
           "bgcolor": "#E5ECF6",
           "caxis": {
            "gridcolor": "white",
            "linecolor": "white",
            "ticks": ""
           }
          },
          "title": {
           "x": 0.05
          },
          "xaxis": {
           "automargin": true,
           "gridcolor": "white",
           "linecolor": "white",
           "ticks": "",
           "title": {
            "standoff": 15
           },
           "zerolinecolor": "white",
           "zerolinewidth": 2
          },
          "yaxis": {
           "automargin": true,
           "gridcolor": "white",
           "linecolor": "white",
           "ticks": "",
           "title": {
            "standoff": 15
           },
           "zerolinecolor": "white",
           "zerolinewidth": 2
          }
         }
        },
        "title": {
         "text": "Distribuição de Tipos de Gol por Clube (Top 5)"
        },
        "xaxis": {
         "title": {
          "text": "Porcentagem (%)"
         }
        },
        "yaxis": {
         "title": {
          "text": "Clube"
         }
        }
       }
      }
     },
     "metadata": {},
     "output_type": "display_data"
    },
    {
     "data": {
      "application/vnd.plotly.v1+json": {
       "config": {
        "plotlyServerURL": "https://plot.ly"
       },
       "data": [
        {
         "hovertemplate": "atleta=%{x}<br>gols_contra=%{y}<extra></extra>",
         "legendgroup": "",
         "marker": {
          "color": "#636efa",
          "pattern": {
           "shape": ""
          }
         },
         "name": "",
         "orientation": "v",
         "showlegend": false,
         "textposition": "auto",
         "type": "bar",
         "x": [
          "Éder",
          "Werley Ananias da Silva",
          "Paulo Marcos de Jesus Ribeiro",
          "Michel Ferreira dos Santos",
          "Marlon",
          "Manoel Messias Silva Carvalho",
          "Willian Arão",
          "William Matheus",
          "Victor Ramos",
          "Tobias Figueiredo"
         ],
         "xaxis": "x",
         "y": {
          "bdata": "AwMDAwMDAgICAg==",
          "dtype": "i1"
         },
         "yaxis": "y"
        }
       ],
       "layout": {
        "barmode": "relative",
        "legend": {
         "tracegroupgap": 0
        },
        "template": {
         "data": {
          "bar": [
           {
            "error_x": {
             "color": "#2a3f5f"
            },
            "error_y": {
             "color": "#2a3f5f"
            },
            "marker": {
             "line": {
              "color": "#E5ECF6",
              "width": 0.5
             },
             "pattern": {
              "fillmode": "overlay",
              "size": 10,
              "solidity": 0.2
             }
            },
            "type": "bar"
           }
          ],
          "barpolar": [
           {
            "marker": {
             "line": {
              "color": "#E5ECF6",
              "width": 0.5
             },
             "pattern": {
              "fillmode": "overlay",
              "size": 10,
              "solidity": 0.2
             }
            },
            "type": "barpolar"
           }
          ],
          "carpet": [
           {
            "aaxis": {
             "endlinecolor": "#2a3f5f",
             "gridcolor": "white",
             "linecolor": "white",
             "minorgridcolor": "white",
             "startlinecolor": "#2a3f5f"
            },
            "baxis": {
             "endlinecolor": "#2a3f5f",
             "gridcolor": "white",
             "linecolor": "white",
             "minorgridcolor": "white",
             "startlinecolor": "#2a3f5f"
            },
            "type": "carpet"
           }
          ],
          "choropleth": [
           {
            "colorbar": {
             "outlinewidth": 0,
             "ticks": ""
            },
            "type": "choropleth"
           }
          ],
          "contour": [
           {
            "colorbar": {
             "outlinewidth": 0,
             "ticks": ""
            },
            "colorscale": [
             [
              0,
              "#0d0887"
             ],
             [
              0.1111111111111111,
              "#46039f"
             ],
             [
              0.2222222222222222,
              "#7201a8"
             ],
             [
              0.3333333333333333,
              "#9c179e"
             ],
             [
              0.4444444444444444,
              "#bd3786"
             ],
             [
              0.5555555555555556,
              "#d8576b"
             ],
             [
              0.6666666666666666,
              "#ed7953"
             ],
             [
              0.7777777777777778,
              "#fb9f3a"
             ],
             [
              0.8888888888888888,
              "#fdca26"
             ],
             [
              1,
              "#f0f921"
             ]
            ],
            "type": "contour"
           }
          ],
          "contourcarpet": [
           {
            "colorbar": {
             "outlinewidth": 0,
             "ticks": ""
            },
            "type": "contourcarpet"
           }
          ],
          "heatmap": [
           {
            "colorbar": {
             "outlinewidth": 0,
             "ticks": ""
            },
            "colorscale": [
             [
              0,
              "#0d0887"
             ],
             [
              0.1111111111111111,
              "#46039f"
             ],
             [
              0.2222222222222222,
              "#7201a8"
             ],
             [
              0.3333333333333333,
              "#9c179e"
             ],
             [
              0.4444444444444444,
              "#bd3786"
             ],
             [
              0.5555555555555556,
              "#d8576b"
             ],
             [
              0.6666666666666666,
              "#ed7953"
             ],
             [
              0.7777777777777778,
              "#fb9f3a"
             ],
             [
              0.8888888888888888,
              "#fdca26"
             ],
             [
              1,
              "#f0f921"
             ]
            ],
            "type": "heatmap"
           }
          ],
          "histogram": [
           {
            "marker": {
             "pattern": {
              "fillmode": "overlay",
              "size": 10,
              "solidity": 0.2
             }
            },
            "type": "histogram"
           }
          ],
          "histogram2d": [
           {
            "colorbar": {
             "outlinewidth": 0,
             "ticks": ""
            },
            "colorscale": [
             [
              0,
              "#0d0887"
             ],
             [
              0.1111111111111111,
              "#46039f"
             ],
             [
              0.2222222222222222,
              "#7201a8"
             ],
             [
              0.3333333333333333,
              "#9c179e"
             ],
             [
              0.4444444444444444,
              "#bd3786"
             ],
             [
              0.5555555555555556,
              "#d8576b"
             ],
             [
              0.6666666666666666,
              "#ed7953"
             ],
             [
              0.7777777777777778,
              "#fb9f3a"
             ],
             [
              0.8888888888888888,
              "#fdca26"
             ],
             [
              1,
              "#f0f921"
             ]
            ],
            "type": "histogram2d"
           }
          ],
          "histogram2dcontour": [
           {
            "colorbar": {
             "outlinewidth": 0,
             "ticks": ""
            },
            "colorscale": [
             [
              0,
              "#0d0887"
             ],
             [
              0.1111111111111111,
              "#46039f"
             ],
             [
              0.2222222222222222,
              "#7201a8"
             ],
             [
              0.3333333333333333,
              "#9c179e"
             ],
             [
              0.4444444444444444,
              "#bd3786"
             ],
             [
              0.5555555555555556,
              "#d8576b"
             ],
             [
              0.6666666666666666,
              "#ed7953"
             ],
             [
              0.7777777777777778,
              "#fb9f3a"
             ],
             [
              0.8888888888888888,
              "#fdca26"
             ],
             [
              1,
              "#f0f921"
             ]
            ],
            "type": "histogram2dcontour"
           }
          ],
          "mesh3d": [
           {
            "colorbar": {
             "outlinewidth": 0,
             "ticks": ""
            },
            "type": "mesh3d"
           }
          ],
          "parcoords": [
           {
            "line": {
             "colorbar": {
              "outlinewidth": 0,
              "ticks": ""
             }
            },
            "type": "parcoords"
           }
          ],
          "pie": [
           {
            "automargin": true,
            "type": "pie"
           }
          ],
          "scatter": [
           {
            "fillpattern": {
             "fillmode": "overlay",
             "size": 10,
             "solidity": 0.2
            },
            "type": "scatter"
           }
          ],
          "scatter3d": [
           {
            "line": {
             "colorbar": {
              "outlinewidth": 0,
              "ticks": ""
             }
            },
            "marker": {
             "colorbar": {
              "outlinewidth": 0,
              "ticks": ""
             }
            },
            "type": "scatter3d"
           }
          ],
          "scattercarpet": [
           {
            "marker": {
             "colorbar": {
              "outlinewidth": 0,
              "ticks": ""
             }
            },
            "type": "scattercarpet"
           }
          ],
          "scattergeo": [
           {
            "marker": {
             "colorbar": {
              "outlinewidth": 0,
              "ticks": ""
             }
            },
            "type": "scattergeo"
           }
          ],
          "scattergl": [
           {
            "marker": {
             "colorbar": {
              "outlinewidth": 0,
              "ticks": ""
             }
            },
            "type": "scattergl"
           }
          ],
          "scattermap": [
           {
            "marker": {
             "colorbar": {
              "outlinewidth": 0,
              "ticks": ""
             }
            },
            "type": "scattermap"
           }
          ],
          "scattermapbox": [
           {
            "marker": {
             "colorbar": {
              "outlinewidth": 0,
              "ticks": ""
             }
            },
            "type": "scattermapbox"
           }
          ],
          "scatterpolar": [
           {
            "marker": {
             "colorbar": {
              "outlinewidth": 0,
              "ticks": ""
             }
            },
            "type": "scatterpolar"
           }
          ],
          "scatterpolargl": [
           {
            "marker": {
             "colorbar": {
              "outlinewidth": 0,
              "ticks": ""
             }
            },
            "type": "scatterpolargl"
           }
          ],
          "scatterternary": [
           {
            "marker": {
             "colorbar": {
              "outlinewidth": 0,
              "ticks": ""
             }
            },
            "type": "scatterternary"
           }
          ],
          "surface": [
           {
            "colorbar": {
             "outlinewidth": 0,
             "ticks": ""
            },
            "colorscale": [
             [
              0,
              "#0d0887"
             ],
             [
              0.1111111111111111,
              "#46039f"
             ],
             [
              0.2222222222222222,
              "#7201a8"
             ],
             [
              0.3333333333333333,
              "#9c179e"
             ],
             [
              0.4444444444444444,
              "#bd3786"
             ],
             [
              0.5555555555555556,
              "#d8576b"
             ],
             [
              0.6666666666666666,
              "#ed7953"
             ],
             [
              0.7777777777777778,
              "#fb9f3a"
             ],
             [
              0.8888888888888888,
              "#fdca26"
             ],
             [
              1,
              "#f0f921"
             ]
            ],
            "type": "surface"
           }
          ],
          "table": [
           {
            "cells": {
             "fill": {
              "color": "#EBF0F8"
             },
             "line": {
              "color": "white"
             }
            },
            "header": {
             "fill": {
              "color": "#C8D4E3"
             },
             "line": {
              "color": "white"
             }
            },
            "type": "table"
           }
          ]
         },
         "layout": {
          "annotationdefaults": {
           "arrowcolor": "#2a3f5f",
           "arrowhead": 0,
           "arrowwidth": 1
          },
          "autotypenumbers": "strict",
          "coloraxis": {
           "colorbar": {
            "outlinewidth": 0,
            "ticks": ""
           }
          },
          "colorscale": {
           "diverging": [
            [
             0,
             "#8e0152"
            ],
            [
             0.1,
             "#c51b7d"
            ],
            [
             0.2,
             "#de77ae"
            ],
            [
             0.3,
             "#f1b6da"
            ],
            [
             0.4,
             "#fde0ef"
            ],
            [
             0.5,
             "#f7f7f7"
            ],
            [
             0.6,
             "#e6f5d0"
            ],
            [
             0.7,
             "#b8e186"
            ],
            [
             0.8,
             "#7fbc41"
            ],
            [
             0.9,
             "#4d9221"
            ],
            [
             1,
             "#276419"
            ]
           ],
           "sequential": [
            [
             0,
             "#0d0887"
            ],
            [
             0.1111111111111111,
             "#46039f"
            ],
            [
             0.2222222222222222,
             "#7201a8"
            ],
            [
             0.3333333333333333,
             "#9c179e"
            ],
            [
             0.4444444444444444,
             "#bd3786"
            ],
            [
             0.5555555555555556,
             "#d8576b"
            ],
            [
             0.6666666666666666,
             "#ed7953"
            ],
            [
             0.7777777777777778,
             "#fb9f3a"
            ],
            [
             0.8888888888888888,
             "#fdca26"
            ],
            [
             1,
             "#f0f921"
            ]
           ],
           "sequentialminus": [
            [
             0,
             "#0d0887"
            ],
            [
             0.1111111111111111,
             "#46039f"
            ],
            [
             0.2222222222222222,
             "#7201a8"
            ],
            [
             0.3333333333333333,
             "#9c179e"
            ],
            [
             0.4444444444444444,
             "#bd3786"
            ],
            [
             0.5555555555555556,
             "#d8576b"
            ],
            [
             0.6666666666666666,
             "#ed7953"
            ],
            [
             0.7777777777777778,
             "#fb9f3a"
            ],
            [
             0.8888888888888888,
             "#fdca26"
            ],
            [
             1,
             "#f0f921"
            ]
           ]
          },
          "colorway": [
           "#636efa",
           "#EF553B",
           "#00cc96",
           "#ab63fa",
           "#FFA15A",
           "#19d3f3",
           "#FF6692",
           "#B6E880",
           "#FF97FF",
           "#FECB52"
          ],
          "font": {
           "color": "#2a3f5f"
          },
          "geo": {
           "bgcolor": "white",
           "lakecolor": "white",
           "landcolor": "#E5ECF6",
           "showlakes": true,
           "showland": true,
           "subunitcolor": "white"
          },
          "hoverlabel": {
           "align": "left"
          },
          "hovermode": "closest",
          "mapbox": {
           "style": "light"
          },
          "paper_bgcolor": "white",
          "plot_bgcolor": "#E5ECF6",
          "polar": {
           "angularaxis": {
            "gridcolor": "white",
            "linecolor": "white",
            "ticks": ""
           },
           "bgcolor": "#E5ECF6",
           "radialaxis": {
            "gridcolor": "white",
            "linecolor": "white",
            "ticks": ""
           }
          },
          "scene": {
           "xaxis": {
            "backgroundcolor": "#E5ECF6",
            "gridcolor": "white",
            "gridwidth": 2,
            "linecolor": "white",
            "showbackground": true,
            "ticks": "",
            "zerolinecolor": "white"
           },
           "yaxis": {
            "backgroundcolor": "#E5ECF6",
            "gridcolor": "white",
            "gridwidth": 2,
            "linecolor": "white",
            "showbackground": true,
            "ticks": "",
            "zerolinecolor": "white"
           },
           "zaxis": {
            "backgroundcolor": "#E5ECF6",
            "gridcolor": "white",
            "gridwidth": 2,
            "linecolor": "white",
            "showbackground": true,
            "ticks": "",
            "zerolinecolor": "white"
           }
          },
          "shapedefaults": {
           "line": {
            "color": "#2a3f5f"
           }
          },
          "ternary": {
           "aaxis": {
            "gridcolor": "white",
            "linecolor": "white",
            "ticks": ""
           },
           "baxis": {
            "gridcolor": "white",
            "linecolor": "white",
            "ticks": ""
           },
           "bgcolor": "#E5ECF6",
           "caxis": {
            "gridcolor": "white",
            "linecolor": "white",
            "ticks": ""
           }
          },
          "title": {
           "x": 0.05
          },
          "xaxis": {
           "automargin": true,
           "gridcolor": "white",
           "linecolor": "white",
           "ticks": "",
           "title": {
            "standoff": 15
           },
           "zerolinecolor": "white",
           "zerolinewidth": 2
          },
          "yaxis": {
           "automargin": true,
           "gridcolor": "white",
           "linecolor": "white",
           "ticks": "",
           "title": {
            "standoff": 15
           },
           "zerolinecolor": "white",
           "zerolinewidth": 2
          }
         }
        },
        "title": {
         "text": "Top 10 Jogadores com Mais Gols Contra"
        },
        "xaxis": {
         "anchor": "y",
         "domain": [
          0,
          1
         ],
         "title": {
          "text": "atleta"
         }
        },
        "yaxis": {
         "anchor": "x",
         "domain": [
          0,
          1
         ],
         "title": {
          "text": "gols_contra"
         }
        }
       }
      }
     },
     "metadata": {},
     "output_type": "display_data"
    },
    {
     "data": {
      "application/vnd.plotly.v1+json": {
       "config": {
        "plotlyServerURL": "https://plot.ly"
       },
       "data": [
        {
         "hovertemplate": "clube=%{x}<br>gols_de_penalty=%{y}<extra></extra>",
         "legendgroup": "",
         "marker": {
          "color": "#636efa",
          "pattern": {
           "shape": ""
          }
         },
         "name": "",
         "orientation": "v",
         "showlegend": false,
         "textposition": "auto",
         "type": "bar",
         "x": [
          "Atletico-MG",
          "Flamengo",
          "Palmeiras",
          "Fluminense",
          "Sao Paulo",
          "Internacional",
          "Santos",
          "Corinthians",
          "Gremio",
          "Bahia",
          "Athletico-PR",
          "Botafogo-RJ",
          "Vasco",
          "Sport",
          "Chapecoense",
          "Coritiba",
          "Fortaleza",
          "Cruzeiro",
          "Goias",
          "Avai"
         ],
         "xaxis": "x",
         "y": {
          "bdata": "RzQyLy8tLSwmJCMiIB4eHhsaGRg=",
          "dtype": "i1"
         },
         "yaxis": "y"
        }
       ],
       "layout": {
        "barmode": "relative",
        "legend": {
         "tracegroupgap": 0
        },
        "template": {
         "data": {
          "bar": [
           {
            "error_x": {
             "color": "#2a3f5f"
            },
            "error_y": {
             "color": "#2a3f5f"
            },
            "marker": {
             "line": {
              "color": "#E5ECF6",
              "width": 0.5
             },
             "pattern": {
              "fillmode": "overlay",
              "size": 10,
              "solidity": 0.2
             }
            },
            "type": "bar"
           }
          ],
          "barpolar": [
           {
            "marker": {
             "line": {
              "color": "#E5ECF6",
              "width": 0.5
             },
             "pattern": {
              "fillmode": "overlay",
              "size": 10,
              "solidity": 0.2
             }
            },
            "type": "barpolar"
           }
          ],
          "carpet": [
           {
            "aaxis": {
             "endlinecolor": "#2a3f5f",
             "gridcolor": "white",
             "linecolor": "white",
             "minorgridcolor": "white",
             "startlinecolor": "#2a3f5f"
            },
            "baxis": {
             "endlinecolor": "#2a3f5f",
             "gridcolor": "white",
             "linecolor": "white",
             "minorgridcolor": "white",
             "startlinecolor": "#2a3f5f"
            },
            "type": "carpet"
           }
          ],
          "choropleth": [
           {
            "colorbar": {
             "outlinewidth": 0,
             "ticks": ""
            },
            "type": "choropleth"
           }
          ],
          "contour": [
           {
            "colorbar": {
             "outlinewidth": 0,
             "ticks": ""
            },
            "colorscale": [
             [
              0,
              "#0d0887"
             ],
             [
              0.1111111111111111,
              "#46039f"
             ],
             [
              0.2222222222222222,
              "#7201a8"
             ],
             [
              0.3333333333333333,
              "#9c179e"
             ],
             [
              0.4444444444444444,
              "#bd3786"
             ],
             [
              0.5555555555555556,
              "#d8576b"
             ],
             [
              0.6666666666666666,
              "#ed7953"
             ],
             [
              0.7777777777777778,
              "#fb9f3a"
             ],
             [
              0.8888888888888888,
              "#fdca26"
             ],
             [
              1,
              "#f0f921"
             ]
            ],
            "type": "contour"
           }
          ],
          "contourcarpet": [
           {
            "colorbar": {
             "outlinewidth": 0,
             "ticks": ""
            },
            "type": "contourcarpet"
           }
          ],
          "heatmap": [
           {
            "colorbar": {
             "outlinewidth": 0,
             "ticks": ""
            },
            "colorscale": [
             [
              0,
              "#0d0887"
             ],
             [
              0.1111111111111111,
              "#46039f"
             ],
             [
              0.2222222222222222,
              "#7201a8"
             ],
             [
              0.3333333333333333,
              "#9c179e"
             ],
             [
              0.4444444444444444,
              "#bd3786"
             ],
             [
              0.5555555555555556,
              "#d8576b"
             ],
             [
              0.6666666666666666,
              "#ed7953"
             ],
             [
              0.7777777777777778,
              "#fb9f3a"
             ],
             [
              0.8888888888888888,
              "#fdca26"
             ],
             [
              1,
              "#f0f921"
             ]
            ],
            "type": "heatmap"
           }
          ],
          "histogram": [
           {
            "marker": {
             "pattern": {
              "fillmode": "overlay",
              "size": 10,
              "solidity": 0.2
             }
            },
            "type": "histogram"
           }
          ],
          "histogram2d": [
           {
            "colorbar": {
             "outlinewidth": 0,
             "ticks": ""
            },
            "colorscale": [
             [
              0,
              "#0d0887"
             ],
             [
              0.1111111111111111,
              "#46039f"
             ],
             [
              0.2222222222222222,
              "#7201a8"
             ],
             [
              0.3333333333333333,
              "#9c179e"
             ],
             [
              0.4444444444444444,
              "#bd3786"
             ],
             [
              0.5555555555555556,
              "#d8576b"
             ],
             [
              0.6666666666666666,
              "#ed7953"
             ],
             [
              0.7777777777777778,
              "#fb9f3a"
             ],
             [
              0.8888888888888888,
              "#fdca26"
             ],
             [
              1,
              "#f0f921"
             ]
            ],
            "type": "histogram2d"
           }
          ],
          "histogram2dcontour": [
           {
            "colorbar": {
             "outlinewidth": 0,
             "ticks": ""
            },
            "colorscale": [
             [
              0,
              "#0d0887"
             ],
             [
              0.1111111111111111,
              "#46039f"
             ],
             [
              0.2222222222222222,
              "#7201a8"
             ],
             [
              0.3333333333333333,
              "#9c179e"
             ],
             [
              0.4444444444444444,
              "#bd3786"
             ],
             [
              0.5555555555555556,
              "#d8576b"
             ],
             [
              0.6666666666666666,
              "#ed7953"
             ],
             [
              0.7777777777777778,
              "#fb9f3a"
             ],
             [
              0.8888888888888888,
              "#fdca26"
             ],
             [
              1,
              "#f0f921"
             ]
            ],
            "type": "histogram2dcontour"
           }
          ],
          "mesh3d": [
           {
            "colorbar": {
             "outlinewidth": 0,
             "ticks": ""
            },
            "type": "mesh3d"
           }
          ],
          "parcoords": [
           {
            "line": {
             "colorbar": {
              "outlinewidth": 0,
              "ticks": ""
             }
            },
            "type": "parcoords"
           }
          ],
          "pie": [
           {
            "automargin": true,
            "type": "pie"
           }
          ],
          "scatter": [
           {
            "fillpattern": {
             "fillmode": "overlay",
             "size": 10,
             "solidity": 0.2
            },
            "type": "scatter"
           }
          ],
          "scatter3d": [
           {
            "line": {
             "colorbar": {
              "outlinewidth": 0,
              "ticks": ""
             }
            },
            "marker": {
             "colorbar": {
              "outlinewidth": 0,
              "ticks": ""
             }
            },
            "type": "scatter3d"
           }
          ],
          "scattercarpet": [
           {
            "marker": {
             "colorbar": {
              "outlinewidth": 0,
              "ticks": ""
             }
            },
            "type": "scattercarpet"
           }
          ],
          "scattergeo": [
           {
            "marker": {
             "colorbar": {
              "outlinewidth": 0,
              "ticks": ""
             }
            },
            "type": "scattergeo"
           }
          ],
          "scattergl": [
           {
            "marker": {
             "colorbar": {
              "outlinewidth": 0,
              "ticks": ""
             }
            },
            "type": "scattergl"
           }
          ],
          "scattermap": [
           {
            "marker": {
             "colorbar": {
              "outlinewidth": 0,
              "ticks": ""
             }
            },
            "type": "scattermap"
           }
          ],
          "scattermapbox": [
           {
            "marker": {
             "colorbar": {
              "outlinewidth": 0,
              "ticks": ""
             }
            },
            "type": "scattermapbox"
           }
          ],
          "scatterpolar": [
           {
            "marker": {
             "colorbar": {
              "outlinewidth": 0,
              "ticks": ""
             }
            },
            "type": "scatterpolar"
           }
          ],
          "scatterpolargl": [
           {
            "marker": {
             "colorbar": {
              "outlinewidth": 0,
              "ticks": ""
             }
            },
            "type": "scatterpolargl"
           }
          ],
          "scatterternary": [
           {
            "marker": {
             "colorbar": {
              "outlinewidth": 0,
              "ticks": ""
             }
            },
            "type": "scatterternary"
           }
          ],
          "surface": [
           {
            "colorbar": {
             "outlinewidth": 0,
             "ticks": ""
            },
            "colorscale": [
             [
              0,
              "#0d0887"
             ],
             [
              0.1111111111111111,
              "#46039f"
             ],
             [
              0.2222222222222222,
              "#7201a8"
             ],
             [
              0.3333333333333333,
              "#9c179e"
             ],
             [
              0.4444444444444444,
              "#bd3786"
             ],
             [
              0.5555555555555556,
              "#d8576b"
             ],
             [
              0.6666666666666666,
              "#ed7953"
             ],
             [
              0.7777777777777778,
              "#fb9f3a"
             ],
             [
              0.8888888888888888,
              "#fdca26"
             ],
             [
              1,
              "#f0f921"
             ]
            ],
            "type": "surface"
           }
          ],
          "table": [
           {
            "cells": {
             "fill": {
              "color": "#EBF0F8"
             },
             "line": {
              "color": "white"
             }
            },
            "header": {
             "fill": {
              "color": "#C8D4E3"
             },
             "line": {
              "color": "white"
             }
            },
            "type": "table"
           }
          ]
         },
         "layout": {
          "annotationdefaults": {
           "arrowcolor": "#2a3f5f",
           "arrowhead": 0,
           "arrowwidth": 1
          },
          "autotypenumbers": "strict",
          "coloraxis": {
           "colorbar": {
            "outlinewidth": 0,
            "ticks": ""
           }
          },
          "colorscale": {
           "diverging": [
            [
             0,
             "#8e0152"
            ],
            [
             0.1,
             "#c51b7d"
            ],
            [
             0.2,
             "#de77ae"
            ],
            [
             0.3,
             "#f1b6da"
            ],
            [
             0.4,
             "#fde0ef"
            ],
            [
             0.5,
             "#f7f7f7"
            ],
            [
             0.6,
             "#e6f5d0"
            ],
            [
             0.7,
             "#b8e186"
            ],
            [
             0.8,
             "#7fbc41"
            ],
            [
             0.9,
             "#4d9221"
            ],
            [
             1,
             "#276419"
            ]
           ],
           "sequential": [
            [
             0,
             "#0d0887"
            ],
            [
             0.1111111111111111,
             "#46039f"
            ],
            [
             0.2222222222222222,
             "#7201a8"
            ],
            [
             0.3333333333333333,
             "#9c179e"
            ],
            [
             0.4444444444444444,
             "#bd3786"
            ],
            [
             0.5555555555555556,
             "#d8576b"
            ],
            [
             0.6666666666666666,
             "#ed7953"
            ],
            [
             0.7777777777777778,
             "#fb9f3a"
            ],
            [
             0.8888888888888888,
             "#fdca26"
            ],
            [
             1,
             "#f0f921"
            ]
           ],
           "sequentialminus": [
            [
             0,
             "#0d0887"
            ],
            [
             0.1111111111111111,
             "#46039f"
            ],
            [
             0.2222222222222222,
             "#7201a8"
            ],
            [
             0.3333333333333333,
             "#9c179e"
            ],
            [
             0.4444444444444444,
             "#bd3786"
            ],
            [
             0.5555555555555556,
             "#d8576b"
            ],
            [
             0.6666666666666666,
             "#ed7953"
            ],
            [
             0.7777777777777778,
             "#fb9f3a"
            ],
            [
             0.8888888888888888,
             "#fdca26"
            ],
            [
             1,
             "#f0f921"
            ]
           ]
          },
          "colorway": [
           "#636efa",
           "#EF553B",
           "#00cc96",
           "#ab63fa",
           "#FFA15A",
           "#19d3f3",
           "#FF6692",
           "#B6E880",
           "#FF97FF",
           "#FECB52"
          ],
          "font": {
           "color": "#2a3f5f"
          },
          "geo": {
           "bgcolor": "white",
           "lakecolor": "white",
           "landcolor": "#E5ECF6",
           "showlakes": true,
           "showland": true,
           "subunitcolor": "white"
          },
          "hoverlabel": {
           "align": "left"
          },
          "hovermode": "closest",
          "mapbox": {
           "style": "light"
          },
          "paper_bgcolor": "white",
          "plot_bgcolor": "#E5ECF6",
          "polar": {
           "angularaxis": {
            "gridcolor": "white",
            "linecolor": "white",
            "ticks": ""
           },
           "bgcolor": "#E5ECF6",
           "radialaxis": {
            "gridcolor": "white",
            "linecolor": "white",
            "ticks": ""
           }
          },
          "scene": {
           "xaxis": {
            "backgroundcolor": "#E5ECF6",
            "gridcolor": "white",
            "gridwidth": 2,
            "linecolor": "white",
            "showbackground": true,
            "ticks": "",
            "zerolinecolor": "white"
           },
           "yaxis": {
            "backgroundcolor": "#E5ECF6",
            "gridcolor": "white",
            "gridwidth": 2,
            "linecolor": "white",
            "showbackground": true,
            "ticks": "",
            "zerolinecolor": "white"
           },
           "zaxis": {
            "backgroundcolor": "#E5ECF6",
            "gridcolor": "white",
            "gridwidth": 2,
            "linecolor": "white",
            "showbackground": true,
            "ticks": "",
            "zerolinecolor": "white"
           }
          },
          "shapedefaults": {
           "line": {
            "color": "#2a3f5f"
           }
          },
          "ternary": {
           "aaxis": {
            "gridcolor": "white",
            "linecolor": "white",
            "ticks": ""
           },
           "baxis": {
            "gridcolor": "white",
            "linecolor": "white",
            "ticks": ""
           },
           "bgcolor": "#E5ECF6",
           "caxis": {
            "gridcolor": "white",
            "linecolor": "white",
            "ticks": ""
           }
          },
          "title": {
           "x": 0.05
          },
          "xaxis": {
           "automargin": true,
           "gridcolor": "white",
           "linecolor": "white",
           "ticks": "",
           "title": {
            "standoff": 15
           },
           "zerolinecolor": "white",
           "zerolinewidth": 2
          },
          "yaxis": {
           "automargin": true,
           "gridcolor": "white",
           "linecolor": "white",
           "ticks": "",
           "title": {
            "standoff": 15
           },
           "zerolinecolor": "white",
           "zerolinewidth": 2
          }
         }
        },
        "title": {
         "text": "Top 20 Clubes com Mais Gols de Penalty"
        },
        "xaxis": {
         "anchor": "y",
         "domain": [
          0,
          1
         ],
         "title": {
          "text": "clube"
         }
        },
        "yaxis": {
         "anchor": "x",
         "domain": [
          0,
          1
         ],
         "title": {
          "text": "gols_de_penalty"
         }
        }
       }
      }
     },
     "metadata": {},
     "output_type": "display_data"
    },
    {
     "data": {
      "application/vnd.plotly.v1+json": {
       "config": {
        "plotlyServerURL": "https://plot.ly"
       },
       "data": [
        {
         "hovertemplate": "Posse de Bola (%)=%{x}<br>Resultado (1=Vitória, 0=Empate, -1=Derrota)=%{y}<extra></extra>",
         "legendgroup": "",
         "marker": {
          "color": "#636efa",
          "symbol": "circle"
         },
         "mode": "markers",
         "name": "",
         "showlegend": false,
         "type": "scattergl",
         "x": {
          "bdata": "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",
          "dtype": "f8"
         },
         "xaxis": "x",
         "y": {
          "bdata": "AQEBAQEBAQEBAQEB////AQABAP8BAQEAAQEBAQABAQEAAQH/AQEBAAEB//8AAQD//wEB/wEBAf8BAQEAAQD/AQEB/wEAAf//Af8BAAEB/wEB/wEAAAH/AAEBAf8BAQEBAQEBAQH/AQEBAQEBAP////8BAQH/Af//AQEBAf8B////AQABAQEBAf8BAQAA/wEBAf8AAf8BAQH/AAEBAAEBAQEAAQABAQH/AQEB/wH//wEB/wEBAQEBAQEBAQEB/wEBAf////8B/wH/AQEBAf//AQEA//8A/wEBAAEAAAEB/wEBAQD//wEBAf8A////AQEA/wABAQEBAQEBAf8BAf8B/wD/AAEBAf8BAQD/AAEBAQEBAf8BAAEAAf8BAQH/AP//AQH/Af8B//8BAQABAAH/Af8BAQEB/wEB//8BAf//AAEBAQAAAAEB/wABAQEAAQEBAf//AQH//wH/AQH/AAEBAQEB/wEAAAEAAQH/AQAAAQAAAQABAQH/AAEA//8BAAEB/wH//wEA/wH/AQEBAQEBAQAB//8BAQD/AAH/AQH/AQABAQEBAAEBAQEBAf8BAQABAQH///8B/wABAf//AP8BAQEBAQEBAf8BAf8BAP8BAQEBAP//AQEBAQH/AAAB/wABAP8AAQEA//8AAQH/Af8BAQEBAQD//wEBAQABAf8BAAEBAQH/AAABAAEBAQEAAAH//wH/AQEBAP8AAf8BAf8BAP//AAEBAQEAAQEBAQEBAf8B/wEB/wEBAQAB/wABAQAA/wH/Af8BAP8B/wAB/wEBAQEBAQH/AQEBAf8BAf8BAf8B/wEAAQEB//8B/wEBAf//AQEB/wEBAQD//wEA/wEAAf8BAAAAAQABAQH/AQEBAQH/AP8B//8AAQAAAAEAAQEBAQABAAEAAAH/AQEBAf8BAP8B/wEBAQAAAQEBAQEBAQH/AQH///8BAAEBAf8AAP//AQEBAQEBAQEB/wEAAQEB/wEBAf8BAQEAAQEBAAH/AQH/AAEBAQH//wH///8AAP8BAQEA/wEBAQH/AQH/AAH/////AQABAQEBAAD//wEAAP8BAQD/////////AAH//wH/AQABAP8BAf8B/wEAAAH/AQEB//8A//8A/wH///8AAP8AAP8B//8BAf//AQH/AQH/Af8BAQABAf8BAQEAAf////8BAf//AAH/AQABAP8AAAH/AAH/AP//AQEBAQEAAQD///8B/wEAAAD/AP8BAf//AQEAAQH/AQD/AAABAf8B/wD/AQAB//8BAP8BAQAA/wH/AQEB/wEBAQABAP8AAAH//wEBAQEAAP////8B/wEBAAD/AQEBAAAAAQABAQABAAH/AQEBAQABAAEBAQEBAf//AAH//wD//wEBAQAA/wAAAQEB/wABAQEBAQEAAQH/AQEAAQABAQD//wEBAAABAf//AQEAAf8BAAH/AQABAQABAQEAAQEBAf//AQEA/////wEBAQEBAQEBAP8BAQEB//8BAQEA/wAB////AQEBAQAA/wEB/wAAAQEBAQEBAf8AAQAAAAEBAQH/AQEBAQEBAQABAQEBAQH//wEBAf8AAAEAAf8AAP8AAQABAQH/AQH/Af8BAf8A/wEA/wD/AQEAAQEBAQEBAQABAQH/AQH/AP8BAQD/AQABAQABAQEBAQEBAf8BAQEBAQABAQABAQABAQEA//8B/wEA/wEBAQEAAQAB//8BAf8AAQABAQH/AQEBAf8BAAEBAf8A//8AAf8BAAEBAQH//wEB/wAAAQEB/wABAQAAAQD/AAH/AQH/AQABAf8BAAH/AQEB/wABAQEBAQEBAQH/AP8BAQH/AQABAQEBAQEBAQH/AQEBAf8BAQEA/wEBAQEA/wABAQD/Af8BAQEBAf8BAQH//wEBAAH/AQEA/wEB/wEBAQEA/wEB/wEBAQH/Af8BAf8BAQABAAEB/wABAQH/AAEAAf8AAAEAAf8BAf8BAQH/AQABAAEBAQEBAAAB//8B////AQABAf8BAQAA/wABAf8BAQEBAf8A////Af//AAEBAQH/Af8BAQAA//8B/wH/AQEBAQH/AQABAQEBAAEB/wEB////Af8A/wD//wEBAQEBAQEBAQEBAQH/AAD//wEBAQAB/wH//wEBAQAA/wEA/wAB/wH///8BAQEAAP8AAf8BAQEAAQEB//8AAf//Af8AAQH/Af8BAAAA/wABAQAB/wEBAP8A////AAEBAQEB//8A/wD//wEBAQEB/wEBAQEAAf8AAf//AQABAQH///8AAQEAAQEBAAABAQH/AAEBAQEAAQAB/wH/AQH//wD/AQEA/wH/AQAB/wEAAQH/Af8BAP//AAAA//8BAP8AAQEAAf8AAQAA/wH/Af//AQABAAH/AQEA/wEBAf8AAQEBAQABAAAAAAAB/wABAAAB//8AAQEBAf8BAf///wEBAQH/AQEB/wH//wD/AAAA/wD/AQEBAf8BAf8B/wAAAQH//wEBAAEBAQEAAP8BAQD/Af8B//8B/wEA////AQEBAQAA////AAH/AAEB/wH///8AAf8BAQD/Af8BAQH/AQEBAAEBAAH/Af8B/wEB////AQEAAQH/Af//Af////8AAQEAAQAB/wABAf8BAf//AQAA/wEB/wEAAQEBAQH/AQH/AAH/AQH/AAEBAf8AAAEB/wEB/wAAAP8BAAABAAEB/wEB//8BAP///wEAAQABAQEBAQEBAQAB/wEB//8BAAEBAAH/AQH//wAB/wH/AP8A////AQH/AQABAAEBAAABAQEAAf8BAAEBAAABAQAA//8B//8BAf8BAQD/////Af//AQEAAQEBAP//AQAB//8AAAEBAf///////wAB/wEAAQEBAf8BAf8B/wH/AAH//wD/Af8B/wEBAQEB/wABAP8AAQD//wAA/wD///8BAQAAAQABAQAB/////wAB//8BAQABAQD/AAEBAAEBAQH///8BAQAA/wEA/wEAAP8BAAEB////AAEBAQEAAQEBAQEA//8BAAEBAf8A/wEBAAEBAQEBAAH/AQH/AQEBAQEAAQEBAQH//wEBAQABAQEBAQEA/wEBAQEB/wEB//8BAQH//wEBAQH/AQD/AQEAAAABAQEBAAEBAQABAQEB//8BAQD/AQEBAAEB////AAEBAQEBAQEBAAD/Af8B/wEBAAABAf8BAf8BAf8AAQH/AAH/AAEB/wAAAAEBAf8B/wD//wEAAAEAAQABAAEBAQH/AQH/AAD/AAEAAAD/Af8A/wEA/wEAAAD/Af///wH//wEBAQABAAABAAD/AQAB////Af8BAAEBAQAB/wH/AQEB/wEBAQEA/wEA/wH/AP//AQH/AQEBAAEBAQEBAQEA////AQH/AQEBAAEBAP8AAf8BAQH//wEB/wEBAf8BAQD/AAEA/wEBAf//AP8B//8BAQEBAQAAAAEAAf8BAQAA//8BAQAAAQEAAP//AP8AAQEBAQABAAABAQD//wABAQD/AQEBAQEBAf//Af8B/wEB/wH/AAEAAQD/Af///wEBAf8B/wABAf8AAP//Af8BAf//Af8AAf8AAf8BAQD/AQEBAf//AAH/////AQEA/wEBAQABAP//AQABAQAAAQEB/wEBAP8B//8B/wH/AQEAAf8BAQEBAAEBAQD/Af8AAQEB/wH//wH/AQD/AQEBAAH/AAH/AP8B/wEAAf8BAAH/AAH/AQABAQEB/wEB//8BAAABAQEBAAEB/wEAAQH/Af8AAAABAP8BAQD/Af8AAQH///8BAQEB/wEB//8BAQH//wEAAAH/AP//AQABAQH/Af8BAQEAAQH/AP8BAQD//wH//wEAAAEAAQH//wEBAQH/AQEBAAEAAf//AQABAQH/AAABAQEBAQEAAQD/AQEAAf8B/wH/AQABAQEA//8B/wEBAQEB/wEBAAEB/wABAQEA/wAB//8A/wH///8BAQH///8AAAEB/wEBAQD/AP8BAQEBAf//Af8BAQAA/wD/AQAB//8B////AQEAAf//Af8B/wABAf8A//8BAAEA/wEBAQD/AQAAAf8BAQAB/wD///////8AAQEA//8BAQEBAQEBAQEB//8AAQH/AQE=",
          "dtype": "i1"
         },
         "yaxis": "y"
        },
        {
         "hovertemplate": "<b>OLS trendline</b><br>resultado_mandante = -0.0142926 * mandante_posse_de_bola + 0.99353<br>R<sup>2</sup>=0.030534<br><br>Posse de Bola (%)=%{x}<br>Resultado (1=Vitória, 0=Empate, -1=Derrota)=%{y} <b>(trend)</b><extra></extra>",
         "legendgroup": "",
         "marker": {
          "color": "#636efa",
          "symbol": "circle"
         },
         "mode": "lines",
         "name": "",
         "showlegend": false,
         "type": "scattergl",
         "x": {
          "bdata": "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",
          "dtype": "f8"
         },
         "xaxis": "x",
         "y": {
          "bdata": "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",
          "dtype": "f8"
         },
         "yaxis": "y"
        }
       ],
       "layout": {
        "legend": {
         "tracegroupgap": 0
        },
        "template": {
         "data": {
          "bar": [
           {
            "error_x": {
             "color": "#2a3f5f"
            },
            "error_y": {
             "color": "#2a3f5f"
            },
            "marker": {
             "line": {
              "color": "#E5ECF6",
              "width": 0.5
             },
             "pattern": {
              "fillmode": "overlay",
              "size": 10,
              "solidity": 0.2
             }
            },
            "type": "bar"
           }
          ],
          "barpolar": [
           {
            "marker": {
             "line": {
              "color": "#E5ECF6",
              "width": 0.5
             },
             "pattern": {
              "fillmode": "overlay",
              "size": 10,
              "solidity": 0.2
             }
            },
            "type": "barpolar"
           }
          ],
          "carpet": [
           {
            "aaxis": {
             "endlinecolor": "#2a3f5f",
             "gridcolor": "white",
             "linecolor": "white",
             "minorgridcolor": "white",
             "startlinecolor": "#2a3f5f"
            },
            "baxis": {
             "endlinecolor": "#2a3f5f",
             "gridcolor": "white",
             "linecolor": "white",
             "minorgridcolor": "white",
             "startlinecolor": "#2a3f5f"
            },
            "type": "carpet"
           }
          ],
          "choropleth": [
           {
            "colorbar": {
             "outlinewidth": 0,
             "ticks": ""
            },
            "type": "choropleth"
           }
          ],
          "contour": [
           {
            "colorbar": {
             "outlinewidth": 0,
             "ticks": ""
            },
            "colorscale": [
             [
              0,
              "#0d0887"
             ],
             [
              0.1111111111111111,
              "#46039f"
             ],
             [
              0.2222222222222222,
              "#7201a8"
             ],
             [
              0.3333333333333333,
              "#9c179e"
             ],
             [
              0.4444444444444444,
              "#bd3786"
             ],
             [
              0.5555555555555556,
              "#d8576b"
             ],
             [
              0.6666666666666666,
              "#ed7953"
             ],
             [
              0.7777777777777778,
              "#fb9f3a"
             ],
             [
              0.8888888888888888,
              "#fdca26"
             ],
             [
              1,
              "#f0f921"
             ]
            ],
            "type": "contour"
           }
          ],
          "contourcarpet": [
           {
            "colorbar": {
             "outlinewidth": 0,
             "ticks": ""
            },
            "type": "contourcarpet"
           }
          ],
          "heatmap": [
           {
            "colorbar": {
             "outlinewidth": 0,
             "ticks": ""
            },
            "colorscale": [
             [
              0,
              "#0d0887"
             ],
             [
              0.1111111111111111,
              "#46039f"
             ],
             [
              0.2222222222222222,
              "#7201a8"
             ],
             [
              0.3333333333333333,
              "#9c179e"
             ],
             [
              0.4444444444444444,
              "#bd3786"
             ],
             [
              0.5555555555555556,
              "#d8576b"
             ],
             [
              0.6666666666666666,
              "#ed7953"
             ],
             [
              0.7777777777777778,
              "#fb9f3a"
             ],
             [
              0.8888888888888888,
              "#fdca26"
             ],
             [
              1,
              "#f0f921"
             ]
            ],
            "type": "heatmap"
           }
          ],
          "histogram": [
           {
            "marker": {
             "pattern": {
              "fillmode": "overlay",
              "size": 10,
              "solidity": 0.2
             }
            },
            "type": "histogram"
           }
          ],
          "histogram2d": [
           {
            "colorbar": {
             "outlinewidth": 0,
             "ticks": ""
            },
            "colorscale": [
             [
              0,
              "#0d0887"
             ],
             [
              0.1111111111111111,
              "#46039f"
             ],
             [
              0.2222222222222222,
              "#7201a8"
             ],
             [
              0.3333333333333333,
              "#9c179e"
             ],
             [
              0.4444444444444444,
              "#bd3786"
             ],
             [
              0.5555555555555556,
              "#d8576b"
             ],
             [
              0.6666666666666666,
              "#ed7953"
             ],
             [
              0.7777777777777778,
              "#fb9f3a"
             ],
             [
              0.8888888888888888,
              "#fdca26"
             ],
             [
              1,
              "#f0f921"
             ]
            ],
            "type": "histogram2d"
           }
          ],
          "histogram2dcontour": [
           {
            "colorbar": {
             "outlinewidth": 0,
             "ticks": ""
            },
            "colorscale": [
             [
              0,
              "#0d0887"
             ],
             [
              0.1111111111111111,
              "#46039f"
             ],
             [
              0.2222222222222222,
              "#7201a8"
             ],
             [
              0.3333333333333333,
              "#9c179e"
             ],
             [
              0.4444444444444444,
              "#bd3786"
             ],
             [
              0.5555555555555556,
              "#d8576b"
             ],
             [
              0.6666666666666666,
              "#ed7953"
             ],
             [
              0.7777777777777778,
              "#fb9f3a"
             ],
             [
              0.8888888888888888,
              "#fdca26"
             ],
             [
              1,
              "#f0f921"
             ]
            ],
            "type": "histogram2dcontour"
           }
          ],
          "mesh3d": [
           {
            "colorbar": {
             "outlinewidth": 0,
             "ticks": ""
            },
            "type": "mesh3d"
           }
          ],
          "parcoords": [
           {
            "line": {
             "colorbar": {
              "outlinewidth": 0,
              "ticks": ""
             }
            },
            "type": "parcoords"
           }
          ],
          "pie": [
           {
            "automargin": true,
            "type": "pie"
           }
          ],
          "scatter": [
           {
            "fillpattern": {
             "fillmode": "overlay",
             "size": 10,
             "solidity": 0.2
            },
            "type": "scatter"
           }
          ],
          "scatter3d": [
           {
            "line": {
             "colorbar": {
              "outlinewidth": 0,
              "ticks": ""
             }
            },
            "marker": {
             "colorbar": {
              "outlinewidth": 0,
              "ticks": ""
             }
            },
            "type": "scatter3d"
           }
          ],
          "scattercarpet": [
           {
            "marker": {
             "colorbar": {
              "outlinewidth": 0,
              "ticks": ""
             }
            },
            "type": "scattercarpet"
           }
          ],
          "scattergeo": [
           {
            "marker": {
             "colorbar": {
              "outlinewidth": 0,
              "ticks": ""
             }
            },
            "type": "scattergeo"
           }
          ],
          "scattergl": [
           {
            "marker": {
             "colorbar": {
              "outlinewidth": 0,
              "ticks": ""
             }
            },
            "type": "scattergl"
           }
          ],
          "scattermap": [
           {
            "marker": {
             "colorbar": {
              "outlinewidth": 0,
              "ticks": ""
             }
            },
            "type": "scattermap"
           }
          ],
          "scattermapbox": [
           {
            "marker": {
             "colorbar": {
              "outlinewidth": 0,
              "ticks": ""
             }
            },
            "type": "scattermapbox"
           }
          ],
          "scatterpolar": [
           {
            "marker": {
             "colorbar": {
              "outlinewidth": 0,
              "ticks": ""
             }
            },
            "type": "scatterpolar"
           }
          ],
          "scatterpolargl": [
           {
            "marker": {
             "colorbar": {
              "outlinewidth": 0,
              "ticks": ""
             }
            },
            "type": "scatterpolargl"
           }
          ],
          "scatterternary": [
           {
            "marker": {
             "colorbar": {
              "outlinewidth": 0,
              "ticks": ""
             }
            },
            "type": "scatterternary"
           }
          ],
          "surface": [
           {
            "colorbar": {
             "outlinewidth": 0,
             "ticks": ""
            },
            "colorscale": [
             [
              0,
              "#0d0887"
             ],
             [
              0.1111111111111111,
              "#46039f"
             ],
             [
              0.2222222222222222,
              "#7201a8"
             ],
             [
              0.3333333333333333,
              "#9c179e"
             ],
             [
              0.4444444444444444,
              "#bd3786"
             ],
             [
              0.5555555555555556,
              "#d8576b"
             ],
             [
              0.6666666666666666,
              "#ed7953"
             ],
             [
              0.7777777777777778,
              "#fb9f3a"
             ],
             [
              0.8888888888888888,
              "#fdca26"
             ],
             [
              1,
              "#f0f921"
             ]
            ],
            "type": "surface"
           }
          ],
          "table": [
           {
            "cells": {
             "fill": {
              "color": "#EBF0F8"
             },
             "line": {
              "color": "white"
             }
            },
            "header": {
             "fill": {
              "color": "#C8D4E3"
             },
             "line": {
              "color": "white"
             }
            },
            "type": "table"
           }
          ]
         },
         "layout": {
          "annotationdefaults": {
           "arrowcolor": "#2a3f5f",
           "arrowhead": 0,
           "arrowwidth": 1
          },
          "autotypenumbers": "strict",
          "coloraxis": {
           "colorbar": {
            "outlinewidth": 0,
            "ticks": ""
           }
          },
          "colorscale": {
           "diverging": [
            [
             0,
             "#8e0152"
            ],
            [
             0.1,
             "#c51b7d"
            ],
            [
             0.2,
             "#de77ae"
            ],
            [
             0.3,
             "#f1b6da"
            ],
            [
             0.4,
             "#fde0ef"
            ],
            [
             0.5,
             "#f7f7f7"
            ],
            [
             0.6,
             "#e6f5d0"
            ],
            [
             0.7,
             "#b8e186"
            ],
            [
             0.8,
             "#7fbc41"
            ],
            [
             0.9,
             "#4d9221"
            ],
            [
             1,
             "#276419"
            ]
           ],
           "sequential": [
            [
             0,
             "#0d0887"
            ],
            [
             0.1111111111111111,
             "#46039f"
            ],
            [
             0.2222222222222222,
             "#7201a8"
            ],
            [
             0.3333333333333333,
             "#9c179e"
            ],
            [
             0.4444444444444444,
             "#bd3786"
            ],
            [
             0.5555555555555556,
             "#d8576b"
            ],
            [
             0.6666666666666666,
             "#ed7953"
            ],
            [
             0.7777777777777778,
             "#fb9f3a"
            ],
            [
             0.8888888888888888,
             "#fdca26"
            ],
            [
             1,
             "#f0f921"
            ]
           ],
           "sequentialminus": [
            [
             0,
             "#0d0887"
            ],
            [
             0.1111111111111111,
             "#46039f"
            ],
            [
             0.2222222222222222,
             "#7201a8"
            ],
            [
             0.3333333333333333,
             "#9c179e"
            ],
            [
             0.4444444444444444,
             "#bd3786"
            ],
            [
             0.5555555555555556,
             "#d8576b"
            ],
            [
             0.6666666666666666,
             "#ed7953"
            ],
            [
             0.7777777777777778,
             "#fb9f3a"
            ],
            [
             0.8888888888888888,
             "#fdca26"
            ],
            [
             1,
             "#f0f921"
            ]
           ]
          },
          "colorway": [
           "#636efa",
           "#EF553B",
           "#00cc96",
           "#ab63fa",
           "#FFA15A",
           "#19d3f3",
           "#FF6692",
           "#B6E880",
           "#FF97FF",
           "#FECB52"
          ],
          "font": {
           "color": "#2a3f5f"
          },
          "geo": {
           "bgcolor": "white",
           "lakecolor": "white",
           "landcolor": "#E5ECF6",
           "showlakes": true,
           "showland": true,
           "subunitcolor": "white"
          },
          "hoverlabel": {
           "align": "left"
          },
          "hovermode": "closest",
          "mapbox": {
           "style": "light"
          },
          "paper_bgcolor": "white",
          "plot_bgcolor": "#E5ECF6",
          "polar": {
           "angularaxis": {
            "gridcolor": "white",
            "linecolor": "white",
            "ticks": ""
           },
           "bgcolor": "#E5ECF6",
           "radialaxis": {
            "gridcolor": "white",
            "linecolor": "white",
            "ticks": ""
           }
          },
          "scene": {
           "xaxis": {
            "backgroundcolor": "#E5ECF6",
            "gridcolor": "white",
            "gridwidth": 2,
            "linecolor": "white",
            "showbackground": true,
            "ticks": "",
            "zerolinecolor": "white"
           },
           "yaxis": {
            "backgroundcolor": "#E5ECF6",
            "gridcolor": "white",
            "gridwidth": 2,
            "linecolor": "white",
            "showbackground": true,
            "ticks": "",
            "zerolinecolor": "white"
           },
           "zaxis": {
            "backgroundcolor": "#E5ECF6",
            "gridcolor": "white",
            "gridwidth": 2,
            "linecolor": "white",
            "showbackground": true,
            "ticks": "",
            "zerolinecolor": "white"
           }
          },
          "shapedefaults": {
           "line": {
            "color": "#2a3f5f"
           }
          },
          "ternary": {
           "aaxis": {
            "gridcolor": "white",
            "linecolor": "white",
            "ticks": ""
           },
           "baxis": {
            "gridcolor": "white",
            "linecolor": "white",
            "ticks": ""
           },
           "bgcolor": "#E5ECF6",
           "caxis": {
            "gridcolor": "white",
            "linecolor": "white",
            "ticks": ""
           }
          },
          "title": {
           "x": 0.05
          },
          "xaxis": {
           "automargin": true,
           "gridcolor": "white",
           "linecolor": "white",
           "ticks": "",
           "title": {
            "standoff": 15
           },
           "zerolinecolor": "white",
           "zerolinewidth": 2
          },
          "yaxis": {
           "automargin": true,
           "gridcolor": "white",
           "linecolor": "white",
           "ticks": "",
           "title": {
            "standoff": 15
           },
           "zerolinecolor": "white",
           "zerolinewidth": 2
          }
         }
        },
        "title": {
         "text": "Correlação entre Posse de Bola e Resultado do Mandante"
        },
        "xaxis": {
         "anchor": "y",
         "domain": [
          0,
          1
         ],
         "title": {
          "text": "Posse de Bola (%)"
         }
        },
        "yaxis": {
         "anchor": "x",
         "domain": [
          0,
          1
         ],
         "title": {
          "text": "Resultado (1=Vitória, 0=Empate, -1=Derrota)"
         }
        }
       }
      }
     },
     "metadata": {},
     "output_type": "display_data"
    }
   ],
   "source": [
    "\n",
    "# Gráfico 1 – Formações mais vitoriosas\n",
    "fig1 = px.bar(\n",
    "    formacao_por_clube.head(20),\n",
    "    x=\"formacao_mandante\",\n",
    "    y=\"vitorias\",\n",
    "    color=\"mandante\",\n",
    "    title=\"Top 20 Formações Mais Vitoriosas\"\n",
    ")\n",
    "fig1.show()\n",
    "\n",
    "# Gráfico 2 – Saldo de gols por clube\n",
    "fig2 = px.bar(\n",
    "    saldo_total.head(20),\n",
    "    x=\"clube\",\n",
    "    y=\"saldo_total\",\n",
    "    title=\"Top 20 Clubes com Maior Saldo de Gols\"\n",
    ")\n",
    "fig2.show()\n",
    "\n",
    "# Gráfico 3 – Adversários que mais venceram o algum time específico como mandante\n",
    "clube_input = widgets.Text(\n",
    "    value='Flamengo',\n",
    "    description='Clube:',\n",
    "    placeholder='Digite o nome do clube mandante'\n",
    ")\n",
    "\n",
    "def plot_derrotas_por_clube(clube):\n",
    "    \"\"\"    Plota os adversários que mais venceram o clube especificado como mandante.\n",
    "    Args:\n",
    "        clube (str): Nome do clube mandante.\n",
    "    Returns:\n",
    "        None: Exibe o gráfico interativo.   \n",
    "    \"\"\"\n",
    "    df_partidas_estatisticas[\"resultado_mandante\"] = (\n",
    "        df_partidas_estatisticas[\"mandante_Placar\"] - df_partidas_estatisticas[\"visitante_Placar\"]\n",
    "    ).apply(lambda x: 1 if x > 0 else (-1 if x < 0 else 0))\n",
    "\n",
    "    derrotas_df = df_partidas_estatisticas[\n",
    "        (df_partidas_estatisticas[\"mandante\"] == clube) & \n",
    "        (df_partidas_estatisticas[\"resultado_mandante\"] == -1)\n",
    "    ]\n",
    "\n",
    "    top_adversarios = (\n",
    "        derrotas_df.groupby(\"visitante\")\n",
    "        .size()\n",
    "        .reset_index(name=\"derrotas\")\n",
    "        .sort_values(\"derrotas\", ascending=False)\n",
    "        .head(10)\n",
    "    )\n",
    "\n",
    "    if top_adversarios.empty:\n",
    "        print(f\"Nenhuma derrota encontrada para {clube} como mandante.\")\n",
    "        return\n",
    "\n",
    "    fig3 = px.bar(\n",
    "        top_adversarios,\n",
    "        x=\"visitante\",\n",
    "        y=\"derrotas\",\n",
    "        title=f\"Adversários que Mais Venceram o {clube} (como mandante)\"\n",
    "    )\n",
    "    fig3.show()\n",
    "\n",
    "\n",
    "widgets.interact(plot_derrotas_por_clube, clube=clube_input)\n",
    "\n",
    "# Gráfico 4 – Cartões por jogador e posição (interativo)\n",
    "atleta_selector = widgets.Dropdown(\n",
    "    options=cartoes_por_posicao[\"atleta\"].unique(),\n",
    "    description=\"Atleta:\"\n",
    ")\n",
    "\n",
    "def show_cartoes_por_atleta(atleta_nome):\n",
    "    \"\"\" Exibe um gráfico de barras com a quantidade de cartões amarelos e vermelhos recebidos por um atleta específico.\n",
    "    Args:\n",
    "        atleta_nome (str): Nome do atleta selecionado.\n",
    "    Returns:\n",
    "        None: Exibe o gráfico interativo.\n",
    "    \"\"\"\n",
    "    df = cartoes_por_posicao[cartoes_por_posicao[\"atleta\"] == atleta_nome]\n",
    "    if not df.empty:\n",
    "        fig = go.Figure(data=[\n",
    "            go.Bar(name='Amarelo', x=[atleta_nome], y=[df[\"Amarelo\"].values[0]]),\n",
    "            go.Bar(name='Vermelho', x=[atleta_nome], y=[df[\"Vermelho\"].values[0]])\n",
    "        ])\n",
    "        fig.update_layout(title=f\"Cartões de {atleta_nome}\", barmode='group')\n",
    "        fig.show()\n",
    "\n",
    "widgets.interact(show_cartoes_por_atleta, atleta_nome=atleta_selector)\n",
    "\n",
    "# Gráfico 5 –Selecionar os 5 clubes com mais gols no total\n",
    "top_clubes = tipos_gol_por_clube.sum(axis=1).sort_values(ascending=False).head(5).index\n",
    "df_top_gols = tipos_gol_por_clube.loc[top_clubes]\n",
    "\n",
    "# Cria figura com barras horizontais\n",
    "fig5 = go.Figure()\n",
    "\n",
    "for tipo in df_top_gols.columns:\n",
    "    fig5.add_trace(go.Bar(\n",
    "        y=df_top_gols.index,\n",
    "        x=df_top_gols[tipo],\n",
    "        name=tipo,\n",
    "        orientation='h'\n",
    "    ))\n",
    "\n",
    "fig5.update_layout(\n",
    "    barmode='stack',\n",
    "    title=\"Distribuição de Tipos de Gol por Clube (Top 5)\",\n",
    "    xaxis_title=\"Porcentagem (%)\",\n",
    "    yaxis_title=\"Clube\",\n",
    "    height=400\n",
    ")\n",
    "\n",
    "fig5.show()\n",
    "\n",
    "\n",
    "# Gráfico 6 – Jogadores com mais gols contra\n",
    "fig6 = px.bar(\n",
    "    resultado_gols_contra.head(10),\n",
    "    x=\"atleta\",\n",
    "    y=\"gols_contra\",\n",
    "    title=\"Top 10 Jogadores com Mais Gols Contra\"\n",
    ")\n",
    "fig6.show()\n",
    "\n",
    "# Gráfico 7 – Gols de penalty por clube\n",
    "fig7 = px.bar(\n",
    "    gols_de_penalti.head(20),\n",
    "    x=\"clube\",\n",
    "    y=\"gols_de_penalty\",\n",
    "    title=\"Top 20 Clubes com Mais Gols de Penalty\"\n",
    ")\n",
    "fig7.show()\n",
    "\n",
    "# Gráfico 8 – Relação entre posse de bola e vitória.\n",
    "resultado_posse[\"mandante_posse_de_bola\"] = resultado_posse[\"mandante_posse_de_bola\"].str.replace(\"%\", \"\").astype(float)\n",
    "\n",
    "fig8 = px.scatter(\n",
    "    resultado_posse,\n",
    "    x=\"mandante_posse_de_bola\",\n",
    "    y=\"resultado_mandante\",\n",
    "    trendline=\"ols\",\n",
    "    title=\"Correlação entre Posse de Bola e Resultado do Mandante\",\n",
    "    labels={\n",
    "        \"mandante_posse_de_bola\": \"Posse de Bola (%)\",\n",
    "        \"resultado_mandante\": \"Resultado (1=Vitória, 0=Empate, -1=Derrota)\"\n",
    "    }\n",
    ")\n",
    "fig8.show()\n"
   ]
  }
 ],
 "metadata": {
  "colab": {
   "provenance": []
  },
  "kernelspec": {
   "display_name": ".venv",
   "language": "python",
   "name": "python3"
  },
  "language_info": {
   "codemirror_mode": {
    "name": "ipython",
    "version": 3
   },
   "file_extension": ".py",
   "mimetype": "text/x-python",
   "name": "python",
   "nbconvert_exporter": "python",
   "pygments_lexer": "ipython3",
   "version": "3.13.3"
  }
 },
 "nbformat": 4,
 "nbformat_minor": 4
}
