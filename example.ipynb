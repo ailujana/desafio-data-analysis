{
 "cells": [
  {
   "cell_type": "markdown",
   "metadata": {},
   "source": [
    "## Executando este notebook\n",
    "\n",
    "\n",
    "Na primeira vez, será necessário criar um ambiente virtual para o python. Uma das formas é utilizando o `venv`\n",
    "\n",
    "```bash\n",
    "python3 -m venv .venv\n",
    "```\n",
    "\n",
    "Posteriormente, basta ativar o ambiente e instalar dependências\n",
    "\n",
    "```bash\n",
    "source .venv/bin/activate\n",
    "pip3 install jupyter pandas pandasql\n",
    "```\n",
    "\n",
    "Agora basta iniciar o jupyter notebook quando desejado! Lembrando que é necessário que o ambiente virtual tenha sido ativado previamente.\n",
    "```bash\n",
    "jupyter notebook\n",
    "```"
   ]
  },
  {
   "cell_type": "markdown",
   "metadata": {
    "id": "Vn9SdorTzzzR"
   },
   "source": [
    "## Exemplo de importação de dados"
   ]
  },
  {
   "cell_type": "code",
   "execution_count": null,
   "metadata": {},
   "outputs": [],
   "source": [
    "dataset_path = '../Brasileirao_Dataset'"
   ]
  },
  {
   "cell_type": "code",
   "execution_count": null,
   "metadata": {
    "colab": {
     "base_uri": "https://localhost:8080/",
     "height": 1000
    },
    "id": "wGWLxZ3zvMMH",
    "outputId": "417b7f80-f6ea-433e-e731-d5fad2acfb9d"
   },
   "outputs": [],
   "source": [
    "import pandas as pd\n",
    "\n",
    "df_full = pd.read_csv(dataset_path + '/campeonato-brasileiro-full.csv')\n",
    "\n",
    "display(df_full.head())\n",
    "df_full.info()\n",
    "\n",
    "df_est = pd.read_csv(dataset_path + '/campeonato-brasileiro-estatisticas-full.csv')\n",
    "\n",
    "display(df_est.head())\n",
    "df_est.info()"
   ]
  },
  {
   "cell_type": "markdown",
   "metadata": {
    "id": "gNr43Qckz4DN"
   },
   "source": [
    "## Exemplo de limpeza e pré-processamento de dados"
   ]
  },
  {
   "cell_type": "code",
   "execution_count": null,
   "metadata": {
    "id": "nYqISRVUzKC_"
   },
   "outputs": [],
   "source": [
    "df_full['data'] = pd.to_datetime(df_full['data'], format='%d/%m/%Y', errors='coerce')\n",
    "df_full['hora'] = pd.to_datetime(df_full['hora'], format='%H:%M', errors='coerce').dt.time"
   ]
  },
  {
   "cell_type": "markdown",
   "metadata": {
    "id": "96dxy9Bj0APa"
   },
   "source": [
    "## Exemplo de query SQL em Dataframe"
   ]
  },
  {
   "cell_type": "code",
   "execution_count": null,
   "metadata": {
    "colab": {
     "base_uri": "https://localhost:8080/"
    },
    "id": "cjKLSZVkx51V",
    "outputId": "dc0a92ab-a142-4bfd-9297-7fec3c84b380"
   },
   "outputs": [],
   "source": [
    "from pandasql import sqldf\n",
    "\n",
    "pysqldf = lambda q: sqldf(q, globals())\n",
    "\n",
    "# Exemplo de query: listar partidas onde mandante venceu por mais de 2 gols\n",
    "query = \"\"\"\n",
    "SELECT ID, data, mandante, visitante, mandante_Placar, visitante_Placar\n",
    "FROM df_full\n",
    "WHERE (mandante_Placar - visitante_Placar) > 2\n",
    "ORDER BY data DESC\n",
    "LIMIT 10;\n",
    "\"\"\"\n",
    "\n",
    "result = pysqldf(query)\n",
    "print(result)"
   ]
  }
 ],
 "metadata": {
  "colab": {
   "provenance": []
  },
  "kernelspec": {
   "display_name": "Python 3",
   "language": "python",
   "name": "python3"
  },
  "language_info": {
   "codemirror_mode": {
    "name": "ipython",
    "version": 3
   },
   "file_extension": ".py",
   "mimetype": "text/x-python",
   "name": "python",
   "nbconvert_exporter": "python",
   "pygments_lexer": "ipython3",
   "version": "3.12.9"
  }
 },
 "nbformat": 4,
 "nbformat_minor": 4
}
